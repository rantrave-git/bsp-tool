{
 "cells": [
  {
   "cell_type": "code",
   "execution_count": 25,
   "metadata": {},
   "outputs": [],
   "source": [
    "import bpy\n",
    "import bmesh\n",
    "import socket\n",
    "import struct\n",
    "import threading\n",
    "\n",
    "\n",
    "vx_type = \"3fi\"\n",
    "cr_type = \"2f2f4fi\"\n",
    "fc_type = \"qiii\"\n",
    "\n",
    "\n",
    "def list_unpack(buf, element):\n",
    "    sz = struct.calcsize(element)\n",
    "    l = len(buf) // sz\n",
    "    return [struct.unpack(element, buf[x * sz:(x+1) * sz]) for x in range(l)]\n",
    "\n",
    "def read_int(stream):\n",
    "    l, *_ = struct.unpack(\"i\", stream.recv(4))\n",
    "    print(f\"Int: {l}\")\n",
    "    return l\n",
    "\n",
    "def read_array(stream, element, max_buffer_size=4096):\n",
    "    element_size = struct.calcsize(element)\n",
    "    step = max_buffer_size // element_size\n",
    "    l, *_ = struct.unpack(\"i\", stream.recv(4))\n",
    "    to_recv = l * element_size\n",
    "    print(f\"len {l}\")\n",
    "    data = b''\n",
    "    i = 0\n",
    "    while True:\n",
    "        frag = stream.recv(min(max_buffer_size, to_recv))\n",
    "        print(f\"frag {len(frag)}\")\n",
    "        if len(frag) == 0:\n",
    "            break\n",
    "        data += frag\n",
    "        i += len(frag) // element_size\n",
    "        to_recv -= len(frag)\n",
    "        if i >= l:\n",
    "            break\n",
    "    return data\n",
    "\n",
    "def write_array(stream, element, values, max_buffer_size=4096):\n",
    "    element_size = struct.calcsize(element)\n",
    "    step = max_buffer_size // element_size\n",
    "    stream.sendall(struct.pack(\"i\", len(values)))\n",
    "    buf = b''.join((struct.pack(element, *x) for x in values))\n",
    "    totalsent = 0\n",
    "    while totalsent < len(buf):\n",
    "        sent = stream.send(buf[totalsent:])\n",
    "        if sent == 0:\n",
    "            raise RuntimeError(\"socket connection broken\")\n",
    "        totalsent = totalsent + sent\n",
    "\n",
    "def read_mesh(stream):\n",
    "    vx = list_unpack(read_array(stream, vx_type), vx_type)\n",
    "    cr = list_unpack(read_array(stream, cr_type), cr_type)\n",
    "    fc = list_unpack(read_array(stream, fc_type), fc_type)\n",
    "    return (vx, cr, fc)\n",
    "\n",
    "def write_mesh(stream, mesh):\n",
    "    (vx, cr, fc) = mesh\n",
    "    write_array(stream, vx_type, vx)\n",
    "    write_array(stream, cr_type, cr)\n",
    "    write_array(stream, fc_type, fc)\n",
    "\n",
    "\n",
    "class commands:\n",
    "    Brushify = 4\n",
    "\n",
    "def read_header(stream):\n",
    "    code, *_ = struct.unpack(\"i\", stream.recv(4))\n",
    "    print(f\"code {code}\")\n",
    "    if code != 0:\n",
    "        raise ValueError()\n",
    "\n",
    "def write_header(stream, code):\n",
    "    stream.sendall(struct.pack(\"i\", code))\n",
    "\n",
    "def make_bmesh(mesh):\n",
    "    (verts, corners, faces) = mesh\n",
    "    m = bmesh.new()\n",
    "    vflags = m.verts.layers.int.new(\"vflags\")\n",
    "    for x in verts:\n",
    "        v = m.verts.new(x[0:3])\n",
    "        v[vflags] = x[3]\n",
    "    m.verts.ensure_lookup_table()\n",
    "    uv = m.loops.layers.uv.new('uv')\n",
    "    lm = m.loops.layers.uv.new('lm')\n",
    "    col =  m.loops.layers.float_color.new('color')\n",
    "    flags = m.faces.layers.int.new(\"flags\")\n",
    "    flags_hi = m.faces.layers.int.new(\"flags_hi\")\n",
    "    for x in faces:\n",
    "        corns = corners[x[1]:x[1]+x[2]]\n",
    "        faceverts = [m.verts[x[8]] for x in corns]\n",
    "        f = m.faces.new(faceverts)\n",
    "        f.material_index = x[3]\n",
    "        f[flags] = x[0] & 0xFFFFFFFF\n",
    "        f[flags_hi] = (x[0] >> 32) & 0xFFFFFFFF\n",
    "        for i, c in enumerate(corns):\n",
    "            f.loops[i][uv].uv = c[0:2]\n",
    "            f.loops[i][lm].uv = c[2:4]\n",
    "            f.loops[i][col] = c[4:8]\n",
    "    m.faces.ensure_lookup_table()\n",
    "    return m\n",
    "\n",
    "def object_to_mesh(obj):\n",
    "    if obj.type != \"MESH\": raise TypeError(f\"Invalid object type: {obj.type}\")\n",
    "    m = bmesh.new()\n",
    "    m.from_mesh(obj.data)\n",
    "    m.verts.ensure_lookup_table()\n",
    "    m.faces.ensure_lookup_table()\n",
    "    vflags = m.verts.layers.int.get(\"vflags\")\n",
    "    uv = m.loops.layers.uv.get('uv')\n",
    "    lm = m.loops.layers.uv.get('lm')\n",
    "    col =  m.loops.layers.float_color.get('color')\n",
    "    flags = m.faces.layers.int.get(\"flags\")\n",
    "    flags_hi = m.faces.layers.int.get(\"flags_hi\")\n",
    "    vx = []\n",
    "    for x in m.verts:\n",
    "        vx.append((*x.co, x[vflags] if vflags is not None else 0))\n",
    "    cr = []\n",
    "    fc = []\n",
    "    for f in m.faces:\n",
    "        n = len(cr)\n",
    "        nn = len(f.verts)\n",
    "        for i, v in enumerate(f.verts):\n",
    "            cr.append((\n",
    "                *(f.loops[i][uv].uv if uv is not None else (0.0, 0.0)),\n",
    "                *(f.loops[i][lm].uv if lm is not None else (0.0, 0.0)),\n",
    "                *(f.loops[i][col] if col is not None else (0.0, 0.0, 0.0, 0.0)),\n",
    "                v.index\n",
    "            ))\n",
    "        fhi = f[flags_hi] if flags_hi is not None else 0\n",
    "        flo = f[flags] if flags is not None else 0\n",
    "        fc.append(((fhi << 32) | flo, n, nn, f.material_index))\n",
    "    return (vx, cr, fc)\n",
    "\n",
    "def create_collection(name):\n",
    "    col = bpy.data.collections.new(name)\n",
    "    bpy.context.scene.collection.children.link(col)\n",
    "    return col\n",
    "\n",
    "def add_to_collection(col, name, mesh):\n",
    "    m = bpy.data.meshes.new(name)\n",
    "    mesh.to_mesh(m)\n",
    "    o = bpy.data.objects.new(name, m)\n",
    "    col.objects.link(o)\n",
    "    return o\n",
    "\n",
    "def request(code, send, process):\n",
    "    with socket.socket(socket.AF_INET, socket.SOCK_STREAM) as s:\n",
    "        s.connect((\"127.0.0.1\", 2232))\n",
    "        write_header(s, code)\n",
    "        send(s)\n",
    "        return process(s)\n",
    "\n",
    "def request_brushify(obj):\n",
    "    col = create_collection(f\"{obj.name}_brushes\")\n",
    "    m = object_to_mesh(obj)\n",
    "    def process(stream):\n",
    "        read_header(stream)\n",
    "        num = read_int(stream)\n",
    "        for i in range(num):\n",
    "            m = read_mesh(stream)\n",
    "            add_to_collection(col, f\"brush-{i}\", make_bmesh(m))\n",
    "    request(commands.Brushify, lambda s: write_mesh(s, m), process)\n",
    "\n",
    "\n",
    "def listen_socket(port, collection, cancellation_token):\n",
    "    with socket.socket(socket.AF_INET, socket.SOCK_STREAM) as s:\n",
    "        s.bind((\"127.0.0.1\", port))\n",
    "        s.listen()\n",
    "        while cancellation_token[0]:\n",
    "            conn, addr = s.accept()\n",
    "            with conn:\n",
    "                read_header(conn)\n",
    "                data = read_mesh(conn)\n",
    "                print(len(data))\n",
    "                print(len(data[0]), len(data[1]), len(data[2]))\n",
    "                add_to_collection(collection, \"mesh\", make_bmesh(data))\n",
    "\n",
    "def listen_for_polys(port, collection):\n",
    "    cancellation_token = [True]\n",
    "    t = threading.Thread(target=listen_socket, args=(port, collection, cancellation_token))\n",
    "    t.start()\n",
    "    return t, cancellation_token\n",
    "\n",
    "class BSP_OP_BrushifyFaces(bpy.types.Operator):\n",
    "    bl_idname = \"bsp.brushify_faces\"\n",
    "    bl_label = \"Brushify\"\n",
    "    bl_description = \"Brushify.\"\n",
    "    bl_options = {'REGISTER', 'INTERNAL'}\n",
    "    @classmethod\n",
    "    def poll(cls, context):\n",
    "        return context.object is not None and context.object.type == \"MESH\"\n",
    "    def execute(self, context):\n",
    "        request_brushify(context.object)\n",
    "        return {'FINISHED'}\n",
    "\n",
    "class BSP_PT_ScenePanel(bpy.types.Panel):\n",
    "    bl_space_type = 'PROPERTIES'\n",
    "    bl_region_type = 'WINDOW'\n",
    "    bl_context = \"object\"\n",
    "    bl_label = \"BSP\"\n",
    "    def draw(self, context):\n",
    "        layout = self.layout\n",
    "        layout.operator(BSP_OP_BrushifyFaces.bl_idname, icon='MOD_EXPLODE', text='')\n",
    "\n",
    "classes = [\n",
    "    BSP_OP_BrushifyFaces,\n",
    "    BSP_PT_ScenePanel,\n",
    "]\n",
    "props = []\n",
    "\n",
    "def register():\n",
    "    for cls in classes:\n",
    "        bpy.utils.register_class(cls)\n",
    "\n",
    "def unregister():\n",
    "    for c in classes:\n",
    "        clst = c.__bases__[0].bl_rna_get_subclass_py(c.__name__)\n",
    "        if clst:\n",
    "            bpy.utils.unregister_class(clst)\n",
    "\n",
    "if __name__ == '__main__':\n",
    "    unregister()\n",
    "    register()"
   ]
  },
  {
   "cell_type": "code",
   "execution_count": 38,
   "metadata": {},
   "outputs": [],
   "source": [
    "request_brushify(bpy.data.objects[\"Cube\"])"
   ]
  },
  {
   "cell_type": "code",
   "execution_count": 39,
   "metadata": {},
   "outputs": [],
   "source": [
    "ss = _"
   ]
  },
  {
   "cell_type": "code",
   "execution_count": null,
   "metadata": {},
   "outputs": [],
   "source": [
    "def request_brushify(mesh):\n",
    "    "
   ]
  },
  {
   "cell_type": "code",
   "execution_count": 3,
   "metadata": {},
   "outputs": [],
   "source": [
    "c = create_collection(\"polys_debug\")"
   ]
  },
  {
   "cell_type": "code",
   "execution_count": 8,
   "metadata": {},
   "outputs": [
    {
     "name": "stderr",
     "output_type": "stream",
     "text": [
      "Exception in thread Thread-5 (listen_socket):\n",
      "Traceback (most recent call last):\n",
      "  File \"/home/rantrave/miniconda3/envs/bpy/lib/python3.10/threading.py\", line 1009, in _bootstrap_inner\n",
      "    self.run()\n",
      "  File \"/home/rantrave/miniconda3/envs/bpy/lib/python3.10/threading.py\", line 946, in run\n",
      "    self._target(*self._args, **self._kwargs)\n",
      "  File \"/tmp/ipykernel_7081/2944978834.py\", line 14, in listen_socket\n",
      "  File \"/tmp/ipykernel_7081/1237257472.py\", line 27, in make_bmesh\n",
      "TypeError: expected BMLoopUV, not a tuple\n"
     ]
    },
    {
     "name": "stdout",
     "output_type": "stream",
     "text": [
      "code 0\n",
      "len 8\n",
      "frag 128\n",
      "len 24\n",
      "frag 864\n",
      "len 6\n",
      "frag 144\n",
      "3\n",
      "8 24 7\n",
      "[(-12.345678329467773, -12.359590530395508, -12.348592758178711, 0), (-12.345678329467773, -12.359590530395508, 12.345678329467773, 0), (-12.345678329467773, 12.345678329467773, 12.345678329467773, 0), (-12.345678329467773, 12.345678329467773, -12.348592758178711, 0), (37.05094909667969, -12.359590530395508, -12.348592758178711, 0), (37.05094909667969, 12.345678329467773, -12.348592758178711, 0), (37.05094909667969, 12.345678329467773, 12.345678329467773, 0), (37.05094909667969, -12.359590530395508, 12.345678329467773, 0)]\n",
      "[(0.0, 0.0, 0.0, 0.0, 1.0, 1.0, 1.0, 1.0, 1), (0.0, 0.0, 0.0, 0.0, 1.0, 1.0, 1.0, 1.0, 7), (0.0, 0.0, 0.0, 0.0, 1.0, 1.0, 1.0, 1.0, 6), (0.0, 0.0, 0.0, 0.0, 1.0, 1.0, 1.0, 1.0, 2), (0.0, 0.0, 0.0, 0.0, 0.0, 0.0, 0.0, 0.0, 0), (0.0, 0.0, 0.0, 0.0, 0.0, 0.0, 0.0, 0.0, 0), (0.0, 0.0, 0.0, 0.0, 0.0, 0.0, 0.0, 0.0, 0), (0.0, 0.0, 0.0, 0.0, 0.0, 0.0, 0.0, 0.0, 0), (0.0, 0.0, 0.0, 0.0, 0.0, 0.0, 0.0, 0.0, 0), (0.0, 0.0, 0.0, 0.0, 0.0, 0.0, 0.0, 0.0, 0), (0.0, 0.0, 0.0, 0.0, 0.0, 0.0, 0.0, 0.0, 0), (0.0, 0.0, 0.0, 0.0, 0.0, 0.0, 0.0, 0.0, 0), (0.0, 0.0, 0.0, 0.0, 0.0, 0.0, 0.0, 0.0, 0), (0.0, 0.0, 0.0, 0.0, 0.0, 0.0, 0.0, 0.0, 0), (0.0, 0.0, 0.0, 0.0, 0.0, 0.0, 0.0, 0.0, 0), (0.0, 0.0, 0.0, 0.0, 0.0, 0.0, 0.0, 0.0, 0), (0.0, 0.0, 0.0, 0.0, 0.0, 0.0, 0.0, 0.0, 0), (0.0, 0.0, 0.0, 0.0, 0.0, 0.0, 0.0, 0.0, 0), (0.0, 0.0, 0.0, 0.0, 0.0, 0.0, 0.0, 0.0, 0), (0.0, 0.0, 0.0, 0.0, 0.0, 0.0, 0.0, 0.0, 0), (0.0, 0.0, 0.0, 0.0, 0.0, 0.0, 0.0, 0.0, 0), (0.0, 0.0, 0.0, 0.0, 0.0, 0.0, 0.0, 0.0, 0), (0.0, 0.0, 0.0, 0.0, 0.0, 0.0, 0.0, 0.0, 0), (0.0, 0.0, 0.0, 0.0, 0.0, 0.0, 0.0, 0.0, 0)]\n",
      "[(0, 0, 4, 0), (0, 0, 4, 4), (0, 0, 0, 8), (4, 0, 0, 0), (17179869196, 0, 0, 0), (68719476736, 4, 0, 0), (0, 20, 4, 0)]\n",
      "(-12.345678329467773, -12.359590530395508, -12.348592758178711, 0)\n",
      "(-12.345678329467773, -12.359590530395508, 12.345678329467773, 0)\n",
      "(-12.345678329467773, 12.345678329467773, 12.345678329467773, 0)\n",
      "(-12.345678329467773, 12.345678329467773, -12.348592758178711, 0)\n",
      "(37.05094909667969, -12.359590530395508, -12.348592758178711, 0)\n",
      "(37.05094909667969, 12.345678329467773, -12.348592758178711, 0)\n",
      "(37.05094909667969, 12.345678329467773, 12.345678329467773, 0)\n",
      "(37.05094909667969, -12.359590530395508, 12.345678329467773, 0)\n",
      "[(0.0, 0.0, 0.0, 0.0, 1.0, 1.0, 1.0, 1.0, 1), (0.0, 0.0, 0.0, 0.0, 1.0, 1.0, 1.0, 1.0, 7), (0.0, 0.0, 0.0, 0.0, 1.0, 1.0, 1.0, 1.0, 6), (0.0, 0.0, 0.0, 0.0, 1.0, 1.0, 1.0, 1.0, 2)]\n"
     ]
    }
   ],
   "source": [
    "t, canc = listen_for_polys(22332, c)"
   ]
  },
  {
   "cell_type": "code",
   "execution_count": 9,
   "metadata": {},
   "outputs": [
    {
     "data": {
      "text/plain": [
       "False"
      ]
     },
     "execution_count": 9,
     "metadata": {},
     "output_type": "execute_result"
    }
   ],
   "source": []
  },
  {
   "cell_type": "code",
   "execution_count": 12,
   "metadata": {},
   "outputs": [
    {
     "data": {
      "text/plain": [
       "bpy.data.collections['polys_debug'].all_objects"
      ]
     },
     "execution_count": 12,
     "metadata": {},
     "output_type": "execute_result"
    }
   ],
   "source": [
    "c.all_objects"
   ]
  },
  {
   "cell_type": "code",
   "execution_count": 14,
   "metadata": {},
   "outputs": [
    {
     "data": {
      "text/plain": [
       "False"
      ]
     },
     "execution_count": 14,
     "metadata": {},
     "output_type": "execute_result"
    }
   ],
   "source": [
    "t.is_alive()"
   ]
  },
  {
   "cell_type": "code",
   "execution_count": 30,
   "metadata": {},
   "outputs": [],
   "source": [
    "tt = threading.enumerate()[3]"
   ]
  },
  {
   "cell_type": "code",
   "execution_count": 31,
   "metadata": {},
   "outputs": [
    {
     "data": {
      "text/plain": [
       "True"
      ]
     },
     "execution_count": 31,
     "metadata": {},
     "output_type": "execute_result"
    }
   ],
   "source": []
  },
  {
   "cell_type": "code",
   "execution_count": null,
   "metadata": {},
   "outputs": [],
   "source": []
  },
  {
   "cell_type": "code",
   "execution_count": 3,
   "metadata": {},
   "outputs": [
    {
     "ename": "ConnectionRefusedError",
     "evalue": "[Errno 111] Connection refused",
     "output_type": "error",
     "traceback": [
      "\u001b[0;31m---------------------------------------------------------------------------\u001b[0m",
      "\u001b[0;31mConnectionRefusedError\u001b[0m                    Traceback (most recent call last)",
      "Cell \u001b[0;32mIn[3], line 2\u001b[0m\n\u001b[1;32m      1\u001b[0m \u001b[38;5;28;01mwith\u001b[39;00m socket\u001b[38;5;241m.\u001b[39msocket(socket\u001b[38;5;241m.\u001b[39mAF_INET, socket\u001b[38;5;241m.\u001b[39mSOCK_STREAM) \u001b[38;5;28;01mas\u001b[39;00m s:\n\u001b[0;32m----> 2\u001b[0m     \u001b[43ms\u001b[49m\u001b[38;5;241;43m.\u001b[39;49m\u001b[43mconnect\u001b[49m\u001b[43m(\u001b[49m\u001b[43m(\u001b[49m\u001b[38;5;124;43m\"\u001b[39;49m\u001b[38;5;124;43m127.0.0.1\u001b[39;49m\u001b[38;5;124;43m\"\u001b[39;49m\u001b[43m,\u001b[49m\u001b[43m \u001b[49m\u001b[38;5;241;43m2232\u001b[39;49m\u001b[43m)\u001b[49m\u001b[43m)\u001b[49m\n\u001b[1;32m      3\u001b[0m     s\u001b[38;5;241m.\u001b[39msendall(struct\u001b[38;5;241m.\u001b[39mpack(\u001b[38;5;124m\"\u001b[39m\u001b[38;5;124mi\u001b[39m\u001b[38;5;124m\"\u001b[39m, \u001b[38;5;241m3\u001b[39m))\n\u001b[1;32m      4\u001b[0m     data \u001b[38;5;241m=\u001b[39m get_mesh(s)\n",
      "\u001b[0;31mConnectionRefusedError\u001b[0m: [Errno 111] Connection refused"
     ]
    }
   ],
   "source": [
    "with socket.socket(socket.AF_INET, socket.SOCK_STREAM) as s:\n",
    "    s.connect((\"127.0.0.1\", 2232))\n",
    "    s.sendall(struct.pack(\"i\", 3))\n",
    "    data = get_mesh(s)"
   ]
  }
 ],
 "metadata": {
  "kernelspec": {
   "display_name": "bpy",
   "language": "python",
   "name": "python3"
  },
  "language_info": {
   "codemirror_mode": {
    "name": "ipython",
    "version": 3
   },
   "file_extension": ".py",
   "mimetype": "text/x-python",
   "name": "python",
   "nbconvert_exporter": "python",
   "pygments_lexer": "ipython3",
   "version": "3.10.4"
  }
 },
 "nbformat": 4,
 "nbformat_minor": 2
}
