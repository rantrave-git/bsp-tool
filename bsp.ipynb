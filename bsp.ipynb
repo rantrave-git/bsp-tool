{
 "cells": [
  {
   "cell_type": "code",
   "execution_count": 65,
   "metadata": {},
   "outputs": [
    {
     "name": "stdout",
     "output_type": "stream",
     "text": [
      "All tests: \u001b[32mPASSED\u001b[0m\n"
     ]
    }
   ],
   "source": [
    "from bsp_file import bspfile, test as bsp_test, face\n",
    "import numpy as np\n",
    "bsp_test()"
   ]
  },
  {
   "cell_type": "code",
   "execution_count": 66,
   "metadata": {},
   "outputs": [],
   "source": [
    "mapfile = \"/home/rantrave/Downloads/testql.bsp\"\n",
    "mapfile = \"/home/rantrave/.q3a/baseq3/maps/pamka.bsp\"\n",
    "mapfile = \"/home/rantrave/games/Quake3/defrag/maps/falos-principle.bsp\"\n",
    "mapfile2 = \"/home/rantrave/Downloads/harebunn3.bsp\"\n",
    "mapfile = \"/home/rantrave/Downloads/biotrix-lostindf.bsp\"\n",
    "mapfile = \"/home/rantrave/games/Quake3/defrag/maps/redblue2.bsp\"\n",
    "mapfile = \"/home/rantrave/Downloads/biotrix-h1/maps/biotrix-h1.bsp\"\n",
    "mapfile2 = \"/home/rantrave/games/Quake3/defrag/maps/biotrix-h1.bsp\"\n",
    "mapfile = \"/home/rantrave/games/defrag/defrag/kragle-quik1/maps/kragle-quik1.bsp\"\n",
    "mapfile = \"/home/rantrave/games/Quake3/baseq3/maps/port1.bsp\""
   ]
  },
  {
   "cell_type": "code",
   "execution_count": 67,
   "metadata": {},
   "outputs": [],
   "source": [
    "with open(mapfile, \"rb\") as f:\n",
    "    map = f.read()\n",
    "# with open(mapfile2, \"rb\") as f:\n",
    "#     map2 = f.read()"
   ]
  },
  {
   "cell_type": "code",
   "execution_count": 68,
   "metadata": {},
   "outputs": [
    {
     "name": "stdout",
     "output_type": "stream",
     "text": [
      "0x49425350 46 \n",
      "10600, 366  \n",
      "208, 144  \n",
      "352, 576  \n",
      "2224, 900  \n",
      "928, 1296  \n",
      "3544, 380  \n",
      "3924, 56  \n",
      "3980, 40  \n",
      "3124, 84  \n",
      "3208, 336  \n",
      "4020, 4708  \n",
      "10968, 744  \n",
      "10968, 0  \n",
      "8728, 1872  \n",
      "10600, 0  \n",
      "0, 0  \n",
      "10600, 0 \n"
     ]
    }
   ],
   "source": [
    "bsp = bspfile()\n",
    "bsp.read(map)\n",
    "# bsp2 = bspfile()\n",
    "# bsp2.read(map2)"
   ]
  },
  {
   "cell_type": "code",
   "execution_count": 59,
   "metadata": {},
   "outputs": [
    {
     "data": {
      "text/plain": [
       "[entity: {\n",
       "   \"_q3map2_version\" \"2.5.17n\"\n",
       "   \"_q3map2_cmdline\" \"-meta -noob -samplesize 64\"\n",
       "   \"classname\" \"worldspawn\"\n",
       " },\n",
       " entity: {\n",
       "   \"origin\" \"1280 256 192\"\n",
       "   \"classname\" \"info_player_start\"\n",
       " },\n",
       " entity: {\n",
       "   \"target\" \"misc_portal_camera3\"\n",
       "   \"origin\" \"752 256 208\"\n",
       "   \"classname\" \"misc_portal_surface\"\n",
       " },\n",
       " entity: {\n",
       "   \"targetname\" \"misc_portal_camera3\"\n",
       "   \"angle\" \"180\"\n",
       "   \"origin\" \"640 256 208\"\n",
       "   \"classname\" \"misc_portal_camera\"\n",
       " }]"
      ]
     },
     "execution_count": 59,
     "metadata": {},
     "output_type": "execute_result"
    }
   ],
   "source": [
    "bsp.entities.entities"
   ]
  },
  {
   "cell_type": "code",
   "execution_count": 74,
   "metadata": {},
   "outputs": [
    {
     "data": {
      "text/plain": [
       "face: t1  e-1  [3] v103  [4] x108  [6] -3 [0, 0] [0, 0] (0.0, 0.0, 0.0) (0.0, 0.0, 0.0, 0.0, 0.0, 0.0) <1.0, 0.0, 0.0> [0, 0]"
      ]
     },
     "execution_count": 74,
     "metadata": {},
     "output_type": "execute_result"
    }
   ],
   "source": [
    "face(1, -1, 3, 103, 4, 108, 6, -3, [0,0], [0,0], (0,0,0), (0,0,0,0,0,0), (1,0,0))"
   ]
  },
  {
   "cell_type": "code",
   "execution_count": 75,
   "metadata": {},
   "outputs": [],
   "source": [
    "bsp.faces[-1] = _"
   ]
  },
  {
   "cell_type": "code",
   "execution_count": 76,
   "metadata": {},
   "outputs": [
    {
     "data": {
      "text/plain": [
       "[face: t0  e-1  [1] v0  [10] x6  [30] -3 [0, 0] [0, 0] (0.0, 0.0, 0.0) (0.0, 0.0, 0.0, 0.0, 0.0, 0.0) <1.0, 0.0, 0.0> [0, 0],\n",
       " face: t0  e-1  [1] v10  [19] x36  [66] -3 [0, 0] [0, 0] (0.0, 0.0, 0.0) (0.0, 0.0, 0.0, 0.0, 0.0, 0.0) <0.0, 0.0, 1.0> [0, 0],\n",
       " face: t0  e-1  [1] v29  [4] x102  [6] -3 [0, 0] [0, 0] (0.0, 0.0, 0.0) (0.0, 0.0, 0.0, 0.0, 0.0, 0.0) <-1.0, 0.0, 0.0> [0, 0],\n",
       " face: t0  e-1  [1] v33  [6] x108  [12] -3 [0, 0] [0, 0] (0.0, 0.0, 0.0) (0.0, 0.0, 0.0, 0.0, 0.0, 0.0) <0.0, -1.0, 0.0> [0, 0],\n",
       " face: t0  e-1  [1] v39  [6] x120  [12] -3 [0, 0] [0, 0] (0.0, 0.0, 0.0) (0.0, 0.0, 0.0, 0.0, 0.0, 0.0) <0.0, 1.0, 0.0> [0, 0],\n",
       " face: t0  e-1  [1] v45  [4] x108  [6] -3 [0, 0] [0, 0] (0.0, 0.0, 0.0) (0.0, 0.0, 0.0, 0.0, 0.0, 0.0) <-1.0, 0.0, 0.0> [0, 0],\n",
       " face: t0  e-1  [1] v49  [4] x102  [6] -3 [0, 0] [0, 0] (0.0, 0.0, 0.0) (0.0, 0.0, 0.0, 0.0, 0.0, 0.0) <1.0, 0.0, 0.0> [0, 0],\n",
       " face: t0  e-1  [1] v53  [4] x108  [6] -3 [0, 0] [0, 0] (0.0, 0.0, 0.0) (0.0, 0.0, 0.0, 0.0, 0.0, 0.0) <0.0, 1.0, 0.0> [0, 0],\n",
       " face: t0  e-1  [1] v57  [4] x102  [6] -3 [0, 0] [0, 0] (0.0, 0.0, 0.0) (0.0, 0.0, 0.0, 0.0, 0.0, 0.0) <0.0, 0.0, 1.0> [0, 0],\n",
       " face: t0  e-1  [1] v61  [4] x102  [6] -3 [0, 0] [0, 0] (0.0, 0.0, 0.0) (0.0, 0.0, 0.0, 0.0, 0.0, 0.0) <-1.0, 0.0, 0.0> [0, 0],\n",
       " face: t0  e-1  [1] v65  [4] x102  [6] -3 [0, 0] [0, 0] (0.0, 0.0, 0.0) (0.0, 0.0, 0.0, 0.0, 0.0, 0.0) <0.0, -1.0, 0.0> [0, 0],\n",
       " face: t0  e-1  [1] v69  [4] x102  [6] -3 [0, 0] [0, 0] (0.0, 0.0, 0.0) (0.0, 0.0, 0.0, 0.0, 0.0, 0.0) <1.0, 0.0, 0.0> [0, 0],\n",
       " face: t0  e-1  [1] v73  [4] x108  [6] -3 [0, 0] [0, 0] (0.0, 0.0, 0.0) (0.0, 0.0, 0.0, 0.0, 0.0, 0.0) <0.0, 0.0, 1.0> [0, 0],\n",
       " face: t0  e-1  [1] v77  [6] x132  [12] -3 [0, 0] [0, 0] (0.0, 0.0, 0.0) (0.0, 0.0, 0.0, 0.0, 0.0, 0.0) <0.0, 1.0, 0.0> [0, 0],\n",
       " face: t0  e-1  [1] v83  [10] x144  [30] -3 [0, 0] [0, 0] (0.0, 0.0, 0.0) (0.0, 0.0, 0.0, 0.0, 0.0, 0.0) <-1.0, 0.0, 0.0> [0, 0],\n",
       " face: t0  e-1  [1] v93  [6] x174  [12] -3 [0, 0] [0, 0] (0.0, 0.0, 0.0) (0.0, 0.0, 0.0, 0.0, 0.0, 0.0) <0.0, -1.0, 0.0> [0, 0],\n",
       " face: t0  e-1  [1] v99  [4] x102  [6] -3 [0, 0] [0, 0] (0.0, 0.0, 0.0) (0.0, 0.0, 0.0, 0.0, 0.0, 0.0) <0.0, 0.0, -1.0> [0, 0],\n",
       " face: t1  e-1  [3] v103  [4] x108  [6] -3 [0, 0] [0, 0] (0.0, 0.0, 0.0) (0.0, 0.0, 0.0, 0.0, 0.0, 0.0) <1.0, 0.0, 0.0> [0, 0]]"
      ]
     },
     "execution_count": 76,
     "metadata": {},
     "output_type": "execute_result"
    }
   ],
   "source": [
    "bsp.faces"
   ]
  },
  {
   "cell_type": "code",
   "execution_count": 20,
   "metadata": {},
   "outputs": [
    {
     "data": {
      "text/plain": [
       "[vertex: (766.109375, 292.53125, 191.53125) (0.9319999814033508, 0.5680999755859375) (0.0, 0.0) <0.99969881772995, 0.0, 0.024541229009628296> C0xffffffff ,\n",
       " vertex: (766.109375, 256.0625, 149.25) (0.4984999895095825, 0.9799000024795532) (0.0, 0.0) <0.99969881772995, 0.0, 0.024541229009628296> C0xffffffff ,\n",
       " vertex: (766.109375, 219.609375, 191.53125) (0.06509999930858612, 0.5680999755859375) (0.0, 0.0) <0.99969881772995, 0.0, 0.024541229009628296> C0xffffffff ,\n",
       " vertex: (766.109375, 276.921875, 153.625) (0.746399998664856, 0.9373999834060669) (0.0, 0.0) <0.99969881772995, 0.0, 0.024541229009628296> C0xffffffff ,\n",
       " vertex: (766.109375, 295.90625, 164.171875) (0.972000002861023, 0.8346999883651733) (0.0, 0.0) <0.99969881772995, 0.0, 0.024541229009628296> C0xffffffff ,\n",
       " vertex: (766.109375, 235.015625, 153.6875) (0.2483000010251999, 0.9366999864578247) (0.0, 0.0) <0.99969881772995, 0.0, 0.024541229009628296> C0xffffffff ,\n",
       " vertex: (766.109375, 216.234375, 164.171875) (0.025100000202655792, 0.8346999883651733) (0.0, 0.0) <0.99969881772995, 0.0, 0.024541229009628296> C0xffffffff ,\n",
       " vertex: (766.109375, 256.0625, 247.828125) (0.4984999895095825, 0.019700000062584877) (0.0, 0.0) <0.99969881772995, 0.0, 0.024541229009628296> C0xffffffff ,\n",
       " vertex: (766.109375, 228.609375, 224.453125) (0.17219999432563782, 0.24740000069141388) (0.0, 0.0) <0.99969881772995, 0.0, 0.024541229009628296> C0xffffffff ,\n",
       " vertex: (766.109375, 239.28125, 245.34375) (0.2989000082015991, 0.04390000179409981) (0.0, 0.0) <0.99969881772995, 0.0, 0.024541229009628296> C0xffffffff ,\n",
       " vertex: (766.109375, 283.53125, 224.453125) (0.8248999714851379, 0.24740000069141388) (0.0, 0.0) <0.99969881772995, 0.0, 0.024541229009628296> C0xffffffff ,\n",
       " vertex: (766.109375, 272.859375, 245.34375) (0.698199987411499, 0.04390000179409981) (0.0, 0.0) <0.99969881772995, 0.0, 0.024541229009628296> C0xffffffff ,\n",
       " vertex: (766.109375, 295.90625, 164.171875) (0.7792999744415283, 0.7239999771118164) (0.0, 0.0) <0.99969881772995, 0.0, 0.024541229009628296> C0xffffffff ,\n",
       " vertex: (766.125, 308.6875, 188.046875) (0.9714000225067139, 0.5699999928474426) (0.0, 0.0) <0.99969881772995, 0.0, 0.024541229009628296> C0xffffffff ]"
      ]
     },
     "execution_count": 20,
     "metadata": {},
     "output_type": "execute_result"
    }
   ],
   "source": [
    "bsp.vertexs[324:338]"
   ]
  },
  {
   "cell_type": "code",
   "execution_count": 34,
   "metadata": {},
   "outputs": [],
   "source": [
    "from bsp_file import texture"
   ]
  },
  {
   "cell_type": "code",
   "execution_count": 37,
   "metadata": {},
   "outputs": [],
   "source": [
    "new_btx = {}\n",
    "new_bstx = {}\n",
    "p = len(bsp.textures)\n",
    "for b in bsp.brushs:\n",
    "    btex = bsp.textures[b.texture]\n",
    "    k = btex.contents\n",
    "    if k not in new_btx:\n",
    "        new_btx[k] = p\n",
    "        p += 1\n",
    "        bsp.textures.append(texture(\"noshader\", 0, k))\n",
    "    b.texture = new_btx[k]\n",
    "\n",
    "    for bs in bsp.brushsides[b.brushside:b.brushside+b.n_brushside]:\n",
    "        bstex = bsp.textures[bs.texture]\n",
    "        k = bstex.flags\n",
    "        if k not in new_bstx:\n",
    "            new_bstx[k] = p\n",
    "            p += 1\n",
    "            bsp.textures.append(texture(\"noshader\", k, 0))\n",
    "        bs.texture = new_bstx[k]"
   ]
  },
  {
   "cell_type": "code",
   "execution_count": 38,
   "metadata": {},
   "outputs": [
    {
     "data": {
      "text/plain": [
       "[texture: 'textures/base_trim/pewter_shiney' [524288] [1],\n",
       " texture: 'textures/gothic_floor/largerblock3b3dim' [524288] [1],\n",
       " texture: 'textures/sfx/proto_zzztblu3' [543744] [0],\n",
       " texture: 'textures/gothic_floor/largerblock3b3x128' [524288] [1],\n",
       " texture: 'textures/base_light/baslt4_1_2k' [524320] [1],\n",
       " texture: 'textures/gothic_floor/goopq1metal7_98d' [524288] [1],\n",
       " texture: 'noshader' [0] [1],\n",
       " texture: 'textures/base_wall/bluemetal1b_shiny' [524288] [1],\n",
       " texture: 'noshader' [524288] [1],\n",
       " texture: 'textures/common/caulk' [527520] [1],\n",
       " texture: 'textures/skies/killsky' [527412] [1],\n",
       " texture: 'textures/skies/blacksky' [527380] [1],\n",
       " texture: 'textures/gothic_floor/largerblock3b4' [524288] [1],\n",
       " texture: 'textures/gothic_floor/center2trn' [524288] [1],\n",
       " texture: 'textures/gothic_floor/largeblockfloor4' [524288] [1],\n",
       " texture: 'textures/gothic_floor/largeblockfloor3' [524288] [1],\n",
       " texture: 'textures/gothic_floor/largerblock3b2' [524288] [1],\n",
       " texture: 'textures/common/slick' [527522] [536870913],\n",
       " texture: 'noshader' [524290] [1],\n",
       " texture: 'textures/sfx/xlightgreyfog' [543744] [536870976],\n",
       " texture: 'textures/common/clip' [543920] [536936448],\n",
       " texture: 'models/mapobjects/teleporter/energy' [524288] [1],\n",
       " texture: 'models/mapobjects/teleporter/teleporter' [524288] [1],\n",
       " texture: 'models/mapobjects/teleporter/teleporter_edge' [524288] [1],\n",
       " texture: 'models/mapobjects/teleporter/pad' [524288] [1],\n",
       " texture: 'models/mapobjects/teleporter/transparency' [524288] [1],\n",
       " texture: 'models/mapobjects/teleporter/widget' [524288] [1],\n",
       " texture: 'textures/base_light/baslt4_1_4k' [524320] [1],\n",
       " texture: 'textures/sfx/beam' [543776] [536870912],\n",
       " texture: 'textures/common/trigger' [524416] [1],\n",
       " texture: 'noshader' [0] [1],\n",
       " texture: 'noshader' [543744] [0],\n",
       " texture: 'noshader' [524288] [0],\n",
       " texture: 'noshader' [0] [0],\n",
       " texture: 'noshader' [0] [0],\n",
       " texture: 'noshader' [524320] [0],\n",
       " texture: 'noshader' [527412] [0],\n",
       " texture: 'noshader' [527520] [0],\n",
       " texture: 'noshader' [527380] [0],\n",
       " texture: 'noshader' [0] [536870913],\n",
       " texture: 'noshader' [527522] [0],\n",
       " texture: 'noshader' [524290] [0],\n",
       " texture: 'noshader' [0] [536870976],\n",
       " texture: 'noshader' [0] [536936448],\n",
       " texture: 'noshader' [543920] [0],\n",
       " texture: 'noshader' [524416] [0]]"
      ]
     },
     "execution_count": 38,
     "metadata": {},
     "output_type": "execute_result"
    }
   ],
   "source": [
    "bsp.textures"
   ]
  },
  {
   "cell_type": "code",
   "execution_count": 77,
   "metadata": {},
   "outputs": [
    {
     "name": "stdout",
     "output_type": "stream",
     "text": [
      "0x49425350 46 \n",
      "208, 389  \n",
      "1536, 144  \n",
      "1680, 576  \n",
      "2256, 900  \n",
      "3156, 1296  \n",
      "4452, 380  \n",
      "4832, 56  \n",
      "4888, 40  \n",
      "4928, 84  \n",
      "5012, 336  \n",
      "5348, 4708  \n",
      "10056, 744  \n",
      "10800, 0  \n",
      "10800, 1872  \n",
      "12672, 0  \n",
      "12672, 0  \n",
      "12672, 0 \n"
     ]
    }
   ],
   "source": [
    "# mapfile2 = \"/home/rantrave/games/defrag/defrag/maps/kragle-quik1-nos.bsp\"\n",
    "with open(mapfile, \"wb\") as f:\n",
    "    f.write(bsp.to_bytes())"
   ]
  },
  {
   "cell_type": "code",
   "execution_count": 17,
   "metadata": {},
   "outputs": [
    {
     "data": {
      "text/plain": [
       "bspheader: 0x49425350 47 \n",
       "208, 3520  \n",
       "4752, 1080  \n",
       "5832, 21248  \n",
       "27080, 172044  \n",
       "199124, 230112  \n",
       "429236, 37836  \n",
       "467072, 9448  \n",
       "476520, 560  \n",
       "477080, 9252  \n",
       "486332, 40944  \n",
       "527276, 359084  \n",
       "886360, 17664  \n",
       "904024, 0  \n",
       "904024, 165568  \n",
       "1069592, 2310144  \n",
       "3379736, 7998000  \n",
       "11377736, 0 "
      ]
     },
     "execution_count": 17,
     "metadata": {},
     "output_type": "execute_result"
    }
   ],
   "source": [
    "bsp.header"
   ]
  },
  {
   "cell_type": "code",
   "execution_count": 13,
   "metadata": {},
   "outputs": [],
   "source": [
    "bsp.entities.entities = [x for x in bsp.entities.entities if x.d['classname'] != 'race_point']"
   ]
  },
  {
   "cell_type": "code",
   "execution_count": 14,
   "metadata": {},
   "outputs": [
    {
     "data": {
      "text/plain": [
       "[leaf: c0  0 (0, 0, 0) (0, 0, 0) 0 [0] 0 [0],\n",
       " leaf: c0  0 (64, 0, 0) (72, 72, 72) 0 [4] 0 [0],\n",
       " leaf: c1  0 (0, 0, 64) (64, 72, 72) 4 [4] 0 [0],\n",
       " leaf: c2  0 (0, 64, 0) (64, 72, 64) 8 [4] 0 [0],\n",
       " leaf: c-1  -1 (0, 0, 0) (64, 64, 64) 0 [0] 0 [1],\n",
       " leaf: c3  0 (64, 0, -72) (72, 72, 0) 12 [4] 1 [0],\n",
       " leaf: c4  0 (0, 64, -64) (64, 72, 0) 16 [4] 1 [0],\n",
       " leaf: c-1  -1 (0, 0, -64) (64, 64, 0) 0 [0] 1 [1],\n",
       " leaf: c5  0 (0, 0, -72) (64, 72, -64) 20 [4] 2 [0],\n",
       " leaf: c6  0 (64, -72, 0) (72, 0, 72) 24 [4] 2 [0],\n",
       " leaf: c7  0 (0, -72, 64) (64, 0, 72) 28 [4] 2 [0],\n",
       " leaf: c-1  -1 (0, -64, 0) (64, 0, 64) 0 [0] 2 [1],\n",
       " leaf: c8  0 (0, -72, 0) (64, -64, 64) 32 [4] 3 [0],\n",
       " leaf: c9  0 (64, -72, -72) (72, 0, 0) 36 [4] 3 [0],\n",
       " leaf: c-1  -1 (0, -64, -64) (64, 0, 0) 0 [0] 3 [1],\n",
       " leaf: c10  0 (0, -72, -64) (64, -64, 0) 40 [4] 4 [0],\n",
       " leaf: c11  0 (0, -72, -72) (64, 0, -64) 44 [4] 4 [0],\n",
       " leaf: c12  0 (-64, 0, 64) (0, 72, 72) 48 [4] 4 [0],\n",
       " leaf: c13  0 (-64, 64, 0) (0, 72, 64) 52 [4] 4 [0],\n",
       " leaf: c-1  -1 (-64, 0, 0) (0, 64, 64) 0 [0] 4 [1],\n",
       " leaf: c14  0 (-72, 0, 0) (-64, 72, 72) 56 [4] 5 [0],\n",
       " leaf: c15  0 (-64, 64, -64) (0, 72, 0) 60 [4] 5 [0],\n",
       " leaf: c-1  -1 (-64, 0, -64) (0, 64, 0) 0 [0] 5 [1],\n",
       " leaf: c16  0 (-64, 0, -72) (0, 72, -64) 64 [4] 6 [0],\n",
       " leaf: c17  0 (-72, 0, -72) (-64, 72, 0) 68 [4] 6 [0],\n",
       " leaf: c18  0 (-64, -72, 64) (0, 0, 72) 72 [4] 6 [0],\n",
       " leaf: c-1  -1 (-64, -64, 0) (0, 0, 64) 0 [0] 6 [1],\n",
       " leaf: c19  0 (-64, -72, 0) (0, -64, 64) 76 [4] 7 [0],\n",
       " leaf: c20  0 (-72, -72, 0) (-64, 0, 72) 80 [4] 7 [0],\n",
       " leaf: c-1  -1 (-64, -64, -64) (0, 0, 0) 0 [0] 7 [1],\n",
       " leaf: c21  0 (-64, -72, -64) (0, -64, 0) 84 [4] 8 [0],\n",
       " leaf: c22  0 (-64, -72, -72) (0, 0, -64) 88 [4] 8 [0],\n",
       " leaf: c23  0 (-72, -72, -72) (-64, 0, 0) 92 [4] 8 [0]]"
      ]
     },
     "execution_count": 14,
     "metadata": {},
     "output_type": "execute_result"
    }
   ],
   "source": [
    "list(bsp.leafs)"
   ]
  },
  {
   "cell_type": "code",
   "execution_count": 11,
   "metadata": {},
   "outputs": [
    {
     "name": "stderr",
     "output_type": "stream",
     "text": [
      "Traceback (most recent call last):\n",
      "  File \"_pydevd_bundle/pydevd_cython.pyx\", line 1081, in _pydevd_bundle.pydevd_cython.PyDBFrame.trace_dispatch\n",
      "  File \"_pydevd_bundle/pydevd_cython.pyx\", line 297, in _pydevd_bundle.pydevd_cython.PyDBFrame.do_wait_suspend\n",
      "  File \"/home/rantrave/miniconda3/envs/blender/lib/python3.7/site-packages/debugpy/_vendored/pydevd/pydevd.py\", line 2023, in do_wait_suspend\n",
      "    keep_suspended = self._do_wait_suspend(thread, frame, event, arg, suspend_type, from_this_thread, frames_tracker)\n",
      "  File \"/home/rantrave/miniconda3/envs/blender/lib/python3.7/site-packages/debugpy/_vendored/pydevd/pydevd.py\", line 2059, in _do_wait_suspend\n",
      "    time.sleep(0.01)\n",
      "KeyboardInterrupt\n"
     ]
    },
    {
     "ename": "KeyboardInterrupt",
     "evalue": "",
     "output_type": "error",
     "traceback": [
      "\u001b[0;31m---------------------------------------------------------------------------\u001b[0m",
      "\u001b[0;31mKeyboardInterrupt\u001b[0m                         Traceback (most recent call last)",
      "\u001b[0;32m/tmp/ipykernel_42521/4269934343.py\u001b[0m in \u001b[0;36m<module>\u001b[0;34m\u001b[0m\n\u001b[0;32m----> 1\u001b[0;31m \u001b[0;32mimport\u001b[0m \u001b[0mbpy\u001b[0m\u001b[0;34m\u001b[0m\u001b[0;34m\u001b[0m\u001b[0m\n\u001b[0m\u001b[1;32m      2\u001b[0m \u001b[0;32mimport\u001b[0m \u001b[0mbmesh\u001b[0m\u001b[0;34m\u001b[0m\u001b[0;34m\u001b[0m\u001b[0m\n\u001b[1;32m      3\u001b[0m \u001b[0;32mimport\u001b[0m \u001b[0msocket\u001b[0m\u001b[0;34m\u001b[0m\u001b[0;34m\u001b[0m\u001b[0m\n\u001b[1;32m      4\u001b[0m \u001b[0;32mimport\u001b[0m \u001b[0mstruct\u001b[0m\u001b[0;34m\u001b[0m\u001b[0;34m\u001b[0m\u001b[0m\n\u001b[1;32m      5\u001b[0m \u001b[0;34m\u001b[0m\u001b[0m\n",
      "\u001b[0;32m/tmp/ipykernel_42521/4269934343.py\u001b[0m in \u001b[0;36m<module>\u001b[0;34m\u001b[0m\n\u001b[0;32m----> 1\u001b[0;31m \u001b[0;32mimport\u001b[0m \u001b[0mbpy\u001b[0m\u001b[0;34m\u001b[0m\u001b[0;34m\u001b[0m\u001b[0m\n\u001b[0m\u001b[1;32m      2\u001b[0m \u001b[0;32mimport\u001b[0m \u001b[0mbmesh\u001b[0m\u001b[0;34m\u001b[0m\u001b[0;34m\u001b[0m\u001b[0m\n\u001b[1;32m      3\u001b[0m \u001b[0;32mimport\u001b[0m \u001b[0msocket\u001b[0m\u001b[0;34m\u001b[0m\u001b[0;34m\u001b[0m\u001b[0m\n\u001b[1;32m      4\u001b[0m \u001b[0;32mimport\u001b[0m \u001b[0mstruct\u001b[0m\u001b[0;34m\u001b[0m\u001b[0;34m\u001b[0m\u001b[0m\n\u001b[1;32m      5\u001b[0m \u001b[0;34m\u001b[0m\u001b[0m\n",
      "\u001b[0;32m_pydevd_bundle/pydevd_cython.pyx\u001b[0m in \u001b[0;36m_pydevd_bundle.pydevd_cython.SafeCallWrapper.__call__\u001b[0;34m()\u001b[0m\n",
      "\u001b[0;32m_pydevd_bundle/pydevd_cython.pyx\u001b[0m in \u001b[0;36m_pydevd_bundle.pydevd_cython.PyDBFrame.trace_dispatch\u001b[0;34m()\u001b[0m\n",
      "\u001b[0;32m_pydevd_bundle/pydevd_cython.pyx\u001b[0m in \u001b[0;36m_pydevd_bundle.pydevd_cython.PyDBFrame.trace_dispatch\u001b[0;34m()\u001b[0m\n",
      "\u001b[0;32m_pydevd_bundle/pydevd_cython.pyx\u001b[0m in \u001b[0;36m_pydevd_bundle.pydevd_cython.PyDBFrame.trace_dispatch\u001b[0;34m()\u001b[0m\n",
      "\u001b[0;32m_pydevd_bundle/pydevd_cython.pyx\u001b[0m in \u001b[0;36m_pydevd_bundle.pydevd_cython.PyDBFrame.do_wait_suspend\u001b[0;34m()\u001b[0m\n",
      "\u001b[0;32m~/miniconda3/envs/blender/lib/python3.7/site-packages/debugpy/_vendored/pydevd/pydevd.py\u001b[0m in \u001b[0;36mdo_wait_suspend\u001b[0;34m(self, thread, frame, event, arg, exception_type)\u001b[0m\n\u001b[1;32m   2021\u001b[0m \u001b[0;34m\u001b[0m\u001b[0m\n\u001b[1;32m   2022\u001b[0m             \u001b[0;32mwith\u001b[0m \u001b[0mself\u001b[0m\u001b[0;34m.\u001b[0m\u001b[0m_threads_suspended_single_notification\u001b[0m\u001b[0;34m.\u001b[0m\u001b[0mnotify_thread_suspended\u001b[0m\u001b[0;34m(\u001b[0m\u001b[0mthread_id\u001b[0m\u001b[0;34m,\u001b[0m \u001b[0mstop_reason\u001b[0m\u001b[0;34m)\u001b[0m\u001b[0;34m:\u001b[0m\u001b[0;34m\u001b[0m\u001b[0;34m\u001b[0m\u001b[0m\n\u001b[0;32m-> 2023\u001b[0;31m                 \u001b[0mkeep_suspended\u001b[0m \u001b[0;34m=\u001b[0m \u001b[0mself\u001b[0m\u001b[0;34m.\u001b[0m\u001b[0m_do_wait_suspend\u001b[0m\u001b[0;34m(\u001b[0m\u001b[0mthread\u001b[0m\u001b[0;34m,\u001b[0m \u001b[0mframe\u001b[0m\u001b[0;34m,\u001b[0m \u001b[0mevent\u001b[0m\u001b[0;34m,\u001b[0m \u001b[0marg\u001b[0m\u001b[0;34m,\u001b[0m \u001b[0msuspend_type\u001b[0m\u001b[0;34m,\u001b[0m \u001b[0mfrom_this_thread\u001b[0m\u001b[0;34m,\u001b[0m \u001b[0mframes_tracker\u001b[0m\u001b[0;34m)\u001b[0m\u001b[0;34m\u001b[0m\u001b[0;34m\u001b[0m\u001b[0m\n\u001b[0m\u001b[1;32m   2024\u001b[0m \u001b[0;34m\u001b[0m\u001b[0m\n\u001b[1;32m   2025\u001b[0m         \u001b[0mframes_list\u001b[0m \u001b[0;34m=\u001b[0m \u001b[0;32mNone\u001b[0m\u001b[0;34m\u001b[0m\u001b[0;34m\u001b[0m\u001b[0m\n",
      "\u001b[0;32m~/miniconda3/envs/blender/lib/python3.7/site-packages/debugpy/_vendored/pydevd/pydevd.py\u001b[0m in \u001b[0;36m_do_wait_suspend\u001b[0;34m(self, thread, frame, event, arg, suspend_type, from_this_thread, frames_tracker)\u001b[0m\n\u001b[1;32m   2057\u001b[0m \u001b[0;34m\u001b[0m\u001b[0m\n\u001b[1;32m   2058\u001b[0m             \u001b[0mself\u001b[0m\u001b[0;34m.\u001b[0m\u001b[0mprocess_internal_commands\u001b[0m\u001b[0;34m(\u001b[0m\u001b[0;34m)\u001b[0m\u001b[0;34m\u001b[0m\u001b[0;34m\u001b[0m\u001b[0m\n\u001b[0;32m-> 2059\u001b[0;31m             \u001b[0mtime\u001b[0m\u001b[0;34m.\u001b[0m\u001b[0msleep\u001b[0m\u001b[0;34m(\u001b[0m\u001b[0;36m0.01\u001b[0m\u001b[0;34m)\u001b[0m\u001b[0;34m\u001b[0m\u001b[0;34m\u001b[0m\u001b[0m\n\u001b[0m\u001b[1;32m   2060\u001b[0m \u001b[0;34m\u001b[0m\u001b[0m\n\u001b[1;32m   2061\u001b[0m         \u001b[0mself\u001b[0m\u001b[0;34m.\u001b[0m\u001b[0mcancel_async_evaluation\u001b[0m\u001b[0;34m(\u001b[0m\u001b[0mget_current_thread_id\u001b[0m\u001b[0;34m(\u001b[0m\u001b[0mthread\u001b[0m\u001b[0;34m)\u001b[0m\u001b[0;34m,\u001b[0m \u001b[0mstr\u001b[0m\u001b[0;34m(\u001b[0m\u001b[0mid\u001b[0m\u001b[0;34m(\u001b[0m\u001b[0mframe\u001b[0m\u001b[0;34m)\u001b[0m\u001b[0;34m)\u001b[0m\u001b[0;34m)\u001b[0m\u001b[0;34m\u001b[0m\u001b[0;34m\u001b[0m\u001b[0m\n",
      "\u001b[0;31mKeyboardInterrupt\u001b[0m: "
     ]
    }
   ],
   "source": [
    "import bpy\n",
    "import bmesh\n",
    "import socket\n",
    "import struct\n",
    "\n",
    "vert_t = '3fi'\n",
    "vert_t = (vert_t, struct.calcsize(vert_t))\n",
    "corn_t = '2f2f4fi'\n",
    "corn_t = (corn_t, struct.calcsize(corn_t))\n",
    "face_t = 'l3ii'\n",
    "face_t = (face_t, struct.calcsize(face_t))\n",
    "\n",
    "def mesh_to_buffer(msh, content):\n",
    "    msh.verts.index_update()\n",
    "    msh.faces.index_update()\n",
    "    msh.verts.ensure_lookup_table()\n",
    "    msh.faces.ensure_lookup_table()\n",
    "    nverts = len(msh.verts)\n",
    "    ncorns = sum(len(f.loops) for f in msh.faces)\n",
    "    nfaces = len(msh.faces)\n",
    "    flags = msh.loops.layers.int[0] if len(msh.loops.layers.int) > 0 else None\n",
    "    col = msh.loops.layers.color[0] if len(msh.loops.layers.color) > 0 else None\n",
    "    if len(msh.loops.layers.uv) > 0:\n",
    "        lm = msh.loops.layers.uv[\"Lightmap\"] if \"Lightmap\" in msh.loops.layers.uv else None\n",
    "        uvs = [x for x in msh.loops.layers.uv.values() if x.name != \"Lightmap\"]\n",
    "        uv = uvs[0] if len(uvs) > 0 else None\n",
    "    else:\n",
    "        lm = None\n",
    "        uv = None\n",
    "    yield struct.pack('i', nverts)\n",
    "    for v in range(nverts):\n",
    "        yield struct.pack(vert_t[0], *msh.verts[v].co, 0)\n",
    "    \n",
    "    yield struct.pack('i', ncorns)\n",
    "    for f in range(nfaces):\n",
    "        for l in msh.faces[f].loops:\n",
    "            uv0 = l[uv].uv if uv is not None else (0.0, 0.0)\n",
    "            uv1 = l[lm].uv if lm is not None else (0.0, 0.0)\n",
    "            color = l[col] if col is not None else (1.0, 1.0, 1.0, 1.0)\n",
    "            yield struct.pack(corn_t[0], *uv0, *uv1, *color, l.vert.index)\n",
    "\n",
    "    yield struct.pack('i', nfaces)\n",
    "\n",
    "    flg = msh.faces.layers.int[0] if len(msh.faces.layers.int) > 0 else None\n",
    "    shft = 0\n",
    "    for f in range(nfaces):\n",
    "        face = msh.faces[0]\n",
    "        l = len(face.loops)\n",
    "        yield struct.pack(face_t[0], face[flg] if flg is not None else 0, shft, l, face.material_index, 0)\n",
    "        shft += l\n",
    "\n",
    "    yield struct.pack('l', content)\n",
    "\n",
    "def recv_array(sock, size):\n",
    "    l, *_ = struct.unpack('i', sock.recv(4))\n",
    "    return sock.recv(l * size)\n",
    "\n",
    "def mesh_from_stream(sock):\n",
    "    m = bmesh.new()\n",
    "    uv = m.loops.layers.uv.new(\"UVMap\")\n",
    "    lm = m.loops.layers.uv.new(\"Lightmap\")\n",
    "    col = m.loops.layers.color.new(\"Color\")\n",
    "    flags = m.faces.layers.int.new(\"Flags\")\n",
    "    verts = recv_array(sock, vert_t[1])\n",
    "    corns = recv_array(sock, corn_t[1])\n",
    "    faces = recv_array(sock, face_t[1])\n",
    "    context, *_ = struct.unpack('l', sock.recv(8))\n",
    "\n",
    "    for i in range(len(verts) // vert_t[1]):\n",
    "        *co, flg = struct.unpack(vert_t[0], verts[i * vert_t[1]:i * vert_t[1] + vert_t[1]])\n",
    "        m.verts.new(co)\n",
    "    m.verts.ensure_lookup_table()\n",
    "\n",
    "    for i in range(len(faces) // face_t[1]):\n",
    "        fl, ls, le, mat, *_ = struct.unpack(face_t[0], faces[i * face_t[1]:i * face_t[1] + face_t[1]])\n",
    "        uv0s = []\n",
    "        uv1s = []\n",
    "        colors = []\n",
    "        vxs = []\n",
    "        for j in range(ls, ls + le):\n",
    "            uv0x, uv0y, uv1x, uv1y, r, g, b, a, vx = struct.unpack(corn_t[0], corns[j * corn_t[1]: j * corn_t[1] + corn_t[1]])\n",
    "            uv0s.append((uv0x, uv0y))\n",
    "            uv1s.append((uv1x, uv1y))\n",
    "            colors.append((r,g,b,a))\n",
    "            vxs.append(vx)\n",
    "        f = m.faces.new([m.verts[x] for x in vxs])\n",
    "        f[flags] = fl\n",
    "        f.material_index = mat\n",
    "        for uv0, uv1, c, loop in zip(uv0s, uv1s, colors, f.loops):\n",
    "            loop[uv].uv = uv0\n",
    "            loop[lm].uv = uv1\n",
    "            loop[col] = c\n",
    "    return m\n",
    "\n",
    "\n",
    "def console_progress(done, full):\n",
    "    print(f\"Progress: {done} / {full}\")\n",
    "def console_error(error):\n",
    "    print(f\"Error: {error}\")\n",
    "\n",
    "class requester:\n",
    "    def __init__(self, addr, on_progress=None, on_error=None):\n",
    "        self.__addr = addr\n",
    "        self.__on_progress = on_progress if on_progress else console_progress\n",
    "        self.__on_error = on_error if on_error else console_error\n",
    "\n",
    "    @staticmethod\n",
    "    def echo_mesh_send(sock, msh: bmesh.types.BMesh):\n",
    "        def recv(sock):\n",
    "            return mesh_from_stream(sock)\n",
    "        for b in mesh_to_buffer(msh, 1):\n",
    "            sock.send(b)\n",
    "        return recv\n",
    "    @staticmethod\n",
    "    def mesh_split_send(sock, msh: bmesh.types.BMesh):\n",
    "        def recv(sock):\n",
    "            num, *_ = struct.unpack('i', sock.recv(4))\n",
    "            return [mesh_from_stream(sock) for i in range(num)]\n",
    "        for b in mesh_to_buffer(msh, 1):\n",
    "            sock.send(b)\n",
    "        return recv\n",
    "    def make_request(self, code, func):\n",
    "        with socket.socket(socket.AF_INET, socket.SOCK_STREAM) as sock:\n",
    "            sock.connect(self.__addr)\n",
    "            print(f\"command = {code}\")\n",
    "            sock.send(struct.pack('i', code))\n",
    "            recv = func(sock)\n",
    "            while True:\n",
    "                data = sock.recv(4)\n",
    "                if not data:\n",
    "                    print(\"none\")\n",
    "                    break\n",
    "                res_code, *_ = struct.unpack('i', data)\n",
    "                print(res_code)\n",
    "                if res_code == 0x10000000:\n",
    "                    d, a = struct.unpack('2i', sock.recv(8))\n",
    "                    self.__on_progress(d, a)\n",
    "                    continue\n",
    "                if res_code == 0x0:\n",
    "                    return recv(sock)\n",
    "                else:\n",
    "                    l, *_ = struct.unpack('i', sock.recv(4))\n",
    "                    self.__on_error(sock.recv(l).decode('utf-8'))\n",
    "                    break\n",
    "    \n",
    "    def echo_mesh(self, mesh):\n",
    "        return self.make_request(0x1, lambda s: requester.echo_mesh_send(s, mesh))\n",
    "\n",
    "    def split_mesh(self, mesh):\n",
    "        return self.make_request(0x2, lambda s: requester.mesh_split_send(s, mesh))"
   ]
  },
  {
   "cell_type": "code",
   "execution_count": null,
   "metadata": {},
   "outputs": [],
   "source": [
    "\n",
    "# def ensure_backround_running():\n",
    "#     handle_name = \"__bsp_server_handle\"\n",
    "#     if handle_name in bpy.app.driver_namespace\n",
    "\n",
    "class BSP_OP_SubdivideToConvex(bpy.types.Operator):\n",
    "    bl_idname = \"bsp.subdivide_brush\"\n",
    "    bl_label = \"Split to convex\"\n",
    "    bl_description = \"Splits mesh to convex subparts\"\n",
    "    bl_options = {'REGISTER', 'UNDO'}\n",
    "#    max_layers: bpy.props.IntProperty(default=32)\n",
    "   @classmethod\n",
    "   def poll(cls, context):\n",
    "       return context.mode == 'EDIT'\n",
    "    \n",
    "    def execute(self, context):\n",
    "        me = context.edit_object.data\n",
    "        bm = bmesh.from_edit_mesh(me)\n",
    "        rq = requester((\"localhost\", \"2232\"))\n",
    "        meshes = rq.split_mesh(bm)\n",
    "        for i, m in enumerate(meshes):\n",
    "            name = context.edit_object.name + f\"_{i}\"\n",
    "            mesh = bpy.data.meshes.new(name)\n",
    "            m.to_mesh(mesh)\n",
    "            obj = bpy.data.objects.new(name, mesh)\n",
    "            bpy.context.collection.objects.link(obj)\n",
    "\n"
   ]
  },
  {
   "cell_type": "code",
   "execution_count": 2,
   "metadata": {},
   "outputs": [],
   "source": [
    "bm = bmesh.new()\n",
    "col = bm.loops.layers.color.new(\"col\")\n",
    "v0 = bm.verts.new((0,0,0))\n",
    "v1 = bm.verts.new((1,0,0))\n",
    "v2 = bm.verts.new((0,1,0))\n",
    "v3 = bm.verts.new((0,0,1))\n",
    "\n",
    "bm.faces.new([v0, v1, v2])\n",
    "bm.faces.new([v0, v2, v3])\n",
    "bm.faces.new([v0, v3, v1])\n",
    "\n",
    "f = bm.faces.new([v1, v2, v3])\n",
    "\n",
    "f.loops[0][col] = (0, 1, 0, 0)\n",
    "bm.faces.ensure_lookup_table()"
   ]
  },
  {
   "cell_type": "code",
   "execution_count": 6,
   "metadata": {},
   "outputs": [
    {
     "data": {
      "text/plain": [
       "{'verts': [<BMVert(0x55b80c1ee030), index=0>,\n",
       "  <BMVert(0x55b80c1ee068), index=1>,\n",
       "  <BMVert(0x55b80c1ee0a0), index=2>,\n",
       "  <BMVert(0x55b80c1ee0d8), index=3>,\n",
       "  <BMVert(0x55b80c1ee110), index=4>,\n",
       "  <BMVert(0x55b80c1ee148), index=5>,\n",
       "  <BMVert(0x55b80c1ee180), index=6>,\n",
       "  <BMVert(0x55b80c1ee1b8), index=7>]}"
      ]
     },
     "execution_count": 6,
     "metadata": {},
     "output_type": "execute_result"
    }
   ],
   "source": [
    "bm = bmesh.new()\n",
    "bmesh.ops.create_cube(bm, calc_uvs=True)"
   ]
  },
  {
   "cell_type": "code",
   "execution_count": 9,
   "metadata": {},
   "outputs": [],
   "source": [
    "rq = requester((\"localhost\", 2232))"
   ]
  },
  {
   "cell_type": "code",
   "execution_count": 10,
   "metadata": {},
   "outputs": [
    {
     "name": "stdout",
     "output_type": "stream",
     "text": [
      "command = 2\n",
      "268435456\n",
      "Progress: 1 / 1\n",
      "0\n"
     ]
    }
   ],
   "source": [
    "mm = rq.split_mesh(bm)"
   ]
  },
  {
   "cell_type": "code",
   "execution_count": 126,
   "metadata": {},
   "outputs": [
    {
     "data": {
      "text/plain": [
       "[<BMesh(0x55e9057b9c58), totvert=24, totedge=12, totface=6, totloop=24>]"
      ]
     },
     "execution_count": 126,
     "metadata": {},
     "output_type": "execute_result"
    }
   ],
   "source": [
    "mm"
   ]
  },
  {
   "cell_type": "code",
   "execution_count": 75,
   "metadata": {},
   "outputs": [
    {
     "data": {
      "text/plain": [
       "[<BMLayerItem at 0x7f68391961e0>]"
      ]
     },
     "execution_count": 75,
     "metadata": {},
     "output_type": "execute_result"
    }
   ],
   "source": [
    "[x for x in mm.loops.layers.uv.values() if x.name != \"Lightmap\"]"
   ]
  },
  {
   "cell_type": "code",
   "execution_count": 124,
   "metadata": {},
   "outputs": [
    {
     "data": {
      "text/plain": [
       "<BMesh(0x55e904f44048), totvert=8, totedge=12, totface=6, totloop=24>"
      ]
     },
     "execution_count": 124,
     "metadata": {},
     "output_type": "execute_result"
    }
   ],
   "source": [
    "bm"
   ]
  },
  {
   "cell_type": "code",
   "execution_count": 125,
   "metadata": {},
   "outputs": [
    {
     "data": {
      "text/plain": [
       "[<BMesh(0x55e9057b9c58), totvert=24, totedge=12, totface=6, totloop=24>]"
      ]
     },
     "execution_count": 125,
     "metadata": {},
     "output_type": "execute_result"
    }
   ],
   "source": [
    "mm"
   ]
  },
  {
   "cell_type": "code",
   "execution_count": 86,
   "metadata": {},
   "outputs": [],
   "source": [
    "ar = [(x, y) for x,y in zip(to_buffer(bm, 12), to_buffer(mm, 12))]\n",
    "for i, j in ar:\n",
    "    if i != j:\n",
    "        print(i, j)"
   ]
  },
  {
   "cell_type": "code",
   "execution_count": 82,
   "metadata": {},
   "outputs": [
    {
     "data": {
      "text/plain": [
       "[<BMVert(0x7f682039daf0), index=-1>,\n",
       " <BMVert(0x7f682039db28), index=-1>,\n",
       " <BMVert(0x7f682039db60), index=-1>,\n",
       " <BMVert(0x7f682039db98), index=-1>]"
      ]
     },
     "execution_count": 82,
     "metadata": {},
     "output_type": "execute_result"
    }
   ],
   "source": [
    "list(mm.verts)"
   ]
  },
  {
   "cell_type": "code",
   "execution_count": 36,
   "metadata": {},
   "outputs": [],
   "source": [
    "import bsp_file as bsp_lib\n",
    "bsp2.visdata = bsp_lib.visdata(0,0,b'')"
   ]
  },
  {
   "cell_type": "code",
   "execution_count": 10,
   "metadata": {},
   "outputs": [
    {
     "name": "stdout",
     "output_type": "stream",
     "text": [
      "b'BSP by rantrave\\x00'\n"
     ]
    }
   ],
   "source": [
    "v = \"BSP by rantrave\"\n",
    "'\\\\'.join([f'x{ord(x):02x}' for x in v])\n",
    "print(b'\\x42\\x53\\x50\\x20\\x62\\x79\\x20\\x72\\x61\\x6e\\x74\\x72\\x61\\x76\\x65\\x00')"
   ]
  },
  {
   "cell_type": "code",
   "execution_count": 44,
   "metadata": {},
   "outputs": [
    {
     "name": "stdout",
     "output_type": "stream",
     "text": [
      "0x49425350 46 \n",
      "196, 164  \n",
      "360, 144  \n",
      "504, 22432  \n",
      "22936, 151920  \n",
      "174856, 202656  \n",
      "377512, 18340  \n",
      "395852, 3784  \n",
      "399636, 40  \n",
      "399676, 4596  \n",
      "404272, 18864  \n",
      "423136, 403700  \n",
      "826836, 540  \n",
      "827376, 0  \n",
      "827376, 237848  \n",
      "1065224, 0  \n",
      "1065224, 0  \n",
      "1065224, 0 \n"
     ]
    }
   ],
   "source": [
    "with open(\"/home/rantrave/games/Quake3/baseq3/maps/pamka_src_test.bsp\", \"wb\") as f:\n",
    "    f.write(bsp.to_bytes())"
   ]
  },
  {
   "cell_type": "code",
   "execution_count": 29,
   "metadata": {},
   "outputs": [
    {
     "data": {
      "text/plain": [
       "{-3}"
      ]
     },
     "execution_count": 29,
     "metadata": {},
     "output_type": "execute_result"
    }
   ],
   "source": [
    "set([x.lm_index for x in bsp.faces])"
   ]
  },
  {
   "cell_type": "code",
   "execution_count": 27,
   "metadata": {},
   "outputs": [
    {
     "data": {
      "text/plain": [
       "[face: t2  e-1  [1] v0  [4] x0  [6] 46 [0, 0] [0, 0] (0.0, 0.0, 0.0) (0.0, 0.0, 0.0, 0.0, 0.0, 0.0) <0.0, -0.0, 1.0> [0, 0],\n",
       " face: t2  e-1  [1] v4  [4] x6  [6] 232 [0, 0] [0, 0] (0.0, 0.0, 0.0) (0.0, 0.0, 0.0, 0.0, 0.0, 0.0) <-0.0, 1.0, 0.0> [0, 0],\n",
       " face: t2  e-1  [1] v8  [4] x12  [6] 37 [0, 0] [0, 0] (0.0, 0.0, 0.0) (0.0, 0.0, 0.0, 0.0, 0.0, 0.0) <1.0, 0.0, 0.0> [0, 0],\n",
       " face: t2  e-1  [1] v12  [4] x18  [6] 53 [0, 0] [0, 0] (0.0, 0.0, 0.0) (0.0, 0.0, 0.0, 0.0, 0.0, 0.0) <-1.0, 0.0, 0.0> [0, 0],\n",
       " face: t2  e-1  [1] v16  [4] x24  [6] 248 [0, 0] [0, 0] (0.0, 0.0, 0.0) (0.0, 0.0, 0.0, 0.0, 0.0, 0.0) <-0.0, -1.0, 0.0> [0, 0],\n",
       " face: t2  e-1  [1] v20  [4] x30  [6] 62 [0, 0] [0, 0] (0.0, 0.0, 0.0) (0.0, 0.0, 0.0, 0.0, 0.0, 0.0) <0.0, 0.0, -1.0> [0, 0],\n",
       " face: t2  e-1  [1] v24  [4] x36  [6] 221 [0, 0] [0, 0] (0.0, 0.0, 0.0) (0.0, 0.0, 0.0, 0.0, 0.0, 0.0) <0.0, 1.0, -0.0> [0, 0],\n",
       " face: t2  e-1  [1] v28  [4] x42  [6] 237 [0, 0] [0, 0] (0.0, 0.0, 0.0) (0.0, 0.0, 0.0, 0.0, 0.0, 0.0) <-0.0, -1.0, 0.0> [0, 0],\n",
       " face: t2  e-1  [1] v32  [4] x48  [6] 253 [0, 0] [0, 0] (0.0, 0.0, 0.0) (0.0, 0.0, 0.0, 0.0, 0.0, 0.0) <0.0, 0.0, -1.0> [0, 0],\n",
       " face: t2  e-1  [1] v36  [4] x54  [6] 173 [0, 0] [0, 0] (0.0, 0.0, 0.0) (0.0, 0.0, 0.0, 0.0, 0.0, 0.0) <1.0, 0.0, -0.0> [0, 0]]"
      ]
     },
     "execution_count": 27,
     "metadata": {},
     "output_type": "execute_result"
    }
   ],
   "source": [
    "bsp2.faces[:10]"
   ]
  },
  {
   "cell_type": "code",
   "execution_count": 145,
   "metadata": {},
   "outputs": [],
   "source": [
    "lm = bsp_file.lightmap()\n"
   ]
  },
  {
   "cell_type": "code",
   "execution_count": 155,
   "metadata": {},
   "outputs": [
    {
     "data": {
      "text/plain": [
       "array([5, 5, 5, ..., 5, 5, 5], dtype=uint8)"
      ]
     },
     "execution_count": 155,
     "metadata": {},
     "output_type": "execute_result"
    }
   ],
   "source": [
    "import numpy as np\n",
    "bts = np.array([5 for x in range(0, 128 * 128 * 3)], dtype='ubyte')\n",
    "bts"
   ]
  },
  {
   "cell_type": "code",
   "execution_count": 156,
   "metadata": {},
   "outputs": [],
   "source": [
    "lm.map = [*bts]\n",
    "buf = bytearray(lm.size())\n",
    "lm.write(buf)"
   ]
  },
  {
   "cell_type": "code",
   "execution_count": 140,
   "metadata": {},
   "outputs": [
    {
     "data": {
      "text/plain": [
       "{4, 12}"
      ]
     },
     "execution_count": 140,
     "metadata": {},
     "output_type": "execute_result"
    }
   ],
   "source": [
    "s"
   ]
  },
  {
   "cell_type": "code",
   "execution_count": 129,
   "metadata": {},
   "outputs": [],
   "source": [
    "GLOBAL_SCALE = 64.0"
   ]
  },
  {
   "cell_type": "code",
   "execution_count": 121,
   "metadata": {},
   "outputs": [
    {
     "name": "stdout",
     "output_type": "stream",
     "text": [
      "0x49425350 46 \n",
      "196, 4585  \n",
      "4781, 1584  \n",
      "6365, 15872  \n",
      "22237, 33048  \n",
      "55285, 46032  \n",
      "101317, 14992  \n",
      "116309, 10172  \n",
      "126481, 1600  \n",
      "128081, 9312  \n",
      "137393, 40448  \n",
      "177841, 358160  \n",
      "536001, 41424  \n",
      "577425, 72  \n",
      "577497, 94952  \n",
      "672449, 589824  \n",
      "1262273, 417600  \n",
      "1679873, 24984 \n",
      "0x49425350 46 \n",
      "196, 4585  \n",
      "4781, 1584  \n",
      "6365, 15872  \n",
      "22237, 33048  \n",
      "55285, 46032  \n",
      "101317, 14992  \n",
      "116309, 10172  \n",
      "126481, 1600  \n",
      "128081, 9312  \n",
      "137393, 40448  \n",
      "177841, 358160  \n",
      "536001, 41424  \n",
      "577425, 72  \n",
      "577497, 94952  \n",
      "672449, 589824  \n",
      "1262273, 417600  \n",
      "1679873, 24984 \n"
     ]
    }
   ],
   "source": [
    "bsp = clone.clone()"
   ]
  },
  {
   "cell_type": "code",
   "execution_count": 122,
   "metadata": {},
   "outputs": [
    {
     "data": {
      "text/plain": [
       "{'min': [64.0, -192.0, -768.0],\n",
       " 'max': [704.0, 192.0, -712.0],\n",
       " 'faces': [],\n",
       " 'brushs': [brush: s4716  [6] t21 ]}"
      ]
     },
     "execution_count": 122,
     "metadata": {},
     "output_type": "execute_result"
    }
   ],
   "source": [
    "models = bsp_read_models(clone)\n",
    "models[1]"
   ]
  },
  {
   "cell_type": "code",
   "execution_count": 123,
   "metadata": {},
   "outputs": [
    {
     "data": {
      "text/plain": [
       "brush: s4716  [6] t21 "
      ]
     },
     "execution_count": 123,
     "metadata": {},
     "output_type": "execute_result"
    }
   ],
   "source": [
    "clone.brushs[clone.models[1].brush]"
   ]
  },
  {
   "cell_type": "code",
   "execution_count": 124,
   "metadata": {},
   "outputs": [],
   "source": [
    "bsp_write_models(bsp, models)"
   ]
  },
  {
   "cell_type": "code",
   "execution_count": 125,
   "metadata": {},
   "outputs": [
    {
     "data": {
      "text/plain": [
       "{'min': [64.0, -192.0, -768.0],\n",
       " 'max': [704.0, 192.0, -712.0],\n",
       " 'faces': [],\n",
       " 'brushs': [brush: s4716  [6] t21 ]}"
      ]
     },
     "execution_count": 125,
     "metadata": {},
     "output_type": "execute_result"
    }
   ],
   "source": [
    "models_added = bsp_read_models(bsp)\n",
    "models_added[1]"
   ]
  },
  {
   "cell_type": "code",
   "execution_count": null,
   "metadata": {},
   "outputs": [],
   "source": [
    "bsp.vertexs"
   ]
  },
  {
   "cell_type": "code",
   "execution_count": 78,
   "metadata": {},
   "outputs": [
    {
     "data": {
      "text/plain": [
       "(959, 959)"
      ]
     },
     "execution_count": 78,
     "metadata": {},
     "output_type": "execute_result"
    }
   ],
   "source": [
    "len(clone.leafs), len(bsp.leafs)"
   ]
  },
  {
   "cell_type": "code",
   "execution_count": 93,
   "metadata": {},
   "outputs": [
    {
     "data": {
      "text/plain": [
       "brush: s4716  [6] t21 "
      ]
     },
     "execution_count": 93,
     "metadata": {},
     "output_type": "execute_result"
    }
   ],
   "source": [
    "clone.brushs[726]"
   ]
  },
  {
   "cell_type": "code",
   "execution_count": 84,
   "metadata": {},
   "outputs": [
    {
     "data": {
      "text/plain": [
       "brush: s4716  [6] t21 "
      ]
     },
     "execution_count": 84,
     "metadata": {},
     "output_type": "execute_result"
    }
   ],
   "source": [
    "bsp.brushs[726]"
   ]
  },
  {
   "cell_type": "code",
   "execution_count": 95,
   "metadata": {},
   "outputs": [
    {
     "data": {
      "text/plain": [
       "model: (0.0, 0.0, 0.0) (0.0, 0.0, 0.0) f876  [0] b728  [1]"
      ]
     },
     "execution_count": 95,
     "metadata": {},
     "output_type": "execute_result"
    }
   ],
   "source": [
    "bsp.models[3]"
   ]
  },
  {
   "cell_type": "code",
   "execution_count": 79,
   "metadata": {},
   "outputs": [
    {
     "data": {
      "text/plain": [
       "([],\n",
       " ['textures: some elements are unused: [1]',\n",
       "  'lightmaps: some elements are unused: [11]'])"
      ]
     },
     "execution_count": 79,
     "metadata": {},
     "output_type": "execute_result"
    }
   ],
   "source": [
    "bsp.validate()"
   ]
  },
  {
   "cell_type": "code",
   "execution_count": 127,
   "metadata": {},
   "outputs": [
    {
     "name": "stdout",
     "output_type": "stream",
     "text": [
      "0x49425350 46 \n",
      "196, 4585  \n",
      "4781, 1584  \n",
      "6365, 15872  \n",
      "22237, 33048  \n",
      "55285, 46032  \n",
      "101317, 37140  \n",
      "138457, 10172  \n",
      "148629, 1600  \n",
      "150229, 9312  \n",
      "159541, 40448  \n",
      "199989, 358160  \n",
      "558149, 98124  \n",
      "656273, 72  \n",
      "656345, 94952  \n",
      "751297, 589824  \n",
      "1341121, 417600  \n",
      "1758721, 24984 \n"
     ]
    }
   ],
   "source": [
    "with open(\"/home/rantrave/games/Quake3/baseq3/maps/pamka_dst_test.bsp\", \"wb\") as f:\n",
    "    f.write(bsp.to_bytes())"
   ]
  },
  {
   "cell_type": "code",
   "execution_count": 18,
   "metadata": {},
   "outputs": [
    {
     "data": {
      "text/plain": [
       "vertex: (0.0, 0.0, 0.0) (0.0, 0.0) (0.0, 0.0) <0.0, 0.0, 0.0> C0x00000000 "
      ]
     },
     "execution_count": 18,
     "metadata": {},
     "output_type": "execute_result"
    }
   ],
   "source": [
    "import bsp_file\n",
    "v = bsp_file.vertex()\n",
    "v"
   ]
  },
  {
   "cell_type": "code",
   "execution_count": 13,
   "metadata": {},
   "outputs": [
    {
     "data": {
      "text/plain": [
       "20592"
      ]
     },
     "execution_count": 13,
     "metadata": {},
     "output_type": "execute_result"
    }
   ],
   "source": [
    "len(bsp.lightvols)"
   ]
  },
  {
   "attachments": {},
   "cell_type": "markdown",
   "metadata": {},
   "source": []
  },
  {
   "cell_type": "code",
   "execution_count": 27,
   "metadata": {},
   "outputs": [
    {
     "data": {
      "text/plain": [
       "[(0,\n",
       "  lightmap: 0x8101018101018101018202028202028303038404048606068808088909098b0b...0x0000000000000000000000000000000000000000000000000000000000000000)]"
      ]
     },
     "execution_count": 27,
     "metadata": {},
     "output_type": "execute_result"
    }
   ],
   "source": [
    "list(enumerate(bsp.lightmaps))"
   ]
  },
  {
   "cell_type": "code",
   "execution_count": 28,
   "metadata": {},
   "outputs": [],
   "source": [
    "import PIL\n",
    "import numpy as np\n",
    "def save_lm(img_data):\n",
    "    return Image.fromarray(np.array(img_data, dtype='uint8').reshape((128, 128, 3)))"
   ]
  },
  {
   "cell_type": "code",
   "execution_count": 29,
   "metadata": {},
   "outputs": [
    {
     "data": {
      "image/png": "[encoded data removed]",
      "text/plain": [
       "<PIL.Image.Image image mode=RGB size=128x128>"
      ]
     },
     "execution_count": 29,
     "metadata": {},
     "output_type": "execute_result"
    }
   ],
   "source": [
    "save_lm(bsp.lightmaps[0].map)"
   ]
  },
  {
   "cell_type": "code",
   "execution_count": 70,
   "metadata": {},
   "outputs": [],
   "source": [
    "name = 'pama'"
   ]
  },
  {
   "cell_type": "code",
   "execution_count": 1,
   "metadata": {},
   "outputs": [],
   "source": [
    "import os\n",
    "import bpy\n",
    "import bmesh\n",
    "import numpy as np\n",
    "from bsp_file import bspfile, test as bsp_test\n",
    "\n",
    "\n",
    "def mat_link(mat, n_out, n_in):\n",
    "    return mat.node_tree.links.new(n_out, n_in)\n",
    "\n",
    "def mat_set_input(mat, node, index, value):\n",
    "    if value is None: return\n",
    "    if isinstance(value, bpy.types.NodeSocket):\n",
    "        mat_link(mat, node.inputs[index], value)\n",
    "        return\n",
    "    if node.inputs[index].type == 'RGBA':\n",
    "        if isinstance(value, int) or isinstance(value,float):\n",
    "            node.inputs[index].default_value = [value, value, value, value]\n",
    "        elif isinstance(value, list) or isinstance(value, tuple):\n",
    "            if len(value) == 4:\n",
    "                node.inputs[index].default_value = value\n",
    "            else:\n",
    "                for i, v in enumerate(value):\n",
    "                    if i > 3: break\n",
    "                    node.inputs[index].default_value[i] = float(v)\n",
    "                    \n",
    "    elif node.inputs[index].type == 'VECTOR':\n",
    "        if isinstance(value, int) or isinstance(value,float):\n",
    "            node.inputs[index].default_value = [value, value, value]\n",
    "        elif isinstance(value, list) or isinstance(value, tuple):\n",
    "            if len(value) == 3:\n",
    "                node.inputs[index].default_value = value\n",
    "            else:\n",
    "                for i, v in enumerate(value):\n",
    "                    if i > 2: break\n",
    "                    node.inputs[index].default_value[i] = v\n",
    "    elif node.inputs[index].type == 'VALUE':\n",
    "        if isinstance(value, int) or isinstance(value,float):\n",
    "            node.inputs[index].default_value = value\n",
    "        elif isinstance(value, list) or isinstance(value, tuple):\n",
    "            if len(value) > 0:\n",
    "                node.inputs[index].default_value = value[0]\n",
    "\n",
    "def mat_node(mat, type, ins=[], ins_dict={}, **parms):\n",
    "    n = mat.node_tree.nodes.new(type=type)\n",
    "    for k, v in parms.items():\n",
    "        setattr(n, k, v)\n",
    "    for i, inp in enumerate(ins):\n",
    "        mat_set_input(mat, n, i, inp)\n",
    "    for i, inp in ins_dict.items():\n",
    "        mat_set_input(mat, n, i, inp)\n",
    "    return n\n",
    "\n",
    "\n",
    "def mat_map(mat, image, uv=None, clamp=False, **parms):\n",
    "    n = mat_node(mat, 'ShaderNodeTexImage', image=image, **parms)\n",
    "    if uv:\n",
    "        mat_link(mat, uv, n.inputs['Vector'])\n",
    "    if clamp:\n",
    "        n.extension = 'CLIP'\n",
    "    return (n.outputs['Color'], n.outputs['Alpha'])\n",
    "\n",
    "def mat_mix(mat, fac, m0, m1, type='MIX'):\n",
    "    n = mat_node(mat, 'ShaderNodeMixRGB', [fac, m0, m1], blend_type=type)\n",
    "    return n.outputs['Color']\n",
    "\n",
    "def setup_mat(mat, lightmap):\n",
    "    mat.use_nodes = True\n",
    "    mat.node_tree.nodes.clear()\n",
    "\n",
    "    uv = mat_node(mat, 'ShaderNodeUVMap', uv_map='Lightmap', from_instancer=False)\n",
    "\n",
    "    mat_node(mat, 'ShaderNodeOutputMaterial', [\n",
    "        mat_node(mat, 'ShaderNodeBsdfDiffuse', [\n",
    "            mat_map(mat, lightmap, uv.outputs['UV'], True)[0]\n",
    "        ]).outputs[0]\n",
    "    ])"
   ]
  },
  {
   "cell_type": "code",
   "execution_count": 2,
   "metadata": {},
   "outputs": [],
   "source": [
    "def assign_material(obj, m):\n",
    "    def find_slot(o):\n",
    "        if m.name in o.data.materials:\n",
    "            slot = [i for i, x in enumerate(o.material_slots) if x.material == m][0]\n",
    "        else:\n",
    "            slot = len(o.material_slots)\n",
    "            o.data.materials.append(m)\n",
    "        return slot\n",
    "    mats = {obj.name: find_slot(obj)}\n",
    "    bpy.ops.object.mode_set(mode = 'OBJECT')\n",
    "    bpy.ops.object.mode_set(mode = 'EDIT')\n",
    "    selected = [(y.name, i) for y in [obj] for i,x in enumerate(y.data.polygons) if y.type == 'MESH']\n",
    "    bpy.ops.object.mode_set(mode = 'OBJECT')\n",
    "    for n, i in selected:\n",
    "        bpy.data.objects[n].data.polygons[i].material_index = mats[n]\n",
    "    bpy.ops.object.mode_set(mode = 'EDIT')\n",
    "    bpy.ops.object.mode_set(mode = 'OBJECT')"
   ]
  },
  {
   "cell_type": "code",
   "execution_count": 3,
   "metadata": {},
   "outputs": [],
   "source": [
    "def make_obj(bsp, name, lm_index):\n",
    "    vxmap = {}\n",
    "    last_v = 0\n",
    "    for f in bsp.faces:\n",
    "        if f.lm_index != lm_index: continue\n",
    "        if f.type != 1 and f.type != 3: continue\n",
    "        for v in range(f.vertex, f.vertex + f.n_vertex):\n",
    "            vxmap[v] = last_v\n",
    "            last_v += 1\n",
    "    \n",
    "    m = bmesh.new()\n",
    "    tx = m.loops.layers.uv.new(\"UV\")\n",
    "    lm = m.loops.layers.uv.new(\"Lightmap\")\n",
    "    for bsp_v in vxmap:\n",
    "        v = bsp.vertexs[bsp_v]\n",
    "        m.verts.new((v.co[0] / GLOBAL_SCALE, v.co[1] / GLOBAL_SCALE, v.co[2] / GLOBAL_SCALE))\n",
    "    m.verts.ensure_lookup_table()\n",
    "    for f in bsp.faces:\n",
    "        if f.lm_index != lm_index: continue\n",
    "        if f.type != 1 and f.type != 3: continue\n",
    "        for tri in range(0, f.n_meshvert // 3):\n",
    "            face = m.faces.new([m.verts[vxmap[f.vertex + bsp.meshverts[x]]] for x in range(f.meshvert + 3 * tri, f.meshvert + 3 * tri + 3)])\n",
    "            for i, v in enumerate(range(f.meshvert + 3 * tri, f.meshvert + 3 * tri + 3)):\n",
    "                face.loops[i][tx].uv = bsp.vertexs[f.vertex + bsp.meshverts[v]].uv\n",
    "                face.loops[i][lm].uv = bsp.vertexs[f.vertex + bsp.meshverts[v]].lm_uv\n",
    "    m.faces.ensure_lookup_table()\n",
    "    mesh = bpy.data.meshes.new(name)\n",
    "    m.to_mesh(mesh)\n",
    "    obj = bpy.data.objects.new(name, mesh)\n",
    "    bpy.context.collection.objects.link(obj)\n",
    "\n",
    "    img = bpy.data.images.new(f'lm_{lm_index}', width = 128, height = 128)\n",
    "    img.pixels[:] = np.pad(np.array(bsp.lightmaps[lm_index].map).reshape((128, 128, 3)) / 255., ((0,0),(0,0),(0,1)), mode=\"constant\", constant_values=1.).reshape((len(img.pixels),))\n",
    "\n",
    "    mat = bpy.data.materials.new(f'mat_{lm_index}')\n",
    "    setup_mat(mat, img)\n",
    "    assign_material(obj, mat)\n",
    "    return obj\n",
    "\n",
    "def load_bsp(path):\n",
    "    name = os.path.basename(path)\n",
    "    with open(path, \"rb\") as f:\n",
    "        bsp_data = f.read()\n",
    "\n",
    "    bsp = bspfile()\n",
    "    bsp.read(bsp_data)\n",
    "    \n",
    "    for i, l in enumerate(bsp.lightmaps):\n",
    "        make_obj(bsp, f\"{name}_{i}\", i)"
   ]
  },
  {
   "cell_type": "code",
   "execution_count": 4,
   "metadata": {},
   "outputs": [
    {
     "name": "stdout",
     "output_type": "stream",
     "text": [
      "0x49425350 46 \n",
      "144, 267  \n",
      "411, 144  \n",
      "555, 832  \n",
      "1387, 2052  \n",
      "3439, 2832  \n",
      "6271, 528  \n",
      "6799, 148  \n",
      "6947, 40  \n",
      "6987, 108  \n",
      "7095, 432  \n",
      "7527, 4224  \n",
      "11751, 72  \n",
      "11823, 0  \n",
      "11823, 2496  \n",
      "14319, 49152  \n",
      "63471, 5760  \n",
      "69231, 176 \n"
     ]
    }
   ],
   "source": [
    "GLOBAL_SCALE = 64\n",
    "load_bsp(\"/home/rantrave/.q3a/baseq3/maps/papamka.bsp\")"
   ]
  },
  {
   "cell_type": "code",
   "execution_count": 1,
   "metadata": {},
   "outputs": [],
   "source": [
    "\n",
    "\n",
    "\n",
    "def box(iter, image):\n",
    "    uvs = np.array(iter)\n",
    "    mn = uvs.min(axis=0)\n",
    "    mx = uvs.max(axis=0)\n",
    "    sz = ((mx - mn) * np.array(image.size)).astype(\"uint32\")\n",
    "    return {\n",
    "        \"src\": np.vstack([mn, mx]),\n",
    "        \"size\": sz + 2,\n",
    "    }\n",
    "\n",
    "def get_images(obj):\n",
    "    img = None\n",
    "    # slot = obj.material_slots[face.material_index]\n",
    "    for slot_index, slot in enumerate(obj.material_slots):\n",
    "        for node in slot.material.node_tree.nodes:\n",
    "            if node.type != \"UVMAP\" or node.uv_map != 'Lightmap': continue\n",
    "            for link in node.outputs['UV'].links:\n",
    "                if link.to_node.type == 'TEX_IMAGE':\n",
    "                    d[slot_index] = link.to_node.image\n",
    "    return d\n",
    "\n",
    "\n",
    "def convert(bsp, obj):\n",
    "    m = bmesh.new()\n",
    "    m.from_mesh(obj.data)\n",
    "    m.verts.ensure_lookup_table()\n",
    "    m.faces.ensure_lookup_table()\n",
    "    lm = m.loops.layers.uv.get(\"Lightmap\")\n",
    "    col = m.loops.layers.float_color[0] if len(m.loops.layers.float_color) > 0 else None\n",
    "    if lm is None:\n",
    "        raise Error(f\"Unable to find lightmap UV layer ('Lightmap'), got: {m.loops.layers.uv.keys()}\")\n",
    "    \n",
    "    otheruvs = [x for x in m.loops.layers.uv.keys() if x != 'Lightmap']\n",
    "    if len(otheruvs) == 0:\n",
    "        # raise Error(f\"Unable to find base UV layer ('Lightmap'), got: {m.loops.layers.uv.keys()}\")\n",
    "        tx = None\n",
    "    else:\n",
    "        tx = m.loops.layers.uv.get(\"UV\", m.loops.layers.uv.get(\"UVMap\", m.loops.layers.uv[otheruvs[0]]))\n",
    "    leaf_faces = {}\n",
    "    verts = []\n",
    "    faces = []\n",
    "\n",
    "    lm_images = get_images(obj)\n",
    "    if any((f.material_index not in lm_images for f in m.faces)):\n",
    "        raise Error(f\"Some materials has no lightmap image defined\")\n",
    "    for f in m.faces:\n",
    "        inds = []\n",
    "        for i,v in enumerate(f.verts):\n",
    "            verts.append({\n",
    "                \"co\": v.co,\n",
    "                \"uv\": mathutils.Vector((0,0)) if tx is None else f.loops[i][tx].uv,\n",
    "                \"lm\": f.loops[i][lm].uv,\n",
    "                \"color\": mathutils.Vector((0,0,0,0)) if col is None else f.loops[i][col] \n",
    "            })\n",
    "        for ind in range(len(f.verts)-2):\n",
    "            # triangle fan\n",
    "            inds += [f.verts[0].index, f.verts[ind+1].index, f.verts[ind+2].index]\n",
    "        faces.append({\n",
    "            \"co\": [x.co for x in f.verts],\n",
    "            \"indices\": inds,\n",
    "            \"material\": \"textures/common/caulk\",\n",
    "        })\n",
    "\n",
    "    return verts, faces, lm_images\n"
   ]
  },
  {
   "cell_type": "code",
   "execution_count": null,
   "metadata": {},
   "outputs": [],
   "source": []
  },
  {
   "cell_type": "code",
   "execution_count": null,
   "metadata": {},
   "outputs": [],
   "source": [
    "def make_template(name):\n",
    "    obj = bpy.data.objects.new(name, )\n"
   ]
  },
  {
   "cell_type": "code",
   "execution_count": 20,
   "metadata": {},
   "outputs": [],
   "source": [
    "def update_lm(bsp, obj):\n",
    "    img = None\n",
    "    for slot in obj.material_slots:\n",
    "        for node in slot.material.node_tree.nodes:\n",
    "            if node.type != \"UVMAP\" or node.uv_map != 'Lightmap': continue\n",
    "            for link in node.outputs['UV'].links:\n",
    "                if link.to_node.type == 'TEX_IMAGE':\n",
    "                    img = link.to_node.image\n",
    "    if img is None:\n",
    "        return -1\n",
    "    lm_index = 0 #obj.bsp_lm_index\n",
    "    if img.size[0] != 128 or img.size[1] != 128:\n",
    "        img.scale(128, 128)\n",
    "    bsp.lightmaps[lm_index].map = list((np.delete(np.array(img.pixels).reshape((128, 128, 4)), 3, axis=2).reshape(128*128*3) * 255).astype(\"uint8\"))\n",
    "    return obj.bsp_lm_index\n",
    "\n",
    "def export_lightmaps(path):\n",
    "    name = os.path.basename(path)\n",
    "    with open(path, \"rb\") as f:\n",
    "        bsp_data = f.read()\n",
    "\n",
    "    bsp = bspfile()\n",
    "    bsp.read(bsp_data)\n",
    "    updated_set = set()\n",
    "    for obj in bpy.context.selected_objects:\n",
    "        if obj.type != 'MESH': continue\n",
    "        ind = 0 #obj.bsp_lm_index\n",
    "        if ind in updated_set: continue\n",
    "        update_lm(bsp, obj)\n",
    "    \n",
    "    with open(path, 'wb') as f:\n",
    "        f.write(bsp.to_bytes())\n"
   ]
  },
  {
   "cell_type": "code",
   "execution_count": 21,
   "metadata": {},
   "outputs": [
    {
     "name": "stdout",
     "output_type": "stream",
     "text": [
      "0x49425350 46 \n",
      "69132, 254  \n",
      "208, 144  \n",
      "352, 832  \n",
      "4016, 2052  \n",
      "1184, 2832  \n",
      "6608, 528  \n",
      "7136, 148  \n",
      "7284, 40  \n",
      "6068, 108  \n",
      "6176, 432  \n",
      "7324, 4224  \n",
      "69388, 72  \n",
      "69388, 0  \n",
      "11548, 2496  \n",
      "14220, 49152  \n",
      "63372, 5760  \n",
      "14044, 176 \n",
      "0x49425350 46 \n",
      "144, 267  \n",
      "411, 144  \n",
      "555, 832  \n",
      "1387, 2052  \n",
      "3439, 2832  \n",
      "6271, 528  \n",
      "6799, 148  \n",
      "6947, 40  \n",
      "6987, 108  \n",
      "7095, 432  \n",
      "7527, 4224  \n",
      "11751, 72  \n",
      "11823, 0  \n",
      "11823, 2496  \n",
      "14319, 49152  \n",
      "63471, 5760  \n",
      "69231, 176 \n"
     ]
    }
   ],
   "source": [
    "export_lightmaps(\"/home/rantrave/.q3a/baseq3/maps/papamka.bsp\")"
   ]
  },
  {
   "cell_type": "code",
   "execution_count": 27,
   "metadata": {},
   "outputs": [
    {
     "data": {
      "text/plain": [
       "array([[[129,   1,   1],\n",
       "        [129,   1,   1],\n",
       "        [129,   1,   1],\n",
       "        ...,\n",
       "        [  0,   0,   0],\n",
       "        [  0,   0,   0],\n",
       "        [  0,   0,   0]],\n",
       "\n",
       "       [[129,   1,   1],\n",
       "        [129,   1,   1],\n",
       "        [129,   1,   1],\n",
       "        ...,\n",
       "        [  0,   0,   0],\n",
       "        [  0,   0,   0],\n",
       "        [  0,   0,   0]],\n",
       "\n",
       "       [[129,   1,   1],\n",
       "        [129,   1,   1],\n",
       "        [130,   2,   2],\n",
       "        ...,\n",
       "        [  0,   0,   0],\n",
       "        [  0,   0,   0],\n",
       "        [  0,   0,   0]],\n",
       "\n",
       "       ...,\n",
       "\n",
       "       [[  0,   0,   0],\n",
       "        [  0,   0,   0],\n",
       "        [  0,   0,   0],\n",
       "        ...,\n",
       "        [  0,   0,   0],\n",
       "        [  0,   0,   0],\n",
       "        [  0,   0,   0]],\n",
       "\n",
       "       [[  0,   0,   0],\n",
       "        [  0,   0,   0],\n",
       "        [  0,   0,   0],\n",
       "        ...,\n",
       "        [  0,   0,   0],\n",
       "        [  0,   0,   0],\n",
       "        [  0,   0,   0]],\n",
       "\n",
       "       [[  0,   0,   0],\n",
       "        [  0,   0,   0],\n",
       "        [  0,   0,   0],\n",
       "        ...,\n",
       "        [  0,   0,   0],\n",
       "        [  0,   0,   0],\n",
       "        [  0,   0,   0]]], dtype=uint8)"
      ]
     },
     "execution_count": 27,
     "metadata": {},
     "output_type": "execute_result"
    }
   ],
   "source": [
    "(np.delete(np.array(bpy.data.images[\"lm_0\"].pixels).reshape((128, 128, 4)), 3, axis=2) * 255).astype(\"uint8\")"
   ]
  },
  {
   "cell_type": "code",
   "execution_count": 5,
   "metadata": {},
   "outputs": [
    {
     "data": {
      "text/plain": [
       "bpy.data.meshes['pamka.bsp'].polygons"
      ]
     },
     "execution_count": 5,
     "metadata": {},
     "output_type": "execute_result"
    }
   ],
   "source": [
    "bpy.data.meshes['pamka.bsp'].polygons"
   ]
  },
  {
   "cell_type": "code",
   "execution_count": 76,
   "metadata": {},
   "outputs": [
    {
     "data": {
      "text/plain": [
       "['lm_0', 'lm_0.001', 'lm_1', 'Render Result', 'Viewer Node']"
      ]
     },
     "execution_count": 76,
     "metadata": {},
     "output_type": "execute_result"
    }
   ],
   "source": [
    "bpy.data.images.keys()"
   ]
  },
  {
   "cell_type": "code",
   "execution_count": 4,
   "metadata": {},
   "outputs": [
    {
     "data": {
      "text/plain": [
       "[(0, brush: s0  [6] t0 ),\n",
       " (1, brush: s6  [6] t0 ),\n",
       " (2, brush: s12  [6] t0 ),\n",
       " (3, brush: s18  [6] t0 ),\n",
       " (4, brush: s24  [6] t0 ),\n",
       " (5, brush: s30  [6] t0 ),\n",
       " (6, brush: s36  [6] t0 ),\n",
       " (7, brush: s42  [6] t0 ),\n",
       " (8, brush: s48  [6] t0 ),\n",
       " (9, brush: s54  [6] t0 ),\n",
       " (10, brush: s60  [6] t1 )]"
      ]
     },
     "execution_count": 4,
     "metadata": {},
     "output_type": "execute_result"
    }
   ],
   "source": [
    "list(enumerate(bsp.brushs))"
   ]
  },
  {
   "cell_type": "code",
   "execution_count": 8,
   "metadata": {},
   "outputs": [
    {
     "data": {
      "text/plain": [
       "[(0, 0),\n",
       " (1, 5),\n",
       " (2, 4),\n",
       " (3, 3),\n",
       " (4, 1),\n",
       " (5, 8),\n",
       " (6, 4),\n",
       " (7, 9),\n",
       " (8, 5),\n",
       " (9, 1),\n",
       " (10, 0),\n",
       " (11, 4),\n",
       " (12, 1),\n",
       " (13, 10),\n",
       " (14, 1),\n",
       " (15, 1),\n",
       " (16, 5),\n",
       " (17, 1),\n",
       " (18, 7),\n",
       " (19, 4),\n",
       " (20, 2),\n",
       " (21, 6),\n",
       " (22, 5),\n",
       " (23, 5),\n",
       " (24, 2),\n",
       " (25, 1)]"
      ]
     },
     "execution_count": 8,
     "metadata": {},
     "output_type": "execute_result"
    }
   ],
   "source": [
    "list(enumerate(bsp.leafbrushs))"
   ]
  },
  {
   "cell_type": "code",
   "execution_count": 7,
   "metadata": {},
   "outputs": [
    {
     "data": {
      "text/plain": [
       "[node: c0  0 (0, 0, 0) (0, 0, 0) 0 [0] 0 [0],\n",
       " node: c-1  -1 (56, 320, 256) (456, 456, 264) 0 [0] 0 [1],\n",
       " node: c-1  -1 (56, 448, -8) (456, 456, 256) 0 [0] 1 [4],\n",
       " node: c-1  -1 (320, 320, 0) (456, 448, 256) 0 [0] 5 [2],\n",
       " node: c0  0 (192, 320, 0) (320, 448, 256) 0 [7] 7 [0],\n",
       " node: c-1  -1 (56, 320, 0) (192, 448, 256) 0 [0] 7 [2],\n",
       " node: c-1  -1 (56, 320, -8) (456, 448, 0) 0 [0] 9 [1],\n",
       " node: c-1  -1 (56, 56, 256) (456, 320, 264) 0 [0] 10 [1],\n",
       " node: c-1  -1 (448, 192, 0) (456, 320, 256) 0 [0] 11 [1],\n",
       " node: c1  0 (320, 192, 0) (448, 320, 256) 7 [7] 12 [0],\n",
       " node: c-1  -1 (320, 192, -8) (456, 320, 0) 0 [0] 12 [1],\n",
       " node: c2  0 (192, 192, 0) (320, 320, 256) 14 [10] 13 [1],\n",
       " node: c-1  -1 (192, 192, -8) (320, 320, 0) 0 [0] 14 [1],\n",
       " node: c3  0 (64, 192, 0) (192, 320, 256) 24 [7] 15 [0],\n",
       " node: c-1  -1 (64, 192, -8) (192, 320, 0) 0 [0] 15 [1],\n",
       " node: c-1  -1 (56, 192, -8) (64, 320, 256) 0 [0] 16 [2],\n",
       " node: c-1  -1 (320, 56, 0) (456, 192, 256) 0 [0] 18 [3],\n",
       " node: c4  0 (192, 64, 0) (320, 192, 256) 31 [7] 21 [0],\n",
       " node: c-1  -1 (56, 64, 0) (192, 192, 256) 0 [0] 21 [2],\n",
       " node: c-1  -1 (56, 56, 0) (320, 64, 256) 0 [0] 23 [2],\n",
       " node: c-1  -1 (56, 56, -8) (456, 192, 0) 0 [0] 25 [1]]"
      ]
     },
     "execution_count": 7,
     "metadata": {},
     "output_type": "execute_result"
    }
   ],
   "source": [
    "bsp.leafs"
   ]
  },
  {
   "cell_type": "code",
   "execution_count": 34,
   "metadata": {},
   "outputs": [],
   "source": [
    "bsp.textures[1].flags = bsp.textures[3].flags\n",
    "bsp.textures[1].contents = bsp.textures[3].contents"
   ]
  },
  {
   "cell_type": "code",
   "execution_count": 39,
   "metadata": {},
   "outputs": [],
   "source": [
    "bsp.textures[1].flags = 0x2\n",
    "bsp.textures[1].contents = 1"
   ]
  },
  {
   "cell_type": "code",
   "execution_count": null,
   "metadata": {},
   "outputs": [],
   "source": [
    "list([(bsp.planes[x.plane].normal, bsp.planes[x.plane].dist) for x in bsp.nodes])"
   ]
  },
  {
   "cell_type": "code",
   "execution_count": null,
   "metadata": {},
   "outputs": [],
   "source": [
    "list(enumerate(bsp.leafs))"
   ]
  },
  {
   "cell_type": "code",
   "execution_count": null,
   "metadata": {},
   "outputs": [],
   "source": [
    "[(i, bsp.faces[bsp.leaffaces[x]]) for i, l in enumerate(bsp.leafs) for x in range(l.leafface, l.leafface + l.n_leafface)]"
   ]
  },
  {
   "cell_type": "code",
   "execution_count": 8,
   "metadata": {},
   "outputs": [
    {
     "data": {
      "text/plain": [
       "[model: (0, 0, -1033895936) (1141899264, 1141899264, 1131937792) f0  [14] b0  [10]]"
      ]
     },
     "execution_count": 8,
     "metadata": {},
     "output_type": "execute_result"
    }
   ],
   "source": [
    "bsp.models"
   ]
  },
  {
   "cell_type": "code",
   "execution_count": 81,
   "metadata": {},
   "outputs": [
    {
     "data": {
      "text/plain": [
       "[(0, [4, 11]), (4, [4, 11]), (7, [7, 11]), (11, [4, 7, 11])]"
      ]
     },
     "execution_count": 81,
     "metadata": {},
     "output_type": "execute_result"
    }
   ],
   "source": [
    "cl = {x.cluster: i for i, x in enumerate(bsp.leafs)}\n",
    "[(i, [cl[y] for y in bsp.visdata.visible(x.cluster)]) for i, x in enumerate(bsp.leafs) if x.cluster >= 0]"
   ]
  },
  {
   "cell_type": "code",
   "execution_count": 85,
   "metadata": {},
   "outputs": [],
   "source": [
    "bsp.planes[0] = bsp.planes[1]"
   ]
  },
  {
   "cell_type": "code",
   "execution_count": 40,
   "metadata": {},
   "outputs": [
    {
     "name": "stdout",
     "output_type": "stream",
     "text": [
      "0x49425350 46 \n",
      "144, 93  \n",
      "237, 288  \n",
      "525, 864  \n",
      "1389, 468  \n",
      "1857, 720  \n",
      "2577, 160  \n",
      "2737, 112  \n",
      "2849, 40  \n",
      "2889, 132  \n",
      "3021, 560  \n",
      "3581, 3784  \n",
      "7365, 180  \n",
      "7545, 0  \n",
      "7545, 1976  \n",
      "9521, 98304  \n",
      "107825, 1344  \n",
      "109169, 32 \n"
     ]
    }
   ],
   "source": [
    "with open(\"/home/rantrave/games/Quake3/baseq3/maps/detailtest2.bsp\", \"wb\") as f:\n",
    "    f.write(bsp.to_bytes())"
   ]
  },
  {
   "cell_type": "code",
   "execution_count": 1,
   "metadata": {},
   "outputs": [],
   "source": [
    "import bpy\n",
    "import bmesh\n",
    "import mathutils\n",
    "eps = 1e-5"
   ]
  },
  {
   "cell_type": "code",
   "execution_count": 111,
   "metadata": {},
   "outputs": [],
   "source": [
    "def create_test_bmesh(size):\n",
    "    m = bmesh.new()\n",
    "    # matrix=mathutils.Matrix.Translation((-size/2, -size/2, -size/2))\n",
    "    bmesh.ops.create_cube(m, size=size, matrix=mathutils.Matrix.Scale(0.5, 4, (0, 0, 1)), calc_uvs=True)\n",
    "    for f in m.faces:\n",
    "        f.normal_flip()\n",
    "    bmesh.ops.create_cube(m, size=size/2, calc_uvs=True)\n",
    "    return m\n",
    "def get_plane(face):\n",
    "    return (face.normal, face.normal @ face.verts[0].co)\n",
    "\n",
    "def select_faces(bm, pred, faces=None):\n",
    "    tmp = bm.copy()\n",
    "    try:\n",
    "        bmesh.ops.delete(tmp, geom=[x for x in tmp.faces if (faces is not None and x not in faces) or not pred(x)], context='FACES')\n",
    "        return tmp\n",
    "    except:\n",
    "        tmp.free()\n",
    "        del tmp\n",
    "        raise\n",
    "\n",
    "def get_faces_geom(faces):\n",
    "    return [y  for x in faces for y in x.verts[:] + x.edges[:] + [x]]\n",
    "\n",
    "def cut_face(bm, face, no, co, clean_outer=True):\n",
    "    bmesh.ops.remove_doubles(bm, verts=face.verts[:], dist=1e-3)\n",
    "    g = bmesh.ops.bisect_plane(bm, geom=[face] + face.edges[:] + face.verts[:], plane_co=co, plane_no=no, clear_inner=not clean_outer, clear_outer=clean_outer)\n",
    "    nfs = list([x for x in g['geom'] if x.__class__.__name__ == 'BMFace' and x.calc_area() >= eps])\n",
    "    # remove empty faces\n",
    "    bmesh.ops.delete(bm, geom=[x for x in g['geom'] if x.__class__.__name__ == 'BMFace' and x.calc_area() < eps], context='FACES')\n",
    "    if len(nfs)>0:\n",
    "        return nfs[0]\n",
    "    else:\n",
    "        return face if face.is_valid else None\n",
    "\n",
    "def copy_face(face, dst_mesh):\n",
    "    return dst_mesh.faces.new([dst_mesh.verts.new(x.co) for x in face.verts])\n",
    "\n",
    "def intersect_coplanar_convex_faces(bm, f0, f1, eps=1e-5):\n",
    "    nf = f1.copy()\n",
    "    for e in f0.edges:\n",
    "        n = f0.normal.cross(e.verts[1].co - e.verts[0].co).normalized()\n",
    "        nf = cut_face(bm, nf, n, e.verts[0].co, False)\n",
    "        # probably move to the end\n",
    "        # bmesh.ops.remove_doubles(bm, verts=nf.verts[:], dist=1e-3)\n",
    "        # g = bmesh.ops.bisect_plane(bm, geom=[nf] + nf.edges[:] + nf.verts[:], plane_co=e.verts[0].co, plane_no=n, clear_inner=True, clear_outer=False)\n",
    "        # nfs = list([x for x in g['geom'] if x.__class__.__name__ == 'BMFace' and x.calc_area() >= eps])\n",
    "        # # remove empty faces\n",
    "        # bmesh.ops.delete(bm, geom=[x for x in g['geom'] if x.__class__.__name__ == 'BMFace' and x.calc_area() < eps], context='FACES')\n",
    "        # # print(nfs)\n",
    "        # if len(nfs)>0:\n",
    "        #     nf = nfs[0]\n",
    "        # else:\n",
    "        #     nf = nf if nf.is_valid else None\n",
    "        if nf is None:\n",
    "            # print(\"nf is none\")\n",
    "            return None\n",
    "    area = nf.calc_area()\n",
    "    if abs(area) < eps:\n",
    "        return None\n",
    "    if abs(f0.calc_area() - area) < eps:\n",
    "        bmesh.ops.delete(bm, geom=[nf], context='FACES')\n",
    "        return f0\n",
    "    if abs(f1.calc_area() - area) < eps:\n",
    "        bmesh.ops.delete(bm, geom=[nf], context='FACES')\n",
    "        return f1\n",
    "    return nf\n",
    "\n",
    "def get_planar_intersections(bm):\n",
    "    bmesh.ops.triangulate(bm, faces=bm.faces[:])\n",
    "    bm.faces.ensure_lookup_table()\n",
    "    bm.faces.index_update()\n",
    "    for i in bm.faces:\n",
    "        i.normal_update()\n",
    "    faces = bm.faces[:]\n",
    "    tf = [list([(x, i) for i, x in enumerate(faces)]), []]\n",
    "    inters = set()\n",
    "    used = set()\n",
    "    for i in range(len(faces)):\n",
    "        for j in range(i+1, len(faces)):\n",
    "            f = intersect_coplanar_convex_faces(bm, faces[i], faces[j])\n",
    "            if f is not None and f != faces[i] and f != faces[j]:\n",
    "                used.add((i, j))\n",
    "                tf[1].append((f, (i, j)))\n",
    "                inters.add(i)\n",
    "                inters.add(j)\n",
    "    p = 1 \n",
    "    while len(tf[p]) > 0:\n",
    "        newfaces = []\n",
    "        for face, inds in tf[p]:\n",
    "            face.normal_update()\n",
    "            for i in inters:\n",
    "                if i in inds: continue\n",
    "                q = tuple(sorted(inds + [i]))\n",
    "                if q in used: continue\n",
    "                f = intersect_coplanar_convex_faces(bm, face, faces[i])\n",
    "                if f is not None:\n",
    "                    newfaces.append((f, q))\n",
    "        tf.append(newfaces)\n",
    "        p += 1\n",
    "    print(tf)\n",
    "    return [[y for y, *_ in x] for x in tf]\n",
    "\n",
    "def get_planar_area(bm):\n",
    "    sgn = 1\n",
    "    sum = 0\n",
    "    for i in get_planar_intersections(bm):\n",
    "        for j in i:\n",
    "            sum += sgn * j.calc_area()\n",
    "        sgn *= -1\n",
    "    return sum\n",
    "\n",
    "def is_coplanar(face, plane):\n",
    "    return abs(face.normal @ plane[0]) < eps * eps and classify(plane, face.verts[0].co) == 0\n",
    "    \n",
    "def check_portal(bm, portal_face, portal_plane, faces):\n",
    "    tmp_bm = select_faces(bm, lambda f: is_coplanar(f, portal_plane), faces)\n",
    "    try:\n",
    "        for j in portal_face.edges:\n",
    "            n = portal_face.normal.cross(j.verts[1].co - j.verts[0].co).normalized()\n",
    "            bmesh.ops.bisect_plane(tmp_bm, geom=tmp_bm.faces[:] + tmp_bm.edges[:] + tmp_bm.verts[:], plane_co=j.verts[0].co, plane_no=n, clear_inner=True)\n",
    "\n",
    "        area = get_planar_area(tmp_bm)\n",
    "        p_area = portal_face.calc_area()\n",
    "        return abs(area - p_area) < eps\n",
    "    finally:\n",
    "        tmp_bm.free()\n",
    "        del tmp_bm\n",
    "\n",
    "def cut_volume(bm, plane, clean_outer=True):\n",
    "    bmesh.ops.bisect_plane(bm, geom=bm.faces[:] + bm.edges[:] + bm.verts[:], plane_co=plane[0] * plane[1], plane_no=plane[0], clear_inner=not clean_outer, clean_outer=clean_outer)\n",
    "    bmesh.ops.holes_fill(bm, edges=bm.edges, sides=len(bm.edges))\n",
    "    bmesh.ops.delete(bm, geom=[x for x in bm.faces if x.calc_area() < eps], context='FACES')\n",
    "    for face in bm.faces:\n",
    "        bmesh.ops.remove_doubles(bm, verts=face.verts[:], dist=eps)\n",
    "\n",
    "\n",
    "def get_extents(bm, size):\n",
    "    xmin = size\n",
    "    ymin = size\n",
    "    zmin = size\n",
    "    xmax = -size\n",
    "    ymax = -size\n",
    "    zmax = -size\n",
    "    for v in bm.verts:\n",
    "        xmin = min(xmin, v.co.x)\n",
    "        ymin = min(ymin, v.co.y)\n",
    "        zmin = min(zmin, v.co.z)\n",
    "        xmax = max(xmax, v.co.x)\n",
    "        ymax = max(ymax, v.co.y)\n",
    "        zmax = max(zmax, v.co.z)\n",
    "    return (xmin, ymin, zmin), (xmax, ymax, zmax)\n",
    "\n",
    "def compare_planes(x, y):\n",
    "    return all([abs(xx - yy) < eps for xx,yy in zip(x[0],y[0])]) and abs(x[1] - y[1]) < eps\n",
    "\n",
    "def build_brush_planes_and_extents(bm, size):\n",
    "    ext = get_extents(bm, size)\n",
    "    planes = []\n",
    "    # extents\n",
    "    planes.append((mathutils.Vector((-1., 0., 0.)), -ext[0][0]))\n",
    "    planes.append((mathutils.Vector(( 1., 0., 0.)),  ext[1][0]))\n",
    "    planes.append((mathutils.Vector((0., -1., 0.)), -ext[0][1]))\n",
    "    planes.append((mathutils.Vector((0.,  1., 0.)),  ext[1][1]))\n",
    "    planes.append((mathutils.Vector((0., 0., -1.)), -ext[0][2]))\n",
    "    planes.append((mathutils.Vector((0., 0.,  1.)),  ext[1][2]))\n",
    "\n",
    "    # faces\n",
    "    for f in bm.faces:\n",
    "        planes.append(get_plane(f))\n",
    "\n",
    "    # projections\n",
    "    tmp = bmesh.new()\n",
    "    try:\n",
    "        ones = mathutils.Vector((1., 1., 1.))\n",
    "        axes = [\n",
    "            mathutils.Vector((1., 0., 0.)),\n",
    "            mathutils.Vector((0., 1., 0.)),\n",
    "            mathutils.Vector((0., 0., 1.)),\n",
    "        ]\n",
    "        for a in axes:\n",
    "            tmp.clear()\n",
    "            ort = ones - a\n",
    "\n",
    "            for v in bm.verts:\n",
    "                tmp.verts.new(v.co * ort)\n",
    "            bmesh.ops.remove_doubles(tmp, verts=tmp.verts[:], dist=eps)\n",
    "            bmesh.ops.convex_hull(tmp, input=tmp.verts[:])\n",
    "            f = bmesh.ops.join_triangles(tmp, faces=tmp.faces, cmp_seam=False,cmp_sharp=False,cmp_uvs=False,cmp_vcols=False,angle_face_threshold=10,angle_shape_threshold=10)\n",
    "            if len(f[\"faces\"]) == 0:\n",
    "                # face is segment or point\n",
    "                if len(tmp.verts) < 2:\n",
    "                    # projected to point, ignore\n",
    "                    continue\n",
    "                tmp.verts.ensure_lookup_table()\n",
    "                n = a.cross(tmp.verts[0].co - tmp.verts[1].co).normalized()\n",
    "                d = n @ tmp.verts[0].co\n",
    "                planes.append((n, d))\n",
    "                n = -n\n",
    "                d = n @ tmp.verts[0].co\n",
    "                planes.append((n, d))\n",
    "                continue\n",
    "            f = f['faces'][0]\n",
    "\n",
    "            for e in f.edges:\n",
    "                n = -f.normal.cross(e.verts[1].co - e.verts[0].co).normalized()\n",
    "                d = n @ e.verts[0].co\n",
    "                planes.append((n, d))\n",
    "    finally:\n",
    "        tmp.free()\n",
    "        del tmp\n",
    "\n",
    "    return [v1 for i, v1 in enumerate(planes) if not any((compare_planes(v1, v2) for v2 in planes[:i]))]\n",
    "\n",
    "def classify(plane, co):\n",
    "    d = plane[0] @ co - plane[1]\n",
    "    if d > eps: return 1\n",
    "    if d < -eps: return 2\n",
    "    return 0\n",
    "\n",
    "def classify_face(plane, face):\n",
    "    dst = 0\n",
    "    for v in face.verts:\n",
    "        dst = dst | classify(plane, v.co)\n",
    "        if dst == 3: break\n",
    "    return dst\n",
    "\n",
    "def check_intersection(brush, faces):\n",
    "    for p in brush:\n",
    "        for f in face:\n",
    "            if classify_face(p, f) == 1: return True\n",
    "    return False\n",
    "            \n"
   ]
  },
  {
   "cell_type": "code",
   "execution_count": 89,
   "metadata": {},
   "outputs": [],
   "source": [
    "from typing import Tuple, List, Iterable\n",
    "\n",
    "def cat(*params: Iterable):\n",
    "    for i in params:\n",
    "        for j in i:\n",
    "            yield j\n",
    "\n",
    "def create_plane(bm, no, d, size):\n",
    "    n = mathutils.Vector(no)\n",
    "    inv = 1.0 / (1 + n.z)\n",
    "    dd = - n.x * n.y * inv\n",
    "    v0 = size * mathutils.Vector((1 - n.x * n.x * inv, dd, n.x))\n",
    "    v1 = size * mathutils.Vector((dd, 1 - n.y * n.y * inv, n.y))\n",
    "    f = bm.faces.new((\n",
    "        bm.verts.new(-v0-v1 + d * n),\n",
    "        bm.verts.new( v0-v1 + d * n),\n",
    "        bm.verts.new( v0+v1 + d * n),\n",
    "        bm.verts.new( v1-v0 + d * n)))\n",
    "    f.normal_update()\n",
    "    return f\n",
    "\n",
    "class bsp_tree:\n",
    "    def __init__(self, mesh):\n",
    "        self.mesh = mesh\n",
    "        self.mesh.faces.ensure_lookup_table()\n",
    "        self.portals_mesh = bmesh.new()\n",
    "        self.size = 0\n",
    "        for i in self.mesh.verts:\n",
    "            self.size = max(i.co.length, self.size)\n",
    "        self.root = None\n",
    "\n",
    "    def build(self, hints=[]):\n",
    "        self.root = bsp_node(self, self.mesh.faces)\n",
    "        self.root.split(hints)\n",
    "        self.root.leafize()\n",
    "\n",
    "        self.__numerate()\n",
    "        self.__build_portals()\n",
    "        self.__mark_areas()\n",
    "        self.__cut_volumes()\n",
    "\n",
    "    def add_detail(self, faces):\n",
    "        pass\n",
    "    def add_brushs(self, brushs):\n",
    "        pass\n",
    "    def get_node(self, index):\n",
    "        if index < 0:\n",
    "            return self.leafs[index]\n",
    "        return self.nodes[index]\n",
    "\n",
    "    def _pick_splitter(self, faces):\n",
    "        return faces[0]\n",
    "        # for i in faces:\n",
    "            # if i in used_faces:\n",
    "                # continue\n",
    "            # return i\n",
    "\n",
    "    def _add_portal_plane(self, plane):\n",
    "        return create_plane(self.portals_mesh, plane[0], plane[1], self.size)\n",
    "\n",
    "    def _cut_portal(self, face, plane, front=True):\n",
    "        return cut_face(self.portals_mesh, face, plane[0], plane[1], not front)\n",
    "\n",
    "    def __build_portals(self):\n",
    "        leafs = self.root.list_leafs()\n",
    "        for i in range(len(leafs)):\n",
    "            leafs[i].cut_volume()\n",
    "            for j in range(i+1, len(leafs)):\n",
    "                prt, node = leafs[i].find_portal(leafs[j])\n",
    "                is_closed = check_portal(self.portals_mesh, prt, node.p, leafs[i].faces)\n",
    "                if prt is None: continue\n",
    "                leafs[i].add_portal(prt, leafs[j], is_closed)\n",
    "                leafs[j].add_portal(prt, leafs[i], is_closed)\n",
    "\n",
    "    def __numerate(self):\n",
    "        self.nodes = [self.root]\n",
    "        self.leafs = []\n",
    "        q = [self.root]\n",
    "        self.root.set_index(0)\n",
    "        node_index = 1\n",
    "        leaf_index = 0\n",
    "        while len(q) > 0:\n",
    "            n: bsp_node = q.pop()\n",
    "            if n.is_leaf():\n",
    "                n.set_index(-1-leaf_index)\n",
    "                leaf_index += 1\n",
    "                self.leafs.append(n)\n",
    "                continue\n",
    "            n.set_index(node_index)\n",
    "            node_index += 1\n",
    "            self.nodes.append()\n",
    "            for i in n.children:\n",
    "                q.append(i)\n",
    "\n",
    "\n",
    "    def __mark_areas(self):\n",
    "        unused = set(range(len(self.leafs)))\n",
    "        p = mathutils.Vector((-self.size * 2, -self.size * 2, -self.size * 2))\n",
    "        # mark external (definetly -1)\n",
    "        q = [self.root.find(p)]\n",
    "        while len(q) > 0:\n",
    "            n = q.pop()\n",
    "            unused.remove(n.index)\n",
    "            n.area = -1\n",
    "            for _, neighbour in n.open_portals():\n",
    "                if neighbour in unused:\n",
    "                    q.append(neighbour)\n",
    "\n",
    "        # rest is probably inside\n",
    "        area = 0\n",
    "        while len(unused) > 0:\n",
    "            q = [unused.pop()]\n",
    "            while len(q) > 0:\n",
    "                n = q.pop()\n",
    "                unused.remove(n.index)\n",
    "                n.area = area\n",
    "                for _, neighbour in n.open_portals():\n",
    "                    if neighbour in unused:\n",
    "                        q.append(neighbour)\n",
    "            area += 1\n",
    "            \n",
    "    def __cut_volumes(self):\n",
    "        for i in self.leafs:\n",
    "            i.cut_volume()\n",
    "\n",
    "class penumbra:\n",
    "    def __init__(self, node, portal0, node0, portal1, node1):\n",
    "        self._mesh = bmesh.new()\n",
    "\n",
    "        self.node = node\n",
    "        \n",
    "        self.p0 = copy_face(portal0, self._mesh)\n",
    "        self.p1 = portal1\n",
    "\n",
    "class bsp_node:\n",
    "    def __init__(self, tree: bsp_tree, faces, parent=None, depth=0):\n",
    "        self.tree = tree\n",
    "        self.faces = faces[:]\n",
    "        self.p = None\n",
    "        self.children = None\n",
    "        self.parent = parent\n",
    "        self.depth = depth\n",
    "        self.portals_open = []\n",
    "        self.portals_closed = []\n",
    "        self.area = 0\n",
    "        self.volume = None\n",
    "        self.index = None\n",
    "        self.detail_faces = []\n",
    "        self.brushs = []\n",
    "\n",
    "    def set_index(self, index):\n",
    "        self.index = index\n",
    "\n",
    "    def get_index(self):\n",
    "        return self.index\n",
    "\n",
    "    def is_front(self):\n",
    "        if self.parent is None: return True\n",
    "        return self.parent.children[0] == self\n",
    "\n",
    "    def is_leaf(self):\n",
    "        return self.children is None\n",
    "\n",
    "    def add_portal(self, face, other_leaf, closed):\n",
    "        if closed:\n",
    "            self.portals_closed.append((face, other_leaf))\n",
    "        else:\n",
    "            self.portals_open.append((face, other_leaf))\n",
    "\n",
    "    def open_portals(self):\n",
    "        for i in self.portals_open:\n",
    "            yield i\n",
    "\n",
    "    def split(self, hints=[]):\n",
    "        # check if leaf\n",
    "        if len(self.faces) == 0: return\n",
    "        if len(hints) > 0:\n",
    "            s = None\n",
    "            p = hints[0]\n",
    "        else:\n",
    "            s = self.tree._pick_splitter(self.faces)\n",
    "            p = get_plane(s)\n",
    "        self.portal_face = self.tree._add_portal_plane(p)\n",
    "        pr = self.parent\n",
    "        while pr is not None:\n",
    "            self.portal_face = self.tree._cut_portal(self.portal_face, pr.p, self.is_front())\n",
    "            pr = pr.parent\n",
    "        self.p = p\n",
    "        front = []\n",
    "        back = []\n",
    "        own = [] if s is None else [s]\n",
    "        for f in self.faces:\n",
    "            if f == s: continue\n",
    "            d = classify_face(p, f)\n",
    "            if d & 0x1: front.append(f)\n",
    "            if d & 0x2: back.append(f)\n",
    "            if d == 0: own.append(f)\n",
    "        \n",
    "        self.faces = own\n",
    "        print(self.faces)\n",
    "        self.children = [bsp_node(self.tree, front, self, self.depth + 1), bsp_node(self.tree, back, self, self.depth + 1)]\n",
    "\n",
    "        for c in self.children:\n",
    "            c.split(hints[1:])\n",
    "\n",
    "    def find(self, co):\n",
    "        if self.is_leaf():\n",
    "            return self\n",
    "\n",
    "        c = classify(self.p, co)\n",
    "        if c & 0x1:\n",
    "            return self.children[0].find(co)\n",
    "        \n",
    "        return self.children[1].find(co)\n",
    "\n",
    "    def leafize(self, faces = []):\n",
    "        if self.is_leaf():\n",
    "            self.faces += faces\n",
    "            return\n",
    "        front = []\n",
    "        back = []\n",
    "        for i in faces:\n",
    "            d = self.tree.classify(self.p, i)\n",
    "            print(i, d)\n",
    "            if (d != 0x2): front.append(i) # incident, front or coplanar\n",
    "            if (d != 0x1): back.append(i) # incident, back or coplanar\n",
    "\n",
    "        self.children[0].leafize(front + self.faces)\n",
    "        self.children[1].leafize(back + self.faces)\n",
    "        self.faces = []\n",
    "\n",
    "    # def build_penumbras(self):\n",
    "\n",
    "    def cut_volume(self):\n",
    "        if not self.is_leaf(): return\n",
    "        self.volume = bmesh.new()\n",
    "        bmesh.ops.create_cube(self.volume, size=self.tree.size * 2)\n",
    "        n = self\n",
    "        while n.parent is not None:\n",
    "            cut_volume(self.volume, self.parent.p, not self.is_front())\n",
    "            n = n.parent\n",
    "\n",
    "    def lca(self, node):\n",
    "        npath = []\n",
    "        spath = []\n",
    "        na = node\n",
    "        sa = self\n",
    "        while(na != sa):\n",
    "            if na.depth > sa.depth:\n",
    "                na = na.parent\n",
    "                npath.append(na)\n",
    "                continue\n",
    "            if na.depth < sa.depth:\n",
    "                sa = sa.parent\n",
    "                spath.append(sa)\n",
    "                continue\n",
    "            na = na.parent\n",
    "            sa = sa.parent\n",
    "            npath.append(na)\n",
    "            spath.append(sa)\n",
    "        return sa, (spath, npath)\n",
    "\n",
    "    # def list_leafs(self):\n",
    "    #     leafs = []\n",
    "    #     q = [self]\n",
    "    #     while len(q) > 0:\n",
    "    #         s = q.pop()\n",
    "    #         if s.children is None:\n",
    "    #             leafs.append(s)\n",
    "    #             continue\n",
    "    #         q += s.children\n",
    "\n",
    "    #     return leafs\n",
    "\n",
    "    def find_portal(self, to_leaf):\n",
    "        ca, (n0, n1) = self.lca(to_leaf)\n",
    "        if ca.portal_face is None:\n",
    "            return None\n",
    "        portal = ca.portal_face\n",
    "        if portal is None:\n",
    "            raise LookupError(\"Invalid portal\")\n",
    "        portal = portal.copy()\n",
    "        for i in cat(n0, n1):\n",
    "            portal = tree._cut_portal(portal, i.p, i.is_front())\n",
    "            if portal is None:\n",
    "                return None\n",
    "\n",
    "        return portal, ca\n",
    "\n",
    "    def str(self, tabs=0):\n",
    "        if self.children is None:\n",
    "            return f\"{' ' * tabs}Leaf: {self.faces}\"\n",
    "        return f\"{' '* tabs}- {self.p}\\n{' '* tabs}{self.children[0].str(tabs+2)}\\n{' '* tabs}{self.children[1].str(tabs+2)}\"\n",
    "        \n"
   ]
  },
  {
   "cell_type": "code",
   "execution_count": null,
   "metadata": {},
   "outputs": [],
   "source": []
  },
  {
   "cell_type": "code",
   "execution_count": 141,
   "metadata": {},
   "outputs": [],
   "source": [
    "tree = bsp_tree(m)"
   ]
  },
  {
   "cell_type": "code",
   "execution_count": 142,
   "metadata": {},
   "outputs": [],
   "source": [
    "root = bsp_node(tree, list(range(0, len(m.faces))))"
   ]
  },
  {
   "cell_type": "code",
   "execution_count": 3,
   "metadata": {},
   "outputs": [
    {
     "data": {
      "text/plain": [
       "[]"
      ]
     },
     "execution_count": 3,
     "metadata": {},
     "output_type": "execute_result"
    }
   ],
   "source": [
    "q = []\n",
    "q[1:]"
   ]
  },
  {
   "cell_type": "code",
   "execution_count": 144,
   "metadata": {},
   "outputs": [
    {
     "name": "stdout",
     "output_type": "stream",
     "text": [
      "(Vector((1.0, 0.0, 0.0)), -256.0) []\n",
      "-------------------------\n",
      "-------------------------\n",
      "[]\n",
      "[]\n",
      "[0]\n",
      "-------------------------\n",
      "(Vector((0.0, -1.0, -0.0)), -256.0) [0]\n",
      "-------------------------\n",
      "0 1\n",
      "-------------------------\n",
      "[0]\n",
      "[]\n",
      "[1]\n",
      "-------------------------\n",
      "(Vector((-1.0, 0.0, -0.0)), -256.0) [0, 1]\n",
      "-------------------------\n",
      "0 1\n",
      "1 1\n",
      "-------------------------\n",
      "[0, 1]\n",
      "[]\n",
      "[2]\n",
      "-------------------------\n",
      "(Vector((0.0, 1.0, 0.0)), -256.0) [0, 1, 2]\n",
      "-------------------------\n",
      "0 1\n",
      "1 1\n",
      "2 1\n",
      "-------------------------\n",
      "[0, 1, 2]\n",
      "[]\n",
      "[3]\n",
      "-------------------------\n",
      "(Vector((0.0, 0.0, 1.0)), -128.0) [0, 1, 2, 3]\n",
      "-------------------------\n",
      "0 1\n",
      "1 1\n",
      "2 1\n",
      "3 1\n",
      "-------------------------\n",
      "[0, 1, 2, 3]\n",
      "[]\n",
      "[4, 10]\n",
      "-------------------------\n",
      "(Vector((0.0, 0.0, -1.0)), -128.0) [0, 1, 2, 3, 4, 10]\n",
      "-------------------------\n",
      "0 1\n",
      "1 1\n",
      "2 1\n",
      "3 1\n",
      "4 1\n",
      "10 1\n",
      "-------------------------\n",
      "[0, 1, 2, 3, 4, 10]\n",
      "[]\n",
      "[5, 11]\n",
      "-------------------------\n",
      "(Vector((-1.0, -0.0, 0.0)), 128.0) [0, 1, 2, 3, 4, 10, 5, 11]\n",
      "-------------------------\n",
      "0 1\n",
      "1 3\n",
      "2 2\n",
      "3 3\n",
      "4 3\n",
      "10 2\n",
      "5 3\n",
      "11 2\n",
      "-------------------------\n",
      "[0, 1, 3, 4, 5]\n",
      "[1, 2, 3, 4, 10, 5, 11]\n",
      "[6]\n",
      "-------------------------\n",
      "(Vector((0.0, 1.0, 0.0)), 128.0) [1, 2, 3, 4, 10, 5, 11, 6]\n",
      "-------------------------\n",
      "1 1\n",
      "2 3\n",
      "3 2\n",
      "4 3\n",
      "10 2\n",
      "5 3\n",
      "11 2\n",
      "6 2\n",
      "-------------------------\n",
      "[1, 2, 4, 5]\n",
      "[2, 3, 4, 10, 5, 11, 6]\n",
      "[7]\n",
      "-------------------------\n",
      "(Vector((1.0, -0.0, 0.0)), 128.0) [2, 3, 4, 10, 5, 11, 6, 7]\n",
      "-------------------------\n",
      "2 1\n",
      "3 3\n",
      "4 3\n",
      "10 2\n",
      "5 3\n",
      "11 2\n",
      "6 2\n",
      "7 2\n",
      "-------------------------\n",
      "[2, 3, 4, 5]\n",
      "[3, 4, 10, 5, 11, 6, 7]\n",
      "[8]\n",
      "-------------------------\n",
      "(Vector((0.0, -1.0, 0.0)), 128.0) [3, 4, 10, 5, 11, 6, 7, 8]\n",
      "-------------------------\n",
      "3 1\n",
      "4 3\n",
      "10 2\n",
      "5 3\n",
      "11 2\n",
      "6 2\n",
      "7 2\n",
      "8 2\n",
      "-------------------------\n",
      "[3, 4, 5]\n",
      "[4, 10, 5, 11, 6, 7, 8]\n",
      "[9]\n",
      "-------------------------\n"
     ]
    }
   ],
   "source": [
    "root.leafize()"
   ]
  },
  {
   "cell_type": "code",
   "execution_count": 25,
   "metadata": {},
   "outputs": [
    {
     "name": "stdout",
     "output_type": "stream",
     "text": [
      "Total: 0.0072023868560791016, 0.5723669528961182, 3.649940013885498\n"
     ]
    }
   ],
   "source": [
    "import time\n",
    "import random as r\n",
    "\n",
    "test = 10000\n",
    "b = bmesh.new()\n",
    "bmesh.ops.create_cone(b, cap_ends=True, segments=256, diameter1=64, diameter2=0, depth=128)\n",
    "t = time.time()\n",
    "n = mathutils.Vector((0, 0, 1))\n",
    "tt0 = 0.\n",
    "tt1 = 0.\n",
    "tt2 = 0.\n",
    "\n",
    "for i in range(test):\n",
    "    t0 = time.time()\n",
    "    p0 = mathutils.Vector((0, 0, 0.1 + 0.85 * (test - i) / test))\n",
    "    t1 = time.time()\n",
    "    q = b.faces[:] + b.edges[:] + b.verts[:]\n",
    "    t2 = time.time()\n",
    "    bmesh.ops.bisect_plane(b, geom=q, plane_co=p0, plane_no=n, clear_outer=True)\n",
    "    t3 = time.time()\n",
    "    tt0 += t1 - t0\n",
    "    tt1 += t2 - t1\n",
    "    tt2 += t3 - t2\n",
    "\n",
    "    # bmesh.ops.holes_fill(b, edges=b.edges, sides=1000)\n",
    "\n",
    "print (f\"Total: {tt0}, {tt1}, {tt2}\")"
   ]
  },
  {
   "cell_type": "code",
   "execution_count": 82,
   "metadata": {},
   "outputs": [],
   "source": []
  },
  {
   "cell_type": "code",
   "execution_count": 116,
   "metadata": {},
   "outputs": [],
   "source": []
  },
  {
   "cell_type": "code",
   "execution_count": 137,
   "metadata": {},
   "outputs": [],
   "source": [
    "b = bmesh.new()\n",
    "f0 = create_plane(b, (1, 0, 0), 2, 2)\n",
    "f1 = create_plane(b, (-1, 0, 0), 2, 2)\n",
    "f2 = create_plane(b, (0, 1, 0), 2, 2)\n",
    "f3 = create_plane(b, (0, -1, 0), 2, 2)"
   ]
  },
  {
   "cell_type": "code",
   "execution_count": 138,
   "metadata": {},
   "outputs": [
    {
     "name": "stdout",
     "output_type": "stream",
     "text": [
      "{'geom_cut': [], 'geom': [<BMVert(0x56374c500a20), index=0>, <BMVert(0x56374c500a58), index=1>, <BMVert(0x56374c500a90), index=2>, <BMVert(0x56374c500ac8), index=3>, <BMEdge(0x56374c551e50), index=0, verts=(0x56374c500ac8/3, 0x56374c500a20/0)>, <BMEdge(0x56374c551ea0), index=1, verts=(0x56374c500a20/0, 0x56374c500a58/1)>, <BMEdge(0x56374c551ef0), index=2, verts=(0x56374c500a58/1, 0x56374c500a90/2)>, <BMEdge(0x56374c551f40), index=3, verts=(0x56374c500a90/2, 0x56374c500ac8/3)>, <BMFace(0x56374c4e4cc0), index=0, totverts=4>]}\n"
     ]
    }
   ],
   "source": [
    "fc = cut_plane(b, f0, mathutils.Vector((1, 0, 0)), 2, False)\n",
    "# cut_plane(b, f1, mathutils.Vector((0, 0, 1)), 0, False)"
   ]
  },
  {
   "cell_type": "code",
   "execution_count": 130,
   "metadata": {},
   "outputs": [
    {
     "data": {
      "text/plain": [
       "<BMFace(0x56374c518bf8), index=-1, totverts=4>"
      ]
     },
     "execution_count": 130,
     "metadata": {},
     "output_type": "execute_result"
    }
   ],
   "source": [
    "f0.copy()"
   ]
  },
  {
   "cell_type": "code",
   "execution_count": 139,
   "metadata": {},
   "outputs": [
    {
     "data": {
      "text/plain": [
       "[[Vector((2.0, -2.0, -2.0)),\n",
       "  Vector((2.0, -2.0, 2.0)),\n",
       "  Vector((2.0, 2.0, 2.0)),\n",
       "  Vector((2.0, 2.0, -2.0))],\n",
       " [Vector((-2.0, -2.0, 2.0)),\n",
       "  Vector((-2.0, -2.0, -2.0)),\n",
       "  Vector((-2.0, 2.0, -2.0)),\n",
       "  Vector((-2.0, 2.0, 2.0))],\n",
       " [Vector((-2.0, 2.0, -2.0)),\n",
       "  Vector((2.0, 2.0, -2.0)),\n",
       "  Vector((2.0, 2.0, 2.0)),\n",
       "  Vector((-2.0, 2.0, 2.0))],\n",
       " [Vector((-2.0, -2.0, 2.0)),\n",
       "  Vector((2.0, -2.0, 2.0)),\n",
       "  Vector((2.0, -2.0, -2.0)),\n",
       "  Vector((-2.0, -2.0, -2.0))]]"
      ]
     },
     "execution_count": 139,
     "metadata": {},
     "output_type": "execute_result"
    }
   ],
   "source": [
    "[[y.co for y in x.verts] for x in b.faces[:]]"
   ]
  },
  {
   "cell_type": "code",
   "execution_count": 124,
   "metadata": {},
   "outputs": [
    {
     "data": {
      "text/plain": [
       "[Vector((2.0, -2.0, 1.0)),\n",
       " Vector((2.0, -2.0, 2.0)),\n",
       " Vector((2.0, 2.0, 2.0)),\n",
       " Vector((2.0, 2.0, 1.0))]"
      ]
     },
     "execution_count": 124,
     "metadata": {},
     "output_type": "execute_result"
    }
   ],
   "source": [
    "[y.co for y in fc.verts]"
   ]
  },
  {
   "cell_type": "code",
   "execution_count": 93,
   "metadata": {},
   "outputs": [
    {
     "data": {
      "text/plain": [
       "True"
      ]
     },
     "execution_count": 93,
     "metadata": {},
     "output_type": "execute_result"
    }
   ],
   "source": [
    "f0.__class__.__name__ == 'BMFace'"
   ]
  },
  {
   "cell_type": "code",
   "execution_count": 113,
   "metadata": {},
   "outputs": [],
   "source": [
    "m = create_test_bmesh(256)"
   ]
  },
  {
   "cell_type": "code",
   "execution_count": 127,
   "metadata": {},
   "outputs": [
    {
     "data": {
      "text/plain": [
       "<BMLayerItem at 0x7f2085cf71e0>"
      ]
     },
     "execution_count": 127,
     "metadata": {},
     "output_type": "execute_result"
    }
   ],
   "source": [
    "layer = m.loops.layers.uv.verify()\n",
    "layer"
   ]
  },
  {
   "cell_type": "code",
   "execution_count": 125,
   "metadata": {},
   "outputs": [
    {
     "data": {
      "text/plain": [
       "[(<BMLoop(0x55fb715e1080), index=-1, vert=0x55fb710bdac0/0, edge=0x55fb710dbcf0/0, face=0x55fb710fbcf0/0>,\n",
       "  <BMLoop(0x55fb715e1158), index=-1, vert=0x55fb710bdb30/2, edge=0x55fb710dbde0/3, face=0x55fb710fbcf0/0>,\n",
       "  <BMLoop(0x55fb715e1110), index=-1, vert=0x55fb710bdb68/3, edge=0x55fb710dbd90/2, face=0x55fb710fbcf0/0>),\n",
       " (<BMLoop(0x55fb715e1080), index=-1, vert=0x55fb710bdac0/0, edge=0x55fb710dbcf0/0, face=0x55fb710fbcf0/0>,\n",
       "  <BMLoop(0x55fb715e1110), index=-1, vert=0x55fb710bdb68/3, edge=0x55fb710dbd90/2, face=0x55fb710fbcf0/0>,\n",
       "  <BMLoop(0x55fb715e10c8), index=-1, vert=0x55fb710bdaf8/1, edge=0x55fb710dbd40/1, face=0x55fb710fbcf0/0>),\n",
       " (<BMLoop(0x55fb715e11a0), index=-1, vert=0x55fb710bdb30/2, edge=0x55fb710dbe30/4, face=0x55fb710fbd28/1>,\n",
       "  <BMLoop(0x55fb715e1278), index=-1, vert=0x55fb710bdc10/6, edge=0x55fb710dbed0/6, face=0x55fb710fbd28/1>,\n",
       "  <BMLoop(0x55fb715e1230), index=-1, vert=0x55fb710bdc48/7, edge=0x55fb710dbe80/5, face=0x55fb710fbd28/1>),\n",
       " (<BMLoop(0x55fb715e11a0), index=-1, vert=0x55fb710bdb30/2, edge=0x55fb710dbe30/4, face=0x55fb710fbd28/1>,\n",
       "  <BMLoop(0x55fb715e1230), index=-1, vert=0x55fb710bdc48/7, edge=0x55fb710dbe80/5, face=0x55fb710fbd28/1>,\n",
       "  <BMLoop(0x55fb715e11e8), index=-1, vert=0x55fb710bdb68/3, edge=0x55fb710dbde0/3, face=0x55fb710fbd28/1>),\n",
       " (<BMLoop(0x55fb715e12c0), index=-1, vert=0x55fb710bdc10/6, edge=0x55fb710dbf20/7, face=0x55fb710fbd60/2>,\n",
       "  <BMLoop(0x55fb715e1398), index=-1, vert=0x55fb710bdba0/4, edge=0x55fb710dbfc0/9, face=0x55fb710fbd60/2>,\n",
       "  <BMLoop(0x55fb715e1350), index=-1, vert=0x55fb710bdbd8/5, edge=0x55fb710dbf70/8, face=0x55fb710fbd60/2>),\n",
       " (<BMLoop(0x55fb715e12c0), index=-1, vert=0x55fb710bdc10/6, edge=0x55fb710dbf20/7, face=0x55fb710fbd60/2>,\n",
       "  <BMLoop(0x55fb715e1350), index=-1, vert=0x55fb710bdbd8/5, edge=0x55fb710dbf70/8, face=0x55fb710fbd60/2>,\n",
       "  <BMLoop(0x55fb715e1308), index=-1, vert=0x55fb710bdc48/7, edge=0x55fb710dbed0/6, face=0x55fb710fbd60/2>),\n",
       " (<BMLoop(0x55fb715e13e0), index=-1, vert=0x55fb710bdba0/4, edge=0x55fb710dc010/10, face=0x55fb710fbd98/3>,\n",
       "  <BMLoop(0x55fb715e14b8), index=-1, vert=0x55fb710bdac0/0, edge=0x55fb710dbd40/1, face=0x55fb710fbd98/3>,\n",
       "  <BMLoop(0x55fb715e1470), index=-1, vert=0x55fb710bdaf8/1, edge=0x55fb710dc060/11, face=0x55fb710fbd98/3>),\n",
       " (<BMLoop(0x55fb715e13e0), index=-1, vert=0x55fb710bdba0/4, edge=0x55fb710dc010/10, face=0x55fb710fbd98/3>,\n",
       "  <BMLoop(0x55fb715e1470), index=-1, vert=0x55fb710bdaf8/1, edge=0x55fb710dc060/11, face=0x55fb710fbd98/3>,\n",
       "  <BMLoop(0x55fb715e1428), index=-1, vert=0x55fb710bdbd8/5, edge=0x55fb710dbfc0/9, face=0x55fb710fbd98/3>),\n",
       " (<BMLoop(0x55fb715e1500), index=-1, vert=0x55fb710bdb30/2, edge=0x55fb710dbcf0/0, face=0x55fb710fbdd0/4>,\n",
       "  <BMLoop(0x55fb715e15d8), index=-1, vert=0x55fb710bdac0/0, edge=0x55fb710dc010/10, face=0x55fb710fbdd0/4>,\n",
       "  <BMLoop(0x55fb715e1590), index=-1, vert=0x55fb710bdba0/4, edge=0x55fb710dbf20/7, face=0x55fb710fbdd0/4>),\n",
       " (<BMLoop(0x55fb715e1500), index=-1, vert=0x55fb710bdb30/2, edge=0x55fb710dbcf0/0, face=0x55fb710fbdd0/4>,\n",
       "  <BMLoop(0x55fb715e1590), index=-1, vert=0x55fb710bdba0/4, edge=0x55fb710dbf20/7, face=0x55fb710fbdd0/4>,\n",
       "  <BMLoop(0x55fb715e1548), index=-1, vert=0x55fb710bdc10/6, edge=0x55fb710dbe30/4, face=0x55fb710fbdd0/4>),\n",
       " (<BMLoop(0x55fb715e1620), index=-1, vert=0x55fb710bdc48/7, edge=0x55fb710dbf70/8, face=0x55fb710fbe08/5>,\n",
       "  <BMLoop(0x55fb715e16f8), index=-1, vert=0x55fb710bdbd8/5, edge=0x55fb710dc060/11, face=0x55fb710fbe08/5>,\n",
       "  <BMLoop(0x55fb715e16b0), index=-1, vert=0x55fb710bdaf8/1, edge=0x55fb710dbd90/2, face=0x55fb710fbe08/5>),\n",
       " (<BMLoop(0x55fb715e1620), index=-1, vert=0x55fb710bdc48/7, edge=0x55fb710dbf70/8, face=0x55fb710fbe08/5>,\n",
       "  <BMLoop(0x55fb715e16b0), index=-1, vert=0x55fb710bdaf8/1, edge=0x55fb710dbd90/2, face=0x55fb710fbe08/5>,\n",
       "  <BMLoop(0x55fb715e1668), index=-1, vert=0x55fb710bdb68/3, edge=0x55fb710dbe80/5, face=0x55fb710fbe08/5>),\n",
       " (<BMLoop(0x55fb715e1740), index=-1, vert=0x55fb710bdc80/8, edge=0x55fb710dc100/13, face=0x55fb710fbe40/6>,\n",
       "  <BMLoop(0x55fb715e1788), index=-1, vert=0x55fb710bdcb8/9, edge=0x55fb710dc150/14, face=0x55fb710fbe40/6>,\n",
       "  <BMLoop(0x55fb715e17d0), index=-1, vert=0x55fb710bdd28/11, edge=0x55fb710dc1a0/15, face=0x55fb710fbe40/6>),\n",
       " (<BMLoop(0x55fb715e1740), index=-1, vert=0x55fb710bdc80/8, edge=0x55fb710dc100/13, face=0x55fb710fbe40/6>,\n",
       "  <BMLoop(0x55fb715e17d0), index=-1, vert=0x55fb710bdd28/11, edge=0x55fb710dc1a0/15, face=0x55fb710fbe40/6>,\n",
       "  <BMLoop(0x55fb715e1818), index=-1, vert=0x55fb710bdcf0/10, edge=0x55fb710dc0b0/12, face=0x55fb710fbe40/6>),\n",
       " (<BMLoop(0x55fb715e1860), index=-1, vert=0x55fb710bdcf0/10, edge=0x55fb710dc1a0/15, face=0x55fb710fbe78/7>,\n",
       "  <BMLoop(0x55fb715e18a8), index=-1, vert=0x55fb710bdd28/11, edge=0x55fb710dc240/17, face=0x55fb710fbe78/7>,\n",
       "  <BMLoop(0x55fb715e18f0), index=-1, vert=0x55fb710bde08/15, edge=0x55fb710dc290/18, face=0x55fb710fbe78/7>),\n",
       " (<BMLoop(0x55fb715e1860), index=-1, vert=0x55fb710bdcf0/10, edge=0x55fb710dc1a0/15, face=0x55fb710fbe78/7>,\n",
       "  <BMLoop(0x55fb715e18f0), index=-1, vert=0x55fb710bde08/15, edge=0x55fb710dc290/18, face=0x55fb710fbe78/7>,\n",
       "  <BMLoop(0x55fb715e1938), index=-1, vert=0x55fb710bddd0/14, edge=0x55fb710dc1f0/16, face=0x55fb710fbe78/7>),\n",
       " (<BMLoop(0x55fb715e1980), index=-1, vert=0x55fb710bddd0/14, edge=0x55fb710dc290/18, face=0x55fb710fbeb0/8>,\n",
       "  <BMLoop(0x55fb715e19c8), index=-1, vert=0x55fb710bde08/15, edge=0x55fb710dc330/20, face=0x55fb710fbeb0/8>,\n",
       "  <BMLoop(0x55fb715e1a10), index=-1, vert=0x55fb710bdd98/13, edge=0x55fb710dc380/21, face=0x55fb710fbeb0/8>),\n",
       " (<BMLoop(0x55fb715e1980), index=-1, vert=0x55fb710bddd0/14, edge=0x55fb710dc290/18, face=0x55fb710fbeb0/8>,\n",
       "  <BMLoop(0x55fb715e1a10), index=-1, vert=0x55fb710bdd98/13, edge=0x55fb710dc380/21, face=0x55fb710fbeb0/8>,\n",
       "  <BMLoop(0x55fb715e1a58), index=-1, vert=0x55fb710bdd60/12, edge=0x55fb710dc2e0/19, face=0x55fb710fbeb0/8>),\n",
       " (<BMLoop(0x55fb715e1aa0), index=-1, vert=0x55fb710bdd60/12, edge=0x55fb710dc380/21, face=0x55fb710fbee8/9>,\n",
       "  <BMLoop(0x55fb715e1ae8), index=-1, vert=0x55fb710bdd98/13, edge=0x55fb710dc420/23, face=0x55fb710fbee8/9>,\n",
       "  <BMLoop(0x55fb715e1b30), index=-1, vert=0x55fb710bdcb8/9, edge=0x55fb710dc100/13, face=0x55fb710fbee8/9>),\n",
       " (<BMLoop(0x55fb715e1aa0), index=-1, vert=0x55fb710bdd60/12, edge=0x55fb710dc380/21, face=0x55fb710fbee8/9>,\n",
       "  <BMLoop(0x55fb715e1b30), index=-1, vert=0x55fb710bdcb8/9, edge=0x55fb710dc100/13, face=0x55fb710fbee8/9>,\n",
       "  <BMLoop(0x55fb715e1b78), index=-1, vert=0x55fb710bdc80/8, edge=0x55fb710dc3d0/22, face=0x55fb710fbee8/9>),\n",
       " (<BMLoop(0x55fb715e1bc0), index=-1, vert=0x55fb710bdcf0/10, edge=0x55fb710dc1f0/16, face=0x55fb710fbf20/10>,\n",
       "  <BMLoop(0x55fb715e1c08), index=-1, vert=0x55fb710bddd0/14, edge=0x55fb710dc2e0/19, face=0x55fb710fbf20/10>,\n",
       "  <BMLoop(0x55fb715e1c50), index=-1, vert=0x55fb710bdd60/12, edge=0x55fb710dc3d0/22, face=0x55fb710fbf20/10>),\n",
       " (<BMLoop(0x55fb715e1bc0), index=-1, vert=0x55fb710bdcf0/10, edge=0x55fb710dc1f0/16, face=0x55fb710fbf20/10>,\n",
       "  <BMLoop(0x55fb715e1c50), index=-1, vert=0x55fb710bdd60/12, edge=0x55fb710dc3d0/22, face=0x55fb710fbf20/10>,\n",
       "  <BMLoop(0x55fb715e1c98), index=-1, vert=0x55fb710bdc80/8, edge=0x55fb710dc0b0/12, face=0x55fb710fbf20/10>),\n",
       " (<BMLoop(0x55fb715e1ce0), index=-1, vert=0x55fb710bde08/15, edge=0x55fb710dc240/17, face=0x55fb710fbf58/11>,\n",
       "  <BMLoop(0x55fb715e1d28), index=-1, vert=0x55fb710bdd28/11, edge=0x55fb710dc150/14, face=0x55fb710fbf58/11>,\n",
       "  <BMLoop(0x55fb715e1d70), index=-1, vert=0x55fb710bdcb8/9, edge=0x55fb710dc420/23, face=0x55fb710fbf58/11>),\n",
       " (<BMLoop(0x55fb715e1ce0), index=-1, vert=0x55fb710bde08/15, edge=0x55fb710dc240/17, face=0x55fb710fbf58/11>,\n",
       "  <BMLoop(0x55fb715e1d70), index=-1, vert=0x55fb710bdcb8/9, edge=0x55fb710dc420/23, face=0x55fb710fbf58/11>,\n",
       "  <BMLoop(0x55fb715e1db8), index=-1, vert=0x55fb710bdd98/13, edge=0x55fb710dc330/20, face=0x55fb710fbf58/11>)]"
      ]
     },
     "execution_count": 125,
     "metadata": {},
     "output_type": "execute_result"
    }
   ],
   "source": [
    "m.calc_loop_triangles()"
   ]
  },
  {
   "cell_type": "code",
   "execution_count": 131,
   "metadata": {},
   "outputs": [
    {
     "name": "stdout",
     "output_type": "stream",
     "text": [
      "<BMFace(0x55fb710fbcf0), index=0, totverts=4>\n",
      "['__class__', '__delattr__', '__delitem__', '__dir__', '__doc__', '__eq__', '__format__', '__ge__', '__getattribute__', '__getitem__', '__gt__', '__hash__', '__init__', '__init_subclass__', '__le__', '__lt__', '__ne__', '__new__', '__reduce__', '__reduce_ex__', '__repr__', '__setattr__', '__setitem__', '__sizeof__', '__str__', '__subclasshook__', 'calc_angle', 'calc_normal', 'calc_tangent', 'copy_from', 'copy_from_face_interp', 'edge', 'face', 'index', 'is_convex', 'is_valid', 'link_loop_next', 'link_loop_prev', 'link_loop_radial_next', 'link_loop_radial_prev', 'link_loops', 'tag', 'vert']\n",
      "<BMVert(0x55fb710bdac0), index=0> 0\n",
      "<Vector (0.0000, 0.0000)>\n",
      "['__class__', '__delattr__', '__delitem__', '__dir__', '__doc__', '__eq__', '__format__', '__ge__', '__getattribute__', '__getitem__', '__gt__', '__hash__', '__init__', '__init_subclass__', '__le__', '__lt__', '__ne__', '__new__', '__reduce__', '__reduce_ex__', '__repr__', '__setattr__', '__setitem__', '__sizeof__', '__str__', '__subclasshook__', 'calc_angle', 'calc_normal', 'calc_tangent', 'copy_from', 'copy_from_face_interp', 'edge', 'face', 'index', 'is_convex', 'is_valid', 'link_loop_next', 'link_loop_prev', 'link_loop_radial_next', 'link_loop_radial_prev', 'link_loops', 'tag', 'vert']\n",
      "<BMVert(0x55fb710bdb30), index=2> 2\n",
      "<Vector (0.0000, 0.0000)>\n",
      "['__class__', '__delattr__', '__delitem__', '__dir__', '__doc__', '__eq__', '__format__', '__ge__', '__getattribute__', '__getitem__', '__gt__', '__hash__', '__init__', '__init_subclass__', '__le__', '__lt__', '__ne__', '__new__', '__reduce__', '__reduce_ex__', '__repr__', '__setattr__', '__setitem__', '__sizeof__', '__str__', '__subclasshook__', 'calc_angle', 'calc_normal', 'calc_tangent', 'copy_from', 'copy_from_face_interp', 'edge', 'face', 'index', 'is_convex', 'is_valid', 'link_loop_next', 'link_loop_prev', 'link_loop_radial_next', 'link_loop_radial_prev', 'link_loops', 'tag', 'vert']\n",
      "<BMVert(0x55fb710bdb68), index=3> 3\n",
      "<Vector (0.0000, 0.0000)>\n",
      "['__class__', '__delattr__', '__delitem__', '__dir__', '__doc__', '__eq__', '__format__', '__ge__', '__getattribute__', '__getitem__', '__gt__', '__hash__', '__init__', '__init_subclass__', '__le__', '__lt__', '__ne__', '__new__', '__reduce__', '__reduce_ex__', '__repr__', '__setattr__', '__setitem__', '__sizeof__', '__str__', '__subclasshook__', 'calc_angle', 'calc_normal', 'calc_tangent', 'copy_from', 'copy_from_face_interp', 'edge', 'face', 'index', 'is_convex', 'is_valid', 'link_loop_next', 'link_loop_prev', 'link_loop_radial_next', 'link_loop_radial_prev', 'link_loops', 'tag', 'vert']\n",
      "<BMVert(0x55fb710bdaf8), index=1> 1\n",
      "<Vector (0.0000, 0.0000)>\n",
      "<BMFace(0x55fb710fbd28), index=1, totverts=4>\n",
      "['__class__', '__delattr__', '__delitem__', '__dir__', '__doc__', '__eq__', '__format__', '__ge__', '__getattribute__', '__getitem__', '__gt__', '__hash__', '__init__', '__init_subclass__', '__le__', '__lt__', '__ne__', '__new__', '__reduce__', '__reduce_ex__', '__repr__', '__setattr__', '__setitem__', '__sizeof__', '__str__', '__subclasshook__', 'calc_angle', 'calc_normal', 'calc_tangent', 'copy_from', 'copy_from_face_interp', 'edge', 'face', 'index', 'is_convex', 'is_valid', 'link_loop_next', 'link_loop_prev', 'link_loop_radial_next', 'link_loop_radial_prev', 'link_loops', 'tag', 'vert']\n",
      "<BMVert(0x55fb710bdb30), index=2> 2\n",
      "<Vector (0.0000, 0.0000)>\n",
      "['__class__', '__delattr__', '__delitem__', '__dir__', '__doc__', '__eq__', '__format__', '__ge__', '__getattribute__', '__getitem__', '__gt__', '__hash__', '__init__', '__init_subclass__', '__le__', '__lt__', '__ne__', '__new__', '__reduce__', '__reduce_ex__', '__repr__', '__setattr__', '__setitem__', '__sizeof__', '__str__', '__subclasshook__', 'calc_angle', 'calc_normal', 'calc_tangent', 'copy_from', 'copy_from_face_interp', 'edge', 'face', 'index', 'is_convex', 'is_valid', 'link_loop_next', 'link_loop_prev', 'link_loop_radial_next', 'link_loop_radial_prev', 'link_loops', 'tag', 'vert']\n",
      "<BMVert(0x55fb710bdc10), index=6> 6\n",
      "<Vector (0.0000, 0.0000)>\n",
      "['__class__', '__delattr__', '__delitem__', '__dir__', '__doc__', '__eq__', '__format__', '__ge__', '__getattribute__', '__getitem__', '__gt__', '__hash__', '__init__', '__init_subclass__', '__le__', '__lt__', '__ne__', '__new__', '__reduce__', '__reduce_ex__', '__repr__', '__setattr__', '__setitem__', '__sizeof__', '__str__', '__subclasshook__', 'calc_angle', 'calc_normal', 'calc_tangent', 'copy_from', 'copy_from_face_interp', 'edge', 'face', 'index', 'is_convex', 'is_valid', 'link_loop_next', 'link_loop_prev', 'link_loop_radial_next', 'link_loop_radial_prev', 'link_loops', 'tag', 'vert']\n",
      "<BMVert(0x55fb710bdc48), index=7> 7\n",
      "<Vector (0.0000, 0.0000)>\n",
      "['__class__', '__delattr__', '__delitem__', '__dir__', '__doc__', '__eq__', '__format__', '__ge__', '__getattribute__', '__getitem__', '__gt__', '__hash__', '__init__', '__init_subclass__', '__le__', '__lt__', '__ne__', '__new__', '__reduce__', '__reduce_ex__', '__repr__', '__setattr__', '__setitem__', '__sizeof__', '__str__', '__subclasshook__', 'calc_angle', 'calc_normal', 'calc_tangent', 'copy_from', 'copy_from_face_interp', 'edge', 'face', 'index', 'is_convex', 'is_valid', 'link_loop_next', 'link_loop_prev', 'link_loop_radial_next', 'link_loop_radial_prev', 'link_loops', 'tag', 'vert']\n",
      "<BMVert(0x55fb710bdb68), index=3> 3\n",
      "<Vector (0.0000, 0.0000)>\n",
      "<BMFace(0x55fb710fbd60), index=2, totverts=4>\n",
      "['__class__', '__delattr__', '__delitem__', '__dir__', '__doc__', '__eq__', '__format__', '__ge__', '__getattribute__', '__getitem__', '__gt__', '__hash__', '__init__', '__init_subclass__', '__le__', '__lt__', '__ne__', '__new__', '__reduce__', '__reduce_ex__', '__repr__', '__setattr__', '__setitem__', '__sizeof__', '__str__', '__subclasshook__', 'calc_angle', 'calc_normal', 'calc_tangent', 'copy_from', 'copy_from_face_interp', 'edge', 'face', 'index', 'is_convex', 'is_valid', 'link_loop_next', 'link_loop_prev', 'link_loop_radial_next', 'link_loop_radial_prev', 'link_loops', 'tag', 'vert']\n",
      "<BMVert(0x55fb710bdc10), index=6> 6\n",
      "<Vector (0.0000, 0.0000)>\n",
      "['__class__', '__delattr__', '__delitem__', '__dir__', '__doc__', '__eq__', '__format__', '__ge__', '__getattribute__', '__getitem__', '__gt__', '__hash__', '__init__', '__init_subclass__', '__le__', '__lt__', '__ne__', '__new__', '__reduce__', '__reduce_ex__', '__repr__', '__setattr__', '__setitem__', '__sizeof__', '__str__', '__subclasshook__', 'calc_angle', 'calc_normal', 'calc_tangent', 'copy_from', 'copy_from_face_interp', 'edge', 'face', 'index', 'is_convex', 'is_valid', 'link_loop_next', 'link_loop_prev', 'link_loop_radial_next', 'link_loop_radial_prev', 'link_loops', 'tag', 'vert']\n",
      "<BMVert(0x55fb710bdba0), index=4> 4\n",
      "<Vector (0.0000, 0.0000)>\n",
      "['__class__', '__delattr__', '__delitem__', '__dir__', '__doc__', '__eq__', '__format__', '__ge__', '__getattribute__', '__getitem__', '__gt__', '__hash__', '__init__', '__init_subclass__', '__le__', '__lt__', '__ne__', '__new__', '__reduce__', '__reduce_ex__', '__repr__', '__setattr__', '__setitem__', '__sizeof__', '__str__', '__subclasshook__', 'calc_angle', 'calc_normal', 'calc_tangent', 'copy_from', 'copy_from_face_interp', 'edge', 'face', 'index', 'is_convex', 'is_valid', 'link_loop_next', 'link_loop_prev', 'link_loop_radial_next', 'link_loop_radial_prev', 'link_loops', 'tag', 'vert']\n",
      "<BMVert(0x55fb710bdbd8), index=5> 5\n",
      "<Vector (0.0000, 0.0000)>\n",
      "['__class__', '__delattr__', '__delitem__', '__dir__', '__doc__', '__eq__', '__format__', '__ge__', '__getattribute__', '__getitem__', '__gt__', '__hash__', '__init__', '__init_subclass__', '__le__', '__lt__', '__ne__', '__new__', '__reduce__', '__reduce_ex__', '__repr__', '__setattr__', '__setitem__', '__sizeof__', '__str__', '__subclasshook__', 'calc_angle', 'calc_normal', 'calc_tangent', 'copy_from', 'copy_from_face_interp', 'edge', 'face', 'index', 'is_convex', 'is_valid', 'link_loop_next', 'link_loop_prev', 'link_loop_radial_next', 'link_loop_radial_prev', 'link_loops', 'tag', 'vert']\n",
      "<BMVert(0x55fb710bdc48), index=7> 7\n",
      "<Vector (0.0000, 0.0000)>\n",
      "<BMFace(0x55fb710fbd98), index=3, totverts=4>\n",
      "['__class__', '__delattr__', '__delitem__', '__dir__', '__doc__', '__eq__', '__format__', '__ge__', '__getattribute__', '__getitem__', '__gt__', '__hash__', '__init__', '__init_subclass__', '__le__', '__lt__', '__ne__', '__new__', '__reduce__', '__reduce_ex__', '__repr__', '__setattr__', '__setitem__', '__sizeof__', '__str__', '__subclasshook__', 'calc_angle', 'calc_normal', 'calc_tangent', 'copy_from', 'copy_from_face_interp', 'edge', 'face', 'index', 'is_convex', 'is_valid', 'link_loop_next', 'link_loop_prev', 'link_loop_radial_next', 'link_loop_radial_prev', 'link_loops', 'tag', 'vert']\n",
      "<BMVert(0x55fb710bdba0), index=4> 4\n",
      "<Vector (0.0000, 0.0000)>\n",
      "['__class__', '__delattr__', '__delitem__', '__dir__', '__doc__', '__eq__', '__format__', '__ge__', '__getattribute__', '__getitem__', '__gt__', '__hash__', '__init__', '__init_subclass__', '__le__', '__lt__', '__ne__', '__new__', '__reduce__', '__reduce_ex__', '__repr__', '__setattr__', '__setitem__', '__sizeof__', '__str__', '__subclasshook__', 'calc_angle', 'calc_normal', 'calc_tangent', 'copy_from', 'copy_from_face_interp', 'edge', 'face', 'index', 'is_convex', 'is_valid', 'link_loop_next', 'link_loop_prev', 'link_loop_radial_next', 'link_loop_radial_prev', 'link_loops', 'tag', 'vert']\n",
      "<BMVert(0x55fb710bdac0), index=0> 0\n",
      "<Vector (0.0000, 0.0000)>\n",
      "['__class__', '__delattr__', '__delitem__', '__dir__', '__doc__', '__eq__', '__format__', '__ge__', '__getattribute__', '__getitem__', '__gt__', '__hash__', '__init__', '__init_subclass__', '__le__', '__lt__', '__ne__', '__new__', '__reduce__', '__reduce_ex__', '__repr__', '__setattr__', '__setitem__', '__sizeof__', '__str__', '__subclasshook__', 'calc_angle', 'calc_normal', 'calc_tangent', 'copy_from', 'copy_from_face_interp', 'edge', 'face', 'index', 'is_convex', 'is_valid', 'link_loop_next', 'link_loop_prev', 'link_loop_radial_next', 'link_loop_radial_prev', 'link_loops', 'tag', 'vert']\n",
      "<BMVert(0x55fb710bdaf8), index=1> 1\n",
      "<Vector (0.0000, 0.0000)>\n",
      "['__class__', '__delattr__', '__delitem__', '__dir__', '__doc__', '__eq__', '__format__', '__ge__', '__getattribute__', '__getitem__', '__gt__', '__hash__', '__init__', '__init_subclass__', '__le__', '__lt__', '__ne__', '__new__', '__reduce__', '__reduce_ex__', '__repr__', '__setattr__', '__setitem__', '__sizeof__', '__str__', '__subclasshook__', 'calc_angle', 'calc_normal', 'calc_tangent', 'copy_from', 'copy_from_face_interp', 'edge', 'face', 'index', 'is_convex', 'is_valid', 'link_loop_next', 'link_loop_prev', 'link_loop_radial_next', 'link_loop_radial_prev', 'link_loops', 'tag', 'vert']\n",
      "<BMVert(0x55fb710bdbd8), index=5> 5\n",
      "<Vector (0.0000, 0.0000)>\n",
      "<BMFace(0x55fb710fbdd0), index=4, totverts=4>\n",
      "['__class__', '__delattr__', '__delitem__', '__dir__', '__doc__', '__eq__', '__format__', '__ge__', '__getattribute__', '__getitem__', '__gt__', '__hash__', '__init__', '__init_subclass__', '__le__', '__lt__', '__ne__', '__new__', '__reduce__', '__reduce_ex__', '__repr__', '__setattr__', '__setitem__', '__sizeof__', '__str__', '__subclasshook__', 'calc_angle', 'calc_normal', 'calc_tangent', 'copy_from', 'copy_from_face_interp', 'edge', 'face', 'index', 'is_convex', 'is_valid', 'link_loop_next', 'link_loop_prev', 'link_loop_radial_next', 'link_loop_radial_prev', 'link_loops', 'tag', 'vert']\n",
      "<BMVert(0x55fb710bdb30), index=2> 2\n",
      "<Vector (0.0000, 0.0000)>\n",
      "['__class__', '__delattr__', '__delitem__', '__dir__', '__doc__', '__eq__', '__format__', '__ge__', '__getattribute__', '__getitem__', '__gt__', '__hash__', '__init__', '__init_subclass__', '__le__', '__lt__', '__ne__', '__new__', '__reduce__', '__reduce_ex__', '__repr__', '__setattr__', '__setitem__', '__sizeof__', '__str__', '__subclasshook__', 'calc_angle', 'calc_normal', 'calc_tangent', 'copy_from', 'copy_from_face_interp', 'edge', 'face', 'index', 'is_convex', 'is_valid', 'link_loop_next', 'link_loop_prev', 'link_loop_radial_next', 'link_loop_radial_prev', 'link_loops', 'tag', 'vert']\n",
      "<BMVert(0x55fb710bdac0), index=0> 0\n",
      "<Vector (0.0000, 0.0000)>\n",
      "['__class__', '__delattr__', '__delitem__', '__dir__', '__doc__', '__eq__', '__format__', '__ge__', '__getattribute__', '__getitem__', '__gt__', '__hash__', '__init__', '__init_subclass__', '__le__', '__lt__', '__ne__', '__new__', '__reduce__', '__reduce_ex__', '__repr__', '__setattr__', '__setitem__', '__sizeof__', '__str__', '__subclasshook__', 'calc_angle', 'calc_normal', 'calc_tangent', 'copy_from', 'copy_from_face_interp', 'edge', 'face', 'index', 'is_convex', 'is_valid', 'link_loop_next', 'link_loop_prev', 'link_loop_radial_next', 'link_loop_radial_prev', 'link_loops', 'tag', 'vert']\n",
      "<BMVert(0x55fb710bdba0), index=4> 4\n",
      "<Vector (0.0000, 0.0000)>\n",
      "['__class__', '__delattr__', '__delitem__', '__dir__', '__doc__', '__eq__', '__format__', '__ge__', '__getattribute__', '__getitem__', '__gt__', '__hash__', '__init__', '__init_subclass__', '__le__', '__lt__', '__ne__', '__new__', '__reduce__', '__reduce_ex__', '__repr__', '__setattr__', '__setitem__', '__sizeof__', '__str__', '__subclasshook__', 'calc_angle', 'calc_normal', 'calc_tangent', 'copy_from', 'copy_from_face_interp', 'edge', 'face', 'index', 'is_convex', 'is_valid', 'link_loop_next', 'link_loop_prev', 'link_loop_radial_next', 'link_loop_radial_prev', 'link_loops', 'tag', 'vert']\n",
      "<BMVert(0x55fb710bdc10), index=6> 6\n",
      "<Vector (0.0000, 0.0000)>\n",
      "<BMFace(0x55fb710fbe08), index=5, totverts=4>\n",
      "['__class__', '__delattr__', '__delitem__', '__dir__', '__doc__', '__eq__', '__format__', '__ge__', '__getattribute__', '__getitem__', '__gt__', '__hash__', '__init__', '__init_subclass__', '__le__', '__lt__', '__ne__', '__new__', '__reduce__', '__reduce_ex__', '__repr__', '__setattr__', '__setitem__', '__sizeof__', '__str__', '__subclasshook__', 'calc_angle', 'calc_normal', 'calc_tangent', 'copy_from', 'copy_from_face_interp', 'edge', 'face', 'index', 'is_convex', 'is_valid', 'link_loop_next', 'link_loop_prev', 'link_loop_radial_next', 'link_loop_radial_prev', 'link_loops', 'tag', 'vert']\n",
      "<BMVert(0x55fb710bdc48), index=7> 7\n",
      "<Vector (0.0000, 0.0000)>\n",
      "['__class__', '__delattr__', '__delitem__', '__dir__', '__doc__', '__eq__', '__format__', '__ge__', '__getattribute__', '__getitem__', '__gt__', '__hash__', '__init__', '__init_subclass__', '__le__', '__lt__', '__ne__', '__new__', '__reduce__', '__reduce_ex__', '__repr__', '__setattr__', '__setitem__', '__sizeof__', '__str__', '__subclasshook__', 'calc_angle', 'calc_normal', 'calc_tangent', 'copy_from', 'copy_from_face_interp', 'edge', 'face', 'index', 'is_convex', 'is_valid', 'link_loop_next', 'link_loop_prev', 'link_loop_radial_next', 'link_loop_radial_prev', 'link_loops', 'tag', 'vert']\n",
      "<BMVert(0x55fb710bdbd8), index=5> 5\n",
      "<Vector (0.0000, 0.0000)>\n",
      "['__class__', '__delattr__', '__delitem__', '__dir__', '__doc__', '__eq__', '__format__', '__ge__', '__getattribute__', '__getitem__', '__gt__', '__hash__', '__init__', '__init_subclass__', '__le__', '__lt__', '__ne__', '__new__', '__reduce__', '__reduce_ex__', '__repr__', '__setattr__', '__setitem__', '__sizeof__', '__str__', '__subclasshook__', 'calc_angle', 'calc_normal', 'calc_tangent', 'copy_from', 'copy_from_face_interp', 'edge', 'face', 'index', 'is_convex', 'is_valid', 'link_loop_next', 'link_loop_prev', 'link_loop_radial_next', 'link_loop_radial_prev', 'link_loops', 'tag', 'vert']\n",
      "<BMVert(0x55fb710bdaf8), index=1> 1\n",
      "<Vector (0.0000, 0.0000)>\n",
      "['__class__', '__delattr__', '__delitem__', '__dir__', '__doc__', '__eq__', '__format__', '__ge__', '__getattribute__', '__getitem__', '__gt__', '__hash__', '__init__', '__init_subclass__', '__le__', '__lt__', '__ne__', '__new__', '__reduce__', '__reduce_ex__', '__repr__', '__setattr__', '__setitem__', '__sizeof__', '__str__', '__subclasshook__', 'calc_angle', 'calc_normal', 'calc_tangent', 'copy_from', 'copy_from_face_interp', 'edge', 'face', 'index', 'is_convex', 'is_valid', 'link_loop_next', 'link_loop_prev', 'link_loop_radial_next', 'link_loop_radial_prev', 'link_loops', 'tag', 'vert']\n",
      "<BMVert(0x55fb710bdb68), index=3> 3\n",
      "<Vector (0.0000, 0.0000)>\n",
      "<BMFace(0x55fb710fbe40), index=6, totverts=4>\n",
      "['__class__', '__delattr__', '__delitem__', '__dir__', '__doc__', '__eq__', '__format__', '__ge__', '__getattribute__', '__getitem__', '__gt__', '__hash__', '__init__', '__init_subclass__', '__le__', '__lt__', '__ne__', '__new__', '__reduce__', '__reduce_ex__', '__repr__', '__setattr__', '__setitem__', '__sizeof__', '__str__', '__subclasshook__', 'calc_angle', 'calc_normal', 'calc_tangent', 'copy_from', 'copy_from_face_interp', 'edge', 'face', 'index', 'is_convex', 'is_valid', 'link_loop_next', 'link_loop_prev', 'link_loop_radial_next', 'link_loop_radial_prev', 'link_loops', 'tag', 'vert']\n",
      "<BMVert(0x55fb710bdc80), index=8> 8\n",
      "<Vector (0.0000, 0.0000)>\n",
      "['__class__', '__delattr__', '__delitem__', '__dir__', '__doc__', '__eq__', '__format__', '__ge__', '__getattribute__', '__getitem__', '__gt__', '__hash__', '__init__', '__init_subclass__', '__le__', '__lt__', '__ne__', '__new__', '__reduce__', '__reduce_ex__', '__repr__', '__setattr__', '__setitem__', '__sizeof__', '__str__', '__subclasshook__', 'calc_angle', 'calc_normal', 'calc_tangent', 'copy_from', 'copy_from_face_interp', 'edge', 'face', 'index', 'is_convex', 'is_valid', 'link_loop_next', 'link_loop_prev', 'link_loop_radial_next', 'link_loop_radial_prev', 'link_loops', 'tag', 'vert']\n",
      "<BMVert(0x55fb710bdcb8), index=9> 9\n",
      "<Vector (0.0000, 0.0000)>\n",
      "['__class__', '__delattr__', '__delitem__', '__dir__', '__doc__', '__eq__', '__format__', '__ge__', '__getattribute__', '__getitem__', '__gt__', '__hash__', '__init__', '__init_subclass__', '__le__', '__lt__', '__ne__', '__new__', '__reduce__', '__reduce_ex__', '__repr__', '__setattr__', '__setitem__', '__sizeof__', '__str__', '__subclasshook__', 'calc_angle', 'calc_normal', 'calc_tangent', 'copy_from', 'copy_from_face_interp', 'edge', 'face', 'index', 'is_convex', 'is_valid', 'link_loop_next', 'link_loop_prev', 'link_loop_radial_next', 'link_loop_radial_prev', 'link_loops', 'tag', 'vert']\n",
      "<BMVert(0x55fb710bdd28), index=11> 11\n",
      "<Vector (0.0000, 0.0000)>\n",
      "['__class__', '__delattr__', '__delitem__', '__dir__', '__doc__', '__eq__', '__format__', '__ge__', '__getattribute__', '__getitem__', '__gt__', '__hash__', '__init__', '__init_subclass__', '__le__', '__lt__', '__ne__', '__new__', '__reduce__', '__reduce_ex__', '__repr__', '__setattr__', '__setitem__', '__sizeof__', '__str__', '__subclasshook__', 'calc_angle', 'calc_normal', 'calc_tangent', 'copy_from', 'copy_from_face_interp', 'edge', 'face', 'index', 'is_convex', 'is_valid', 'link_loop_next', 'link_loop_prev', 'link_loop_radial_next', 'link_loop_radial_prev', 'link_loops', 'tag', 'vert']\n",
      "<BMVert(0x55fb710bdcf0), index=10> 10\n",
      "<Vector (0.0000, 0.0000)>\n",
      "<BMFace(0x55fb710fbe78), index=7, totverts=4>\n",
      "['__class__', '__delattr__', '__delitem__', '__dir__', '__doc__', '__eq__', '__format__', '__ge__', '__getattribute__', '__getitem__', '__gt__', '__hash__', '__init__', '__init_subclass__', '__le__', '__lt__', '__ne__', '__new__', '__reduce__', '__reduce_ex__', '__repr__', '__setattr__', '__setitem__', '__sizeof__', '__str__', '__subclasshook__', 'calc_angle', 'calc_normal', 'calc_tangent', 'copy_from', 'copy_from_face_interp', 'edge', 'face', 'index', 'is_convex', 'is_valid', 'link_loop_next', 'link_loop_prev', 'link_loop_radial_next', 'link_loop_radial_prev', 'link_loops', 'tag', 'vert']\n",
      "<BMVert(0x55fb710bdcf0), index=10> 10\n",
      "<Vector (0.0000, 0.0000)>\n",
      "['__class__', '__delattr__', '__delitem__', '__dir__', '__doc__', '__eq__', '__format__', '__ge__', '__getattribute__', '__getitem__', '__gt__', '__hash__', '__init__', '__init_subclass__', '__le__', '__lt__', '__ne__', '__new__', '__reduce__', '__reduce_ex__', '__repr__', '__setattr__', '__setitem__', '__sizeof__', '__str__', '__subclasshook__', 'calc_angle', 'calc_normal', 'calc_tangent', 'copy_from', 'copy_from_face_interp', 'edge', 'face', 'index', 'is_convex', 'is_valid', 'link_loop_next', 'link_loop_prev', 'link_loop_radial_next', 'link_loop_radial_prev', 'link_loops', 'tag', 'vert']\n",
      "<BMVert(0x55fb710bdd28), index=11> 11\n",
      "<Vector (0.0000, 0.0000)>\n",
      "['__class__', '__delattr__', '__delitem__', '__dir__', '__doc__', '__eq__', '__format__', '__ge__', '__getattribute__', '__getitem__', '__gt__', '__hash__', '__init__', '__init_subclass__', '__le__', '__lt__', '__ne__', '__new__', '__reduce__', '__reduce_ex__', '__repr__', '__setattr__', '__setitem__', '__sizeof__', '__str__', '__subclasshook__', 'calc_angle', 'calc_normal', 'calc_tangent', 'copy_from', 'copy_from_face_interp', 'edge', 'face', 'index', 'is_convex', 'is_valid', 'link_loop_next', 'link_loop_prev', 'link_loop_radial_next', 'link_loop_radial_prev', 'link_loops', 'tag', 'vert']\n",
      "<BMVert(0x55fb710bde08), index=15> 15\n",
      "<Vector (0.0000, 0.0000)>\n",
      "['__class__', '__delattr__', '__delitem__', '__dir__', '__doc__', '__eq__', '__format__', '__ge__', '__getattribute__', '__getitem__', '__gt__', '__hash__', '__init__', '__init_subclass__', '__le__', '__lt__', '__ne__', '__new__', '__reduce__', '__reduce_ex__', '__repr__', '__setattr__', '__setitem__', '__sizeof__', '__str__', '__subclasshook__', 'calc_angle', 'calc_normal', 'calc_tangent', 'copy_from', 'copy_from_face_interp', 'edge', 'face', 'index', 'is_convex', 'is_valid', 'link_loop_next', 'link_loop_prev', 'link_loop_radial_next', 'link_loop_radial_prev', 'link_loops', 'tag', 'vert']\n",
      "<BMVert(0x55fb710bddd0), index=14> 14\n",
      "<Vector (0.0000, 0.0000)>\n",
      "<BMFace(0x55fb710fbeb0), index=8, totverts=4>\n",
      "['__class__', '__delattr__', '__delitem__', '__dir__', '__doc__', '__eq__', '__format__', '__ge__', '__getattribute__', '__getitem__', '__gt__', '__hash__', '__init__', '__init_subclass__', '__le__', '__lt__', '__ne__', '__new__', '__reduce__', '__reduce_ex__', '__repr__', '__setattr__', '__setitem__', '__sizeof__', '__str__', '__subclasshook__', 'calc_angle', 'calc_normal', 'calc_tangent', 'copy_from', 'copy_from_face_interp', 'edge', 'face', 'index', 'is_convex', 'is_valid', 'link_loop_next', 'link_loop_prev', 'link_loop_radial_next', 'link_loop_radial_prev', 'link_loops', 'tag', 'vert']\n",
      "<BMVert(0x55fb710bddd0), index=14> 14\n",
      "<Vector (0.0000, 0.0000)>\n",
      "['__class__', '__delattr__', '__delitem__', '__dir__', '__doc__', '__eq__', '__format__', '__ge__', '__getattribute__', '__getitem__', '__gt__', '__hash__', '__init__', '__init_subclass__', '__le__', '__lt__', '__ne__', '__new__', '__reduce__', '__reduce_ex__', '__repr__', '__setattr__', '__setitem__', '__sizeof__', '__str__', '__subclasshook__', 'calc_angle', 'calc_normal', 'calc_tangent', 'copy_from', 'copy_from_face_interp', 'edge', 'face', 'index', 'is_convex', 'is_valid', 'link_loop_next', 'link_loop_prev', 'link_loop_radial_next', 'link_loop_radial_prev', 'link_loops', 'tag', 'vert']\n",
      "<BMVert(0x55fb710bde08), index=15> 15\n",
      "<Vector (0.0000, 0.0000)>\n",
      "['__class__', '__delattr__', '__delitem__', '__dir__', '__doc__', '__eq__', '__format__', '__ge__', '__getattribute__', '__getitem__', '__gt__', '__hash__', '__init__', '__init_subclass__', '__le__', '__lt__', '__ne__', '__new__', '__reduce__', '__reduce_ex__', '__repr__', '__setattr__', '__setitem__', '__sizeof__', '__str__', '__subclasshook__', 'calc_angle', 'calc_normal', 'calc_tangent', 'copy_from', 'copy_from_face_interp', 'edge', 'face', 'index', 'is_convex', 'is_valid', 'link_loop_next', 'link_loop_prev', 'link_loop_radial_next', 'link_loop_radial_prev', 'link_loops', 'tag', 'vert']\n",
      "<BMVert(0x55fb710bdd98), index=13> 13\n",
      "<Vector (0.0000, 0.0000)>\n",
      "['__class__', '__delattr__', '__delitem__', '__dir__', '__doc__', '__eq__', '__format__', '__ge__', '__getattribute__', '__getitem__', '__gt__', '__hash__', '__init__', '__init_subclass__', '__le__', '__lt__', '__ne__', '__new__', '__reduce__', '__reduce_ex__', '__repr__', '__setattr__', '__setitem__', '__sizeof__', '__str__', '__subclasshook__', 'calc_angle', 'calc_normal', 'calc_tangent', 'copy_from', 'copy_from_face_interp', 'edge', 'face', 'index', 'is_convex', 'is_valid', 'link_loop_next', 'link_loop_prev', 'link_loop_radial_next', 'link_loop_radial_prev', 'link_loops', 'tag', 'vert']\n",
      "<BMVert(0x55fb710bdd60), index=12> 12\n",
      "<Vector (0.0000, 0.0000)>\n",
      "<BMFace(0x55fb710fbee8), index=9, totverts=4>\n",
      "['__class__', '__delattr__', '__delitem__', '__dir__', '__doc__', '__eq__', '__format__', '__ge__', '__getattribute__', '__getitem__', '__gt__', '__hash__', '__init__', '__init_subclass__', '__le__', '__lt__', '__ne__', '__new__', '__reduce__', '__reduce_ex__', '__repr__', '__setattr__', '__setitem__', '__sizeof__', '__str__', '__subclasshook__', 'calc_angle', 'calc_normal', 'calc_tangent', 'copy_from', 'copy_from_face_interp', 'edge', 'face', 'index', 'is_convex', 'is_valid', 'link_loop_next', 'link_loop_prev', 'link_loop_radial_next', 'link_loop_radial_prev', 'link_loops', 'tag', 'vert']\n",
      "<BMVert(0x55fb710bdd60), index=12> 12\n",
      "<Vector (0.0000, 0.0000)>\n",
      "['__class__', '__delattr__', '__delitem__', '__dir__', '__doc__', '__eq__', '__format__', '__ge__', '__getattribute__', '__getitem__', '__gt__', '__hash__', '__init__', '__init_subclass__', '__le__', '__lt__', '__ne__', '__new__', '__reduce__', '__reduce_ex__', '__repr__', '__setattr__', '__setitem__', '__sizeof__', '__str__', '__subclasshook__', 'calc_angle', 'calc_normal', 'calc_tangent', 'copy_from', 'copy_from_face_interp', 'edge', 'face', 'index', 'is_convex', 'is_valid', 'link_loop_next', 'link_loop_prev', 'link_loop_radial_next', 'link_loop_radial_prev', 'link_loops', 'tag', 'vert']\n",
      "<BMVert(0x55fb710bdd98), index=13> 13\n",
      "<Vector (0.0000, 0.0000)>\n",
      "['__class__', '__delattr__', '__delitem__', '__dir__', '__doc__', '__eq__', '__format__', '__ge__', '__getattribute__', '__getitem__', '__gt__', '__hash__', '__init__', '__init_subclass__', '__le__', '__lt__', '__ne__', '__new__', '__reduce__', '__reduce_ex__', '__repr__', '__setattr__', '__setitem__', '__sizeof__', '__str__', '__subclasshook__', 'calc_angle', 'calc_normal', 'calc_tangent', 'copy_from', 'copy_from_face_interp', 'edge', 'face', 'index', 'is_convex', 'is_valid', 'link_loop_next', 'link_loop_prev', 'link_loop_radial_next', 'link_loop_radial_prev', 'link_loops', 'tag', 'vert']\n",
      "<BMVert(0x55fb710bdcb8), index=9> 9\n",
      "<Vector (0.0000, 0.0000)>\n",
      "['__class__', '__delattr__', '__delitem__', '__dir__', '__doc__', '__eq__', '__format__', '__ge__', '__getattribute__', '__getitem__', '__gt__', '__hash__', '__init__', '__init_subclass__', '__le__', '__lt__', '__ne__', '__new__', '__reduce__', '__reduce_ex__', '__repr__', '__setattr__', '__setitem__', '__sizeof__', '__str__', '__subclasshook__', 'calc_angle', 'calc_normal', 'calc_tangent', 'copy_from', 'copy_from_face_interp', 'edge', 'face', 'index', 'is_convex', 'is_valid', 'link_loop_next', 'link_loop_prev', 'link_loop_radial_next', 'link_loop_radial_prev', 'link_loops', 'tag', 'vert']\n",
      "<BMVert(0x55fb710bdc80), index=8> 8\n",
      "<Vector (0.0000, 0.0000)>\n",
      "<BMFace(0x55fb710fbf20), index=10, totverts=4>\n",
      "['__class__', '__delattr__', '__delitem__', '__dir__', '__doc__', '__eq__', '__format__', '__ge__', '__getattribute__', '__getitem__', '__gt__', '__hash__', '__init__', '__init_subclass__', '__le__', '__lt__', '__ne__', '__new__', '__reduce__', '__reduce_ex__', '__repr__', '__setattr__', '__setitem__', '__sizeof__', '__str__', '__subclasshook__', 'calc_angle', 'calc_normal', 'calc_tangent', 'copy_from', 'copy_from_face_interp', 'edge', 'face', 'index', 'is_convex', 'is_valid', 'link_loop_next', 'link_loop_prev', 'link_loop_radial_next', 'link_loop_radial_prev', 'link_loops', 'tag', 'vert']\n",
      "<BMVert(0x55fb710bdcf0), index=10> 10\n",
      "<Vector (0.0000, 0.0000)>\n",
      "['__class__', '__delattr__', '__delitem__', '__dir__', '__doc__', '__eq__', '__format__', '__ge__', '__getattribute__', '__getitem__', '__gt__', '__hash__', '__init__', '__init_subclass__', '__le__', '__lt__', '__ne__', '__new__', '__reduce__', '__reduce_ex__', '__repr__', '__setattr__', '__setitem__', '__sizeof__', '__str__', '__subclasshook__', 'calc_angle', 'calc_normal', 'calc_tangent', 'copy_from', 'copy_from_face_interp', 'edge', 'face', 'index', 'is_convex', 'is_valid', 'link_loop_next', 'link_loop_prev', 'link_loop_radial_next', 'link_loop_radial_prev', 'link_loops', 'tag', 'vert']\n",
      "<BMVert(0x55fb710bddd0), index=14> 14\n",
      "<Vector (0.0000, 0.0000)>\n",
      "['__class__', '__delattr__', '__delitem__', '__dir__', '__doc__', '__eq__', '__format__', '__ge__', '__getattribute__', '__getitem__', '__gt__', '__hash__', '__init__', '__init_subclass__', '__le__', '__lt__', '__ne__', '__new__', '__reduce__', '__reduce_ex__', '__repr__', '__setattr__', '__setitem__', '__sizeof__', '__str__', '__subclasshook__', 'calc_angle', 'calc_normal', 'calc_tangent', 'copy_from', 'copy_from_face_interp', 'edge', 'face', 'index', 'is_convex', 'is_valid', 'link_loop_next', 'link_loop_prev', 'link_loop_radial_next', 'link_loop_radial_prev', 'link_loops', 'tag', 'vert']\n",
      "<BMVert(0x55fb710bdd60), index=12> 12\n",
      "<Vector (0.0000, 0.0000)>\n",
      "['__class__', '__delattr__', '__delitem__', '__dir__', '__doc__', '__eq__', '__format__', '__ge__', '__getattribute__', '__getitem__', '__gt__', '__hash__', '__init__', '__init_subclass__', '__le__', '__lt__', '__ne__', '__new__', '__reduce__', '__reduce_ex__', '__repr__', '__setattr__', '__setitem__', '__sizeof__', '__str__', '__subclasshook__', 'calc_angle', 'calc_normal', 'calc_tangent', 'copy_from', 'copy_from_face_interp', 'edge', 'face', 'index', 'is_convex', 'is_valid', 'link_loop_next', 'link_loop_prev', 'link_loop_radial_next', 'link_loop_radial_prev', 'link_loops', 'tag', 'vert']\n",
      "<BMVert(0x55fb710bdc80), index=8> 8\n",
      "<Vector (0.0000, 0.0000)>\n",
      "<BMFace(0x55fb710fbf58), index=11, totverts=4>\n",
      "['__class__', '__delattr__', '__delitem__', '__dir__', '__doc__', '__eq__', '__format__', '__ge__', '__getattribute__', '__getitem__', '__gt__', '__hash__', '__init__', '__init_subclass__', '__le__', '__lt__', '__ne__', '__new__', '__reduce__', '__reduce_ex__', '__repr__', '__setattr__', '__setitem__', '__sizeof__', '__str__', '__subclasshook__', 'calc_angle', 'calc_normal', 'calc_tangent', 'copy_from', 'copy_from_face_interp', 'edge', 'face', 'index', 'is_convex', 'is_valid', 'link_loop_next', 'link_loop_prev', 'link_loop_radial_next', 'link_loop_radial_prev', 'link_loops', 'tag', 'vert']\n",
      "<BMVert(0x55fb710bde08), index=15> 15\n",
      "<Vector (0.0000, 0.0000)>\n",
      "['__class__', '__delattr__', '__delitem__', '__dir__', '__doc__', '__eq__', '__format__', '__ge__', '__getattribute__', '__getitem__', '__gt__', '__hash__', '__init__', '__init_subclass__', '__le__', '__lt__', '__ne__', '__new__', '__reduce__', '__reduce_ex__', '__repr__', '__setattr__', '__setitem__', '__sizeof__', '__str__', '__subclasshook__', 'calc_angle', 'calc_normal', 'calc_tangent', 'copy_from', 'copy_from_face_interp', 'edge', 'face', 'index', 'is_convex', 'is_valid', 'link_loop_next', 'link_loop_prev', 'link_loop_radial_next', 'link_loop_radial_prev', 'link_loops', 'tag', 'vert']\n",
      "<BMVert(0x55fb710bdd28), index=11> 11\n",
      "<Vector (0.0000, 0.0000)>\n",
      "['__class__', '__delattr__', '__delitem__', '__dir__', '__doc__', '__eq__', '__format__', '__ge__', '__getattribute__', '__getitem__', '__gt__', '__hash__', '__init__', '__init_subclass__', '__le__', '__lt__', '__ne__', '__new__', '__reduce__', '__reduce_ex__', '__repr__', '__setattr__', '__setitem__', '__sizeof__', '__str__', '__subclasshook__', 'calc_angle', 'calc_normal', 'calc_tangent', 'copy_from', 'copy_from_face_interp', 'edge', 'face', 'index', 'is_convex', 'is_valid', 'link_loop_next', 'link_loop_prev', 'link_loop_radial_next', 'link_loop_radial_prev', 'link_loops', 'tag', 'vert']\n",
      "<BMVert(0x55fb710bdcb8), index=9> 9\n",
      "<Vector (0.0000, 0.0000)>\n",
      "['__class__', '__delattr__', '__delitem__', '__dir__', '__doc__', '__eq__', '__format__', '__ge__', '__getattribute__', '__getitem__', '__gt__', '__hash__', '__init__', '__init_subclass__', '__le__', '__lt__', '__ne__', '__new__', '__reduce__', '__reduce_ex__', '__repr__', '__setattr__', '__setitem__', '__sizeof__', '__str__', '__subclasshook__', 'calc_angle', 'calc_normal', 'calc_tangent', 'copy_from', 'copy_from_face_interp', 'edge', 'face', 'index', 'is_convex', 'is_valid', 'link_loop_next', 'link_loop_prev', 'link_loop_radial_next', 'link_loop_radial_prev', 'link_loops', 'tag', 'vert']\n",
      "<BMVert(0x55fb710bdd98), index=13> 13\n",
      "<Vector (0.0000, 0.0000)>\n"
     ]
    }
   ],
   "source": [
    "for f in m.faces:\n",
    "    print(f\"{f}\")\n",
    "    for l in f.loops:\n",
    "        uv = l[layer].uv\n",
    "        print(dir(l))\n",
    "        print(f\"{l.vert} {l.vert.index}\")\n",
    "        print(f\"{uv}\")"
   ]
  },
  {
   "cell_type": "code",
   "execution_count": 1,
   "metadata": {},
   "outputs": [
    {
     "ename": "ModuleNotFoundError",
     "evalue": "No module named 'diffusers'",
     "output_type": "error",
     "traceback": [
      "\u001b[0;31m---------------------------------------------------------------------------\u001b[0m",
      "\u001b[0;31mModuleNotFoundError\u001b[0m                       Traceback (most recent call last)",
      "\u001b[0;32m/tmp/ipykernel_458478/2443655527.py\u001b[0m in \u001b[0;36m<module>\u001b[0;34m\u001b[0m\n\u001b[0;32m----> 1\u001b[0;31m \u001b[0;32mfrom\u001b[0m \u001b[0mdiffusers\u001b[0m \u001b[0;32mimport\u001b[0m \u001b[0mDiffusionPipeline\u001b[0m\u001b[0;34m\u001b[0m\u001b[0;34m\u001b[0m\u001b[0m\n\u001b[0m\u001b[1;32m      2\u001b[0m \u001b[0;34m\u001b[0m\u001b[0m\n\u001b[1;32m      3\u001b[0m \u001b[0mpipeline\u001b[0m \u001b[0;34m=\u001b[0m \u001b[0mDiffusionPipeline\u001b[0m\u001b[0;34m.\u001b[0m\u001b[0mfrom_pretrained\u001b[0m\u001b[0;34m(\u001b[0m\u001b[0;34m\"Zapper/battlemap-1024\"\u001b[0m\u001b[0;34m)\u001b[0m\u001b[0;34m\u001b[0m\u001b[0;34m\u001b[0m\u001b[0m\n",
      "\u001b[0;31mModuleNotFoundError\u001b[0m: No module named 'diffusers'"
     ]
    }
   ],
   "source": [
    "from diffusers import DiffusionPipeline\n",
    "\n",
    "pipeline = DiffusionPipeline.from_pretrained(\"Zapper/battlemap-1024\")"
   ]
  },
  {
   "cell_type": "code",
   "execution_count": null,
   "metadata": {},
   "outputs": [],
   "source": []
  }
 ],
 "metadata": {
  "kernelspec": {
   "display_name": "Python 3.7.9 ('blender')",
   "language": "python",
   "name": "python3"
  },
  "language_info": {
   "codemirror_mode": {
    "name": "ipython",
    "version": 3
   },
   "file_extension": ".py",
   "mimetype": "text/x-python",
   "name": "python",
   "nbconvert_exporter": "python",
   "pygments_lexer": "ipython3",
   "version": "3.7.9"
  },
  "orig_nbformat": 4,
  "vscode": {
   "interpreter": {
    "hash": "25cc718a9d500959ac1f99033a8c1d6c273dae92b2e75dcd6f4bf6fe50bc08e9"
   }
  }
 },
 "nbformat": 4,
 "nbformat_minor": 2
}
