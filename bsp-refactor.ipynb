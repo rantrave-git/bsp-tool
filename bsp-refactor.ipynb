{
 "cells": [
  {
   "cell_type": "code",
   "execution_count": 1,
   "metadata": {},
   "outputs": [
    {
     "name": "stdout",
     "output_type": "stream",
     "text": [
      "/run/user/1000/gvfs/ non-existent directory\n"
     ]
    }
   ],
   "source": [
    "import bpy\n",
    "import bmesh\n",
    "import mathutils as bm"
   ]
  },
  {
   "cell_type": "code",
   "execution_count": 2,
   "metadata": {},
   "outputs": [],
   "source": [
    "class box:\n",
    "    def __init__(self):\n",
    "        self.min = None\n",
    "        self.max = None\n",
    "\n",
    "    def add(self, p):\n",
    "        if self.min is None or self.max is None:\n",
    "            self.min = p\n",
    "            self.max = p\n",
    "            return\n",
    "        self.min = bm.Vector((min(x, y) for x,y in zip(self.min, p)))\n",
    "        self.max = bm.Vector((max(x, y) for x,y in zip(self.max, p)))\n",
    "        return self\n",
    "    def size(self):\n",
    "        return self.max - self.min\n",
    "    def radius(self):\n",
    "        return self.size().length\n",
    "    def center(self): \n",
    "        return (self.max + self.min) * 0.5\n",
    "\n",
    "    def create_box(self, mesh, margin=0):\n",
    "        m = bm.Matrix.LocRotScale(self.center(), None, self.size() + bm.Vector.Fill(3, 2 * margin))\n",
    "        return bmesh.ops.create_cube(mesh, size=1, matrix=m)\n",
    "\n",
    "    @staticmethod\n",
    "    def bbox(mesh):\n",
    "        b = box()\n",
    "        for i in mesh.verts[:]:\n",
    "            b.add(i.co)\n",
    "        return b"
   ]
  },
  {
   "cell_type": "code",
   "execution_count": 14,
   "metadata": {},
   "outputs": [],
   "source": [
    "import math\n",
    "class meshutils:\n",
    "    eps = 1e-5\n",
    "    @staticmethod\n",
    "    def classify_point(plane, point):\n",
    "        d = (plane.xyz @ point) - plane.w\n",
    "        if d > meshutils.eps:\n",
    "            return 0x1 # front\n",
    "        if d < -meshutils.eps:\n",
    "            return 0x2 # back\n",
    "        return 0x0 # in plane\n",
    "\n",
    "    @staticmethod\n",
    "    def point_positive(plane, point):\n",
    "        return ((plane.xyz @ point) - plane.w) > 0\n",
    "        \n",
    "    @staticmethod\n",
    "    def classify_face(plane, face):\n",
    "        res = 0\n",
    "        for v in face.verts[:]:\n",
    "            c = meshutils.classify_point(plane, v.co)\n",
    "            res |= c\n",
    "            if res == 0x3: # crossing\n",
    "                break\n",
    "        return res\n",
    "\n",
    "    @staticmethod\n",
    "    def get_plane(face):\n",
    "        return bm.Vector((*face.normal, face.normal @ face.verts[0].co))\n",
    "\n",
    "    @staticmethod\n",
    "    def slice_mesh(mesh, plane, clean_outer=True):\n",
    "        bmesh.ops.bisect_plane(mesh, geom=mesh.faces[:] + mesh.edges[:] + mesh.verts[:], \n",
    "            plane_co=plane.xyz * plane.w, plane_no=plane.xyz, clear_inner=not clean_outer, clean_outer=clean_outer)\n",
    "        bmesh.ops.holes_fill(mesh, edges=mesh.edges, sides=len(mesh.edges))\n",
    "        bmesh.ops.delete(mesh, geom=[x for x in mesh.faces if x.calc_area() < meshutils.eps], context='FACES')\n",
    "        for face in mesh.faces:\n",
    "            bmesh.ops.remove_doubles(mesh, verts=face.verts[:], dist=meshutils.eps)\n",
    "    @staticmethod\n",
    "    def split(mesh, plane):\n",
    "        # suboptimal (probably need to split before clean)\n",
    "        front = mesh.copy()\n",
    "        return (meshutils.slice_mesh(front, plane, False), meshutils.slice_mesh(mesh, plane, True))\n"
   ]
  },
  {
   "cell_type": "code",
   "execution_count": 7,
   "metadata": {},
   "outputs": [
    {
     "data": {
      "text/plain": [
       "([Vector((-1.0, -1.0, -1.0))], [0, 1, 2])"
      ]
     },
     "execution_count": 7,
     "metadata": {},
     "output_type": "execute_result"
    }
   ],
   "source": [
    "bm.geometry.points_in_planes([\n",
    "    bm.Vector(( 1, 0, 0, 1)),\n",
    "    bm.Vector(( 0, 1, 0, 1)),\n",
    "    bm.Vector(( 0, 0, 1, 1)),\n",
    "])"
   ]
  },
  {
   "cell_type": "code",
   "execution_count": null,
   "metadata": {},
   "outputs": [],
   "source": [
    "from enum import IntFlag\n",
    "import qsl\n",
    "\n",
    "class bsp_face_build_flags(IntFlag):\n",
    "    hint = qsl.Q_SURF_HINT # preferable splitter\n",
    "    areaportal = qsl.Q_CONT_AREAPORTAL # separates areas\n",
    "    translucent = qsl.Q_CONT_TRANSLUCENT # has geometry below (doesn't split areas)\n",
    "    nodraw = qsl.Q_SURF_NODRAW # doesn't present as face\n",
    "class bsp_face_flags(IntFlag):\n",
    "    slick = qsl.Q_SURF_SLICK\n",
    "    noimpact = qsl.Q_SURF_NOIMPACT\n",
    "    nomarks = qsl.Q_SURF_NOMARKS\n",
    "    nodamage = qsl.Q_SURF_NODAMAGE\n",
    "    noob = qsl.Q_SURF_NOOB\n",
    "    metalsteps = qsl.Q_SURF_METALSTEPS\n",
    "    flesh = qsl.Q_SURF_FLESH\n",
    "    nosteps = qsl.Q_SURF_NOSTEPS\n",
    "    dust = qsl.Q_SURF_DUST\n",
    "class bsp_content_flags(IntFlag): # affect brushes only\n",
    "    trigger = qsl.Q_CONT_TRIGGER\n",
    "    playerclip = qsl.Q_CONT_PLAYERCLIP\n",
    "    water = qsl.Q_CONT_WATER\n",
    "    slime = qsl.Q_CONT_SLIME\n",
    "    lava = qsl.Q_CONT_LAVA\n",
    "    nodrop = qsl.Q_CONT_NODROP\n",
    "    fog = qsl.Q_CONT_FOG\n",
    "\n",
    "class _bsp_sub:\n",
    "    @classmethod\n",
    "    def positive(cls, plane, point) -> bool:\n",
    "        raise\n",
    "    @classmethod\n",
    "    def classify(cls, plane, face) -> int:\n",
    "        raise\n",
    "    @classmethod\n",
    "    def split_volume(cls, vol, plane):\n",
    "        return ([], [])\n",
    "    @classmethod\n",
    "    def is_adjacent(cls, vol, plane) -> bool:\n",
    "        return False\n",
    "    def __init__(self, faces, volume):\n",
    "        self.plane = None\n",
    "        self.faces = faces\n",
    "        self.volume = volume\n",
    "        self.child_f = None\n",
    "        self.child_b = None\n",
    "\n",
    "        self.sides = []\n",
    "\n",
    "    def split(self, plane):\n",
    "        if len(self.faces) == 0:\n",
    "            return\n",
    "        self.plane = plane\n",
    "        f = []\n",
    "        b = []\n",
    "        inc = []\n",
    "        for i in self.faces:\n",
    "            r = self.__class__.classify(plane, i)\n",
    "            if r == 0:\n",
    "                inc.append(i)\n",
    "            else:\n",
    "                if r & 0x1:\n",
    "                    f.append(i)\n",
    "                if r & 0x2:\n",
    "                    b.append(i)\n",
    "        \n",
    "        fv, bv = self.__class__.split_volume(self.volume, plane)\n",
    "        self.child_f = _bsp_sub(f, fv)\n",
    "        self.child_b = _bsp_sub(b, bv)\n",
    "        self.volume = None\n",
    "        self.faces = inc\n",
    "        yield self.child_f\n",
    "        yield self.child_b\n",
    "\n",
    "    def find(self, point):\n",
    "        c = self.__class__.positive(self.plane, point)\n",
    "        if c:\n",
    "            if self.child_f is not None:\n",
    "                return self.child_f.find(point)\n",
    "            return self\n",
    "        if self.child_b is not None:\n",
    "            return self.child_b.find(point)\n",
    "        return self\n",
    "\n",
    "    \n",
    "\n",
    "class bsp_sub_3d(_bsp_sub):\n",
    "    @classmethod\n",
    "    def positive(cls, plane, point) -> bool:\n",
    "        return meshutils.point_positive(plane, point)\n",
    "    @classmethod\n",
    "    def classify(cls, plane, face) -> int:\n",
    "        return meshutils.classify_face(plane, face)\n",
    "    @classmethod\n",
    "    def split_volume(cls, vol, plane):\n",
    "        return meshutils.split(vol, plane)\n",
    "\n",
    "class bsp_tree:\n",
    "    def __init__(self, mesh, flags: bsp_content_flags, mode='SUBTRACTIVE'):\n",
    "        self.mode = mode\n",
    "        self.mesh = bmesh.new()\n",
    "        self.mesh.from_mesh(mesh)\n",
    "        self.flags = flags\n",
    "        self._build_flags_layer = self.mesh.faces.layers.int(\"face_build_flags\")\n",
    "        self._flags_layer = self.mesh.faces.layers.int(\"face_flags\")\n",
    "\n",
    "\n",
    "    def _build_tree(self):\n",
    "        if len(self.faces) == 0:\n",
    "            return None\n",
    "        self.volume = box.bbox(self.mesh).create_box(m, 16)\n",
    "        self.faces = list(self.mesh.faces[:])\n",
    "        self.plane = None\n",
    "        # find best splitter\n",
    "\n",
    "    \n",
    "    def _pick_splitter(self, faces):\n",
    "        hint = None\n",
    "        areaportal = None\n",
    "        for i in self.faces:\n",
    "            if self._get_build_flag(i, bsp_face_build_flags.hint):\n",
    "                hint = i\n",
    "                break\n",
    "            if not areaportal and self._get_build_flag(i, bsp_face_build_flags.hint):\n",
    "                areaportal = i\n",
    "        if not hint:\n",
    "            hint = areaportal if areaportal else self.faces[0]\n",
    "        p = meshutils.get_plane(hint)\n",
    "\n",
    "\n",
    "\n",
    "    def _get_build_flag(self, face, flag):\n",
    "        pass"
   ]
  },
  {
   "cell_type": "code",
   "execution_count": 3,
   "metadata": {},
   "outputs": [],
   "source": [
    "m = bmesh.new()"
   ]
  },
  {
   "cell_type": "code",
   "execution_count": 4,
   "metadata": {},
   "outputs": [
    {
     "data": {
      "text/plain": [
       "[Vector((-4.0, -5.0, -5.0)),\n",
       " Vector((-4.0, -5.0, 5.0)),\n",
       " Vector((-4.0, 5.0, -5.0)),\n",
       " Vector((-4.0, 5.0, 5.0)),\n",
       " Vector((6.0, -5.0, -5.0)),\n",
       " Vector((6.0, -5.0, 5.0)),\n",
       " Vector((6.0, 5.0, -5.0)),\n",
       " Vector((6.0, 5.0, 5.0))]"
      ]
     },
     "execution_count": 4,
     "metadata": {},
     "output_type": "execute_result"
    }
   ],
   "source": [
    "bmesh.ops.create_cube(m, size=10, matrix=bm.Matrix.LocRotScale(bm.Vector((1, 0, 0)), None, None))\n",
    "[x.co for x in m.verts]"
   ]
  },
  {
   "cell_type": "code",
   "execution_count": 6,
   "metadata": {},
   "outputs": [],
   "source": [
    "m.faces.ensure_lookup_table()"
   ]
  },
  {
   "cell_type": "code",
   "execution_count": 81,
   "metadata": {},
   "outputs": [],
   "source": [
    "bb = box.bbox(m)"
   ]
  },
  {
   "cell_type": "code",
   "execution_count": 82,
   "metadata": {},
   "outputs": [
    {
     "data": {
      "text/plain": [
       "17.320508075688775"
      ]
     },
     "execution_count": 82,
     "metadata": {},
     "output_type": "execute_result"
    }
   ],
   "source": [
    "bb.radius()"
   ]
  },
  {
   "cell_type": "code",
   "execution_count": 42,
   "metadata": {},
   "outputs": [
    {
     "name": "stdout",
     "output_type": "stream",
     "text": [
      "<Matrix 4x4 (20.0000,  0.0000,  0.0000, 1.0000)\n",
      "            ( 0.0000, 20.0000,  0.0000, 0.0000)\n",
      "            ( 0.0000,  0.0000, 20.0000, 0.0000)\n",
      "            ( 0.0000,  0.0000,  0.0000, 1.0000)>\n"
     ]
    },
    {
     "data": {
      "text/plain": [
       "[Vector((-9.0, -10.0, -10.0)),\n",
       " Vector((-9.0, -10.0, 10.0)),\n",
       " Vector((-9.0, 10.0, -10.0)),\n",
       " Vector((-9.0, 10.0, 10.0)),\n",
       " Vector((11.0, -10.0, -10.0)),\n",
       " Vector((11.0, -10.0, 10.0)),\n",
       " Vector((11.0, 10.0, -10.0)),\n",
       " Vector((11.0, 10.0, 10.0))]"
      ]
     },
     "execution_count": 42,
     "metadata": {},
     "output_type": "execute_result"
    }
   ],
   "source": [
    "u = bmesh.new()\n",
    "bb.create_box(u, 5)\n",
    "u.verts.ensure_lookup_table()\n",
    "[x.co for x in u.verts[:]]"
   ]
  },
  {
   "cell_type": "code",
   "execution_count": 28,
   "metadata": {},
   "outputs": [],
   "source": [
    "flags_layer = m.faces.layers.int.new(\"flags\")"
   ]
  },
  {
   "cell_type": "code",
   "execution_count": 7,
   "metadata": {},
   "outputs": [],
   "source": [
    "f = m.faces[0]"
   ]
  },
  {
   "cell_type": "code",
   "execution_count": 32,
   "metadata": {},
   "outputs": [],
   "source": [
    "f[flags_layer] = 123"
   ]
  },
  {
   "cell_type": "code",
   "execution_count": 13,
   "metadata": {},
   "outputs": [
    {
     "data": {
      "text/plain": [
       "Vector((-1.0, -0.0, 0.0, 4.0))"
      ]
     },
     "execution_count": 13,
     "metadata": {},
     "output_type": "execute_result"
    }
   ],
   "source": [
    "bm.Vector((*f.normal, f.verts[0].co @ f.normal))"
   ]
  },
  {
   "cell_type": "code",
   "execution_count": 33,
   "metadata": {},
   "outputs": [],
   "source": [
    "m0 = bpy.data.meshes.new(\"m0\")"
   ]
  },
  {
   "cell_type": "code",
   "execution_count": 38,
   "metadata": {},
   "outputs": [],
   "source": [
    "o0 = bpy.data.objects.new(\"o0\", object_data=m0)"
   ]
  },
  {
   "cell_type": "code",
   "execution_count": 40,
   "metadata": {},
   "outputs": [],
   "source": [
    "m.to_mesh(m0)"
   ]
  },
  {
   "cell_type": "code",
   "execution_count": 44,
   "metadata": {},
   "outputs": [],
   "source": [
    "p0 = o0.data.polygons[0]"
   ]
  },
  {
   "cell_type": "code",
   "execution_count": 49,
   "metadata": {},
   "outputs": [],
   "source": [
    "mm = bmesh.new()\n",
    "mm.from_mesh(m0)"
   ]
  },
  {
   "cell_type": "code",
   "execution_count": 60,
   "metadata": {},
   "outputs": [
    {
     "data": {
      "text/plain": [
       "123"
      ]
     },
     "execution_count": 60,
     "metadata": {},
     "output_type": "execute_result"
    }
   ],
   "source": [
    "mm.faces[0][mm.faces.layers.int[\"flags\"]]"
   ]
  },
  {
   "cell_type": "code",
   "execution_count": 67,
   "metadata": {},
   "outputs": [],
   "source": [
    "v = m.verts[0].co"
   ]
  },
  {
   "cell_type": "code",
   "execution_count": 72,
   "metadata": {},
   "outputs": [
    {
     "data": {
      "text/plain": [
       "[Vector((-4.0, -5.0, -5.0)),\n",
       " Vector((-4.0, -5.0, 5.0)),\n",
       " Vector((-4.0, 5.0, -5.0)),\n",
       " Vector((-4.0, 5.0, 5.0)),\n",
       " Vector((6.0, -5.0, -5.0)),\n",
       " Vector((6.0, -5.0, 5.0)),\n",
       " Vector((6.0, 5.0, -5.0)),\n",
       " Vector((6.0, 5.0, 5.0)),\n",
       " Vector((-4.0, -1.0, 5.0)),\n",
       " Vector((-4.0, 5.0, -1.0)),\n",
       " Vector((0.0, 5.0, -5.0)),\n",
       " Vector((6.0, -1.0, -5.0)),\n",
       " Vector((6.0, -5.0, -1.0)),\n",
       " Vector((0.0, -5.0, 5.0))]"
      ]
     },
     "execution_count": 72,
     "metadata": {},
     "output_type": "execute_result"
    }
   ],
   "source": [
    "[x.co for x in m.verts[:]]"
   ]
  },
  {
   "cell_type": "code",
   "execution_count": 71,
   "metadata": {},
   "outputs": [
    {
     "data": {
      "text/plain": [
       "{'geom_cut': [<BMVert(0x5646f6fab6f0), index=8>,\n",
       "  <BMVert(0x5646f6fab728), index=9>,\n",
       "  <BMVert(0x5646f6fab760), index=10>,\n",
       "  <BMVert(0x5646f6fab798), index=11>,\n",
       "  <BMVert(0x5646f6fab7d0), index=12>,\n",
       "  <BMVert(0x5646f6fab808), index=13>,\n",
       "  <BMEdge(0x5646f6fb3ab0), index=18, verts=(0x5646f6fab7d0/12, 0x5646f6fab808/13)>,\n",
       "  <BMEdge(0x5646f6fb3b00), index=19, verts=(0x5646f6fab7d0/12, 0x5646f6fab798/11)>,\n",
       "  <BMEdge(0x5646f6fb3b50), index=20, verts=(0x5646f6fab760/10, 0x5646f6fab798/11)>,\n",
       "  <BMEdge(0x5646f6fb3ba0), index=21, verts=(0x5646f6fab728/9, 0x5646f6fab760/10)>,\n",
       "  <BMEdge(0x5646f6fb3bf0), index=22, verts=(0x5646f6fab6f0/8, 0x5646f6fab728/9)>,\n",
       "  <BMEdge(0x5646f6fb3c40), index=23, verts=(0x5646f6fab6f0/8, 0x5646f6fab808/13)>],\n",
       " 'geom': [<BMVert(0x5646f6fab530), index=0>,\n",
       "  <BMVert(0x5646f6fab568), index=1>,\n",
       "  <BMVert(0x5646f6fab5a0), index=2>,\n",
       "  <BMVert(0x5646f6fab5d8), index=3>,\n",
       "  <BMVert(0x5646f6fab610), index=4>,\n",
       "  <BMVert(0x5646f6fab648), index=5>,\n",
       "  <BMVert(0x5646f6fab680), index=6>,\n",
       "  <BMVert(0x5646f6fab6b8), index=7>,\n",
       "  <BMVert(0x5646f6fab6f0), index=8>,\n",
       "  <BMVert(0x5646f6fab728), index=9>,\n",
       "  <BMVert(0x5646f6fab760), index=10>,\n",
       "  <BMVert(0x5646f6fab798), index=11>,\n",
       "  <BMVert(0x5646f6fab7d0), index=12>,\n",
       "  <BMVert(0x5646f6fab808), index=13>,\n",
       "  <BMEdge(0x5646f6fb3510), index=0, verts=(0x5646f6fab5a0/2, 0x5646f6fab530/0)>,\n",
       "  <BMEdge(0x5646f6fb3560), index=1, verts=(0x5646f6fab530/0, 0x5646f6fab568/1)>,\n",
       "  <BMEdge(0x5646f6fb35b0), index=2, verts=(0x5646f6fab6f0/8, 0x5646f6fab5d8/3)>,\n",
       "  <BMEdge(0x5646f6fb3600), index=3, verts=(0x5646f6fab728/9, 0x5646f6fab5a0/2)>,\n",
       "  <BMEdge(0x5646f6fb3650), index=4, verts=(0x5646f6fab760/10, 0x5646f6fab5a0/2)>,\n",
       "  <BMEdge(0x5646f6fb36a0), index=5, verts=(0x5646f6fab5d8/3, 0x5646f6fab6b8/7)>,\n",
       "  <BMEdge(0x5646f6fb36f0), index=6, verts=(0x5646f6fab6b8/7, 0x5646f6fab680/6)>,\n",
       "  <BMEdge(0x5646f6fb3740), index=7, verts=(0x5646f6fab798/11, 0x5646f6fab680/6)>,\n",
       "  <BMEdge(0x5646f6fb3790), index=8, verts=(0x5646f6fab6b8/7, 0x5646f6fab648/5)>,\n",
       "  <BMEdge(0x5646f6fb37e0), index=9, verts=(0x5646f6fab7d0/12, 0x5646f6fab610/4)>,\n",
       "  <BMEdge(0x5646f6fb3830), index=10, verts=(0x5646f6fab530/0, 0x5646f6fab610/4)>,\n",
       "  <BMEdge(0x5646f6fb3880), index=11, verts=(0x5646f6fab808/13, 0x5646f6fab568/1)>,\n",
       "  <BMEdge(0x5646f6fb38d0), index=12, verts=(0x5646f6fab568/1, 0x5646f6fab6f0/8)>,\n",
       "  <BMEdge(0x5646f6fb3920), index=13, verts=(0x5646f6fab5d8/3, 0x5646f6fab728/9)>,\n",
       "  <BMEdge(0x5646f6fb3970), index=14, verts=(0x5646f6fab680/6, 0x5646f6fab760/10)>,\n",
       "  <BMEdge(0x5646f6fb39c0), index=15, verts=(0x5646f6fab610/4, 0x5646f6fab798/11)>,\n",
       "  <BMEdge(0x5646f6fb3a10), index=16, verts=(0x5646f6fab648/5, 0x5646f6fab7d0/12)>,\n",
       "  <BMEdge(0x5646f6fb3a60), index=17, verts=(0x5646f6fab648/5, 0x5646f6fab808/13)>,\n",
       "  <BMEdge(0x5646f6fb3ab0), index=18, verts=(0x5646f6fab7d0/12, 0x5646f6fab808/13)>,\n",
       "  <BMEdge(0x5646f6fb3b00), index=19, verts=(0x5646f6fab7d0/12, 0x5646f6fab798/11)>,\n",
       "  <BMEdge(0x5646f6fb3b50), index=20, verts=(0x5646f6fab760/10, 0x5646f6fab798/11)>,\n",
       "  <BMEdge(0x5646f6fb3ba0), index=21, verts=(0x5646f6fab728/9, 0x5646f6fab760/10)>,\n",
       "  <BMEdge(0x5646f6fb3bf0), index=22, verts=(0x5646f6fab6f0/8, 0x5646f6fab728/9)>,\n",
       "  <BMEdge(0x5646f6fb3c40), index=23, verts=(0x5646f6fab6f0/8, 0x5646f6fab808/13)>,\n",
       "  <BMFace(0x5646f70134f0), index=0, totverts=3>,\n",
       "  <BMFace(0x5646f7013528), index=1, totverts=5>,\n",
       "  <BMFace(0x5646f7013560), index=2, totverts=3>,\n",
       "  <BMFace(0x5646f7013598), index=3, totverts=3>,\n",
       "  <BMFace(0x5646f70135d0), index=4, totverts=3>,\n",
       "  <BMFace(0x5646f7013608), index=5, totverts=3>,\n",
       "  <BMFace(0x5646f7013640), index=6, totverts=5>,\n",
       "  <BMFace(0x5646f7013678), index=7, totverts=5>,\n",
       "  <BMFace(0x5646f70136b0), index=8, totverts=5>,\n",
       "  <BMFace(0x5646f70136e8), index=9, totverts=3>,\n",
       "  <BMFace(0x5646f7013720), index=10, totverts=5>,\n",
       "  <BMFace(0x5646f7013758), index=11, totverts=5>]}"
      ]
     },
     "execution_count": 71,
     "metadata": {},
     "output_type": "execute_result"
    }
   ],
   "source": [
    "plane = bm.Vector((1.0, 1.0, 1.0, 0.0))\n",
    "bmesh.ops.bisect_plane(m, geom=m.faces[:] + m.edges[:] + m.verts[:], \n",
    "            plane_co=plane.xyz * plane.w, plane_no=plane.xyz)"
   ]
  },
  {
   "cell_type": "code",
   "execution_count": null,
   "metadata": {},
   "outputs": [],
   "source": []
  }
 ],
 "metadata": {
  "kernelspec": {
   "display_name": "Python 3.10.4 ('bpy')",
   "language": "python",
   "name": "python3"
  },
  "language_info": {
   "codemirror_mode": {
    "name": "ipython",
    "version": 3
   },
   "file_extension": ".py",
   "mimetype": "text/x-python",
   "name": "python",
   "nbconvert_exporter": "python",
   "pygments_lexer": "ipython3",
   "version": "3.10.4"
  },
  "orig_nbformat": 4,
  "vscode": {
   "interpreter": {
    "hash": "d54fb17bf6b4383f1a7688ab18e7f2d0828352b60a90516ac18b5bd1f0cacbaf"
   }
  }
 },
 "nbformat": 4,
 "nbformat_minor": 2
}
