{
 "cells": [
  {
   "cell_type": "code",
   "execution_count": 2,
   "metadata": {},
   "outputs": [
    {
     "name": "stdout",
     "output_type": "stream",
     "text": [
      "/run/user/1000/gvfs/ non-existent directory\n"
     ]
    }
   ],
   "source": [
    "import bpy\n",
    "import bmesh\n",
    "import mathutils as bm"
   ]
  },
  {
   "cell_type": "code",
   "execution_count": 2,
   "metadata": {},
   "outputs": [],
   "source": [
    "def v(*p): return bm.Vector(p)"
   ]
  },
  {
   "cell_type": "code",
   "execution_count": 3,
   "metadata": {},
   "outputs": [],
   "source": [
    "class box:\n",
    "    def __init__(self):\n",
    "        self.min = None\n",
    "        self.max = None\n",
    "\n",
    "    def add(self, p):\n",
    "        if self.min is None or self.max is None:\n",
    "            self.min = p\n",
    "            self.max = p\n",
    "            return self\n",
    "        self.min = bm.Vector((min(x, y) for x,y in zip(self.min, p)))\n",
    "        self.max = bm.Vector((max(x, y) for x,y in zip(self.max, p)))\n",
    "        return self\n",
    "    def size(self):\n",
    "        return self.max - self.min\n",
    "    def radius(self):\n",
    "        return self.size().length\n",
    "    def center(self): \n",
    "        return (self.max + self.min) * 0.5\n",
    "\n",
    "    def create_box(self, mesh, margin=0):\n",
    "        m = bm.Matrix.LocRotScale(self.center(), None, self.size() + bm.Vector.Fill(3, 2 * margin))\n",
    "        \n",
    "        r = bmesh.ops.create_cube(mesh, size=1, matrix=m)\n",
    "\n",
    "        mesh.verts.ensure_lookup_table()\n",
    "        mesh.edges.ensure_lookup_table()\n",
    "        mesh.faces.ensure_lookup_table()\n",
    "        return r\n",
    "\n",
    "    @staticmethod\n",
    "    def bbox(mesh):\n",
    "        b = box()\n",
    "        for i in mesh.verts[:]:\n",
    "            b.add(i.co)\n",
    "        return b"
   ]
  },
  {
   "cell_type": "code",
   "execution_count": 203,
   "metadata": {},
   "outputs": [
    {
     "data": {
      "text/plain": [
       "{'verts': [<BMVert(0x563921bce9b0), index=0>,\n",
       "  <BMVert(0x563921bce9e8), index=1>,\n",
       "  <BMVert(0x563921bcea20), index=2>,\n",
       "  <BMVert(0x563921bcea58), index=3>,\n",
       "  <BMVert(0x563921bcea90), index=4>,\n",
       "  <BMVert(0x563921bceac8), index=5>,\n",
       "  <BMVert(0x563921bceb00), index=6>,\n",
       "  <BMVert(0x563921bceb38), index=7>]}"
      ]
     },
     "execution_count": 203,
     "metadata": {},
     "output_type": "execute_result"
    }
   ],
   "source": [
    "m = bmesh.new()\n",
    "box().add(v(0, 0, 0)).add(v(1,1,1)).create_box(m)"
   ]
  },
  {
   "cell_type": "code",
   "execution_count": 240,
   "metadata": {},
   "outputs": [],
   "source": [
    "vv = volume.create(m, None, flags=1)"
   ]
  },
  {
   "cell_type": "code",
   "execution_count": 253,
   "metadata": {},
   "outputs": [],
   "source": [
    "def i(x):\n",
    "    print(vv.bounds[x].projection, vv.bounds[x].displacement)\n",
    "    print(vv.bounds[x].sample(bm.Vector((1, 1))))\n",
    "    for j,f in zip(vv.bounds[x].bounds, m.faces[x].edges[:]):\n",
    "        print('-----')\n",
    "        print([y.co for y in f.verts[:]])\n",
    "        print(j.sample(j.bounds[0]), j.sample(j.bounds[1]))\n",
    "        print(vv.bounds[x].sample(j.sample(j.bounds[0])))\n",
    "        print(vv.bounds[x].sample(j.sample(j.bounds[1])))"
   ]
  },
  {
   "cell_type": "code",
   "execution_count": 11,
   "metadata": {},
   "outputs": [
    {
     "data": {
      "text/plain": [
       "False"
      ]
     },
     "execution_count": 11,
     "metadata": {},
     "output_type": "execute_result"
    }
   ],
   "source": [
    "None == False"
   ]
  },
  {
   "cell_type": "code",
   "execution_count": 179,
   "metadata": {},
   "outputs": [
    {
     "name": "stdout",
     "output_type": "stream",
     "text": [
      "<Vector (0.0000, -0.6667, 0.5774)>\n",
      "<Vector (0.7071, 0.3333, 0.5774)>\n"
     ]
    }
   ],
   "source": [
    "print(p0 @ v(1, 0, 0))\n",
    "print(p0 @ v(0, 1, 0))"
   ]
  },
  {
   "cell_type": "code",
   "execution_count": null,
   "metadata": {},
   "outputs": [],
   "source": []
  },
  {
   "cell_type": "code",
   "execution_count": 52,
   "metadata": {},
   "outputs": [],
   "source": [
    "class __projection:\n",
    "    v0 = bm.Vector((0, 1, -1))\n",
    "    v1 = bm.Vector((1, 0, -1))\n",
    "    v2 = bm.Vector((-1, 1))\n",
    "\n",
    "def build_projection(normal) -> bm.Matrix:\n",
    "    m = bm.Matrix()\n",
    "    # normal assumed to be normalized\n",
    "    d = len(normal)\n",
    "    if d == 3:\n",
    "        if normal[0] * normal[0] < 0.5: # close enough to x=0 plane\n",
    "            t = normal.xzy * __projection.v0 # bm.Vector((0, normal[2], -normal[1]))\n",
    "        else:\n",
    "            t = normal.zyx * __projection.v1 # bm.Vector((normal[2], 0, -normal[0]))\n",
    "        m[0][:3] = t.normalized()[:]\n",
    "        m[1][:3] = normal.cross(t)[:]\n",
    "        m[2][:3] = normal.xyz\n",
    "        return m.to_3x3()\n",
    "    if d == 2:\n",
    "        m[0][:2] = normal.yx * __projection.v2 # bm.Vector(-normal[1], normal[0]).normalized()\n",
    "        m[1][:2] = normal.xy\n",
    "        return m.to_2x2()\n",
    "    if d == 1:\n",
    "        return normal\n",
    "    return None\n",
    "\n",
    "def get_plane(plane):\n",
    "    d = len(plane) - 1\n",
    "    n = bm.Vector(plane[:d]).length\n",
    "    return bm.Vector(plane) / n\n",
    "\n",
    "class volume:\n",
    "    def __init__(self, projection, displacement, flags):\n",
    "        self.projection = projection\n",
    "        self.displacement = displacement\n",
    "        self.flags = flags\n",
    "\n",
    "    def set_bounds(self, bounds):\n",
    "        self.bounds = bounds\n",
    "        return self\n",
    "\n",
    "    def project_vector(self, vector):\n",
    "        d = len(self.projection)\n",
    "        return (self.projection @ vector.resized(d))\n",
    "\n",
    "    def sample(self, pos):\n",
    "        d = len(self.projection)\n",
    "        if d == 2:\n",
    "            return bm.Vector((pos, self.displacement)) @ self.projection\n",
    "        v = pos.resized(d)\n",
    "        v[d - 1] = self.displacement\n",
    "        return (v @ self.projection)\n",
    "\n",
    "    @staticmethod\n",
    "    def create(bmesh_obj, parent: 'volume', flags_layers=(None, None, None), flags=0):\n",
    "        if isinstance(bmesh_obj, bmesh.types.BMesh):\n",
    "            flags_layers = (bmesh_obj.faces.layers.int.get(\"flags\"), bmesh_obj.edges.layers.int.get(\"flags\"), bmesh_obj.verts.layers.int.get(\"flags\"))\n",
    "            v = volume(bm.Matrix.Identity(4), 0, flags)\n",
    "            return v.set_bounds([volume.create(f, v, flags_layers) for f in bmesh_obj.faces[:]])\n",
    "        if isinstance(bmesh_obj, bmesh.types.BMFace):\n",
    "            projection = build_projection(bmesh_obj.normal.normalized())\n",
    "            displacement = projection[2] @ bmesh_obj.verts[0].co\n",
    "            flags = bmesh_obj[flags_layers[0]] if flags_layers[0] else 1\n",
    "            v = volume(projection, displacement, flags)\n",
    "            return v.set_bounds([volume.create(e, v, flags_layers) for e in bmesh_obj.edges[:]])\n",
    "        if isinstance(bmesh_obj, bmesh.types.BMEdge):\n",
    "            p0 = parent.project_vector(bmesh_obj.verts[0].co)\n",
    "            p1 = parent.project_vector(bmesh_obj.verts[1].co)\n",
    "            normal = (-(p1 - p0).yx * __projection.v2).normalized()\n",
    "            projection = build_projection(normal)\n",
    "            displacement = p0.xy @ normal\n",
    "            \n",
    "            flags = bmesh_obj[flags_layers[1]] if flags_layers[1] else 1\n",
    "\n",
    "            v = volume(projection, displacement, flags)\n",
    "            return v.set_bounds([projection[0] @ p0.xy, projection[0] @ p1.xy])\n",
    "\n",
    "def union(x,y): return x | y\n",
    "def intersect(x,y): return x & y\n",
    "def symdiff(x,y): return x ^ y\n",
    "\n",
    "from abc import abstractmethod\n",
    "from typing import Type, cast\n",
    "\n",
    "class bsp_node_base:\n",
    "    def __init__(self, parent: 'bsp_node_nd | None', dimension, index=-1):\n",
    "        self.dimension = dimension\n",
    "        self.parent = parent\n",
    "        self.index = index\n",
    "\n",
    "    def is_root(self): return self.parent is None\n",
    "    @abstractmethod\n",
    "    def instance(self, parent: 'bsp_node_nd | None'=None) -> 'bsp_node_base': pass\n",
    "    @abstractmethod\n",
    "    def copy(self, parent: 'bsp_node_nd | None') -> 'bsp_node_base': pass\n",
    "    # @abstractmethod\n",
    "    # def is_leaf(self) -> bool: return isinstance(self, bsp_leaf)\n",
    "    @abstractmethod\n",
    "    def inverse(self) -> 'bsp_node_base': pass\n",
    "    @abstractmethod\n",
    "    def add(self, node: 'bsp_node_nd', cut=False) -> 'bsp_node_nd': pass\n",
    "    @abstractmethod\n",
    "    def optimize(self) -> 'bsp_node_base': pass\n",
    "    @abstractmethod\n",
    "    def csg(self, tree, operation=union) -> 'bsp_node_base': pass\n",
    "    @abstractmethod\n",
    "    def print(self): pass\n",
    "    def is_empty(self): return False\n",
    "\n",
    "    def split(self, node, _is_front): return self\n",
    "    def numerate(self):\n",
    "        nodes = []\n",
    "        index = 0\n",
    "        branches = []\n",
    "        leafs = []\n",
    "        stack = [self]\n",
    "        while len(stack) > 0:\n",
    "            n = stack.pop()\n",
    "            nodes.append(n)\n",
    "            n.index = index\n",
    "            index += 1\n",
    "            if isinstance(n, bsp_node_nd):\n",
    "                stack.append(n._f)\n",
    "                stack.append(n._b)\n",
    "                branches.append(n.index)\n",
    "            else:\n",
    "                leafs.append(n.index)\n",
    "        return nodes, branches, leafs\n",
    "\n",
    "class bsp_leaf(bsp_node_base):\n",
    "    def __init__(self, parent: 'bsp_node_nd | None', dimension, flags = 0, index=-1):\n",
    "        super(bsp_leaf, self).__init__(parent, dimension, index)\n",
    "        self.flags = flags\n",
    "    \n",
    "    def copy(self, parent): return self.instance(parent)\n",
    "    def instance(self, parent: 'bsp_node_nd | None'=None, save_index=False): \n",
    "        return bsp_leaf(parent=parent, dimension=self.dimension, flags=self.flags, index=self.index if save_index else -1)\n",
    "\n",
    "    def add(self, node: 'bsp_node_nd', cut_front=None) -> 'bsp_node_nd':\n",
    "        res = node.instance(self.parent)\n",
    "        res.set_f(self.instance())\n",
    "        res.set_b(self.instance())\n",
    "        if cut_front == True:\n",
    "            cast(bsp_leaf, res._f).flags = 0\n",
    "        if cut_front == False:\n",
    "            cast(bsp_leaf, res._b).flags = 0\n",
    "        return res\n",
    "    \n",
    "    def csg(self, tree: 'bsp_node_base', operation=union):\n",
    "        if isinstance(tree, bsp_leaf):\n",
    "            self.flags = operation(self.flags, tree.flags)\n",
    "            return self\n",
    "        else:\n",
    "            assert(isinstance(tree, bsp_node_nd))\n",
    "            s = [tree]\n",
    "            while len(s)>0:\n",
    "                n = s.pop()\n",
    "                if isinstance(n, bsp_leaf):\n",
    "                    n.flags = operation(self.flags, n.flags)\n",
    "                else:\n",
    "                    s.append(n._b)\n",
    "                    s.append(n._f)\n",
    "            return tree\n",
    "\n",
    "    def is_empty(self): return self.flags == 0\n",
    "    def inverse(self):\n",
    "        res = self.instance(self.parent)\n",
    "        res.flags = ~res.flags\n",
    "        return res\n",
    "\n",
    "    def divide(self, splitter: 'bsp_node_nd'):\n",
    "        if self.is_empty():\n",
    "            return self\n",
    "        return (\n",
    "            splitter.instance(self.parent).with_back(self.instance()),\n",
    "            splitter.instance(self.parent).with_front(self.instance())\n",
    "        )\n",
    "\n",
    "    def print(self):\n",
    "        print(f'leaf<{self.dimension}> {self.index}: {self.flags}')\n",
    "    def optimize(self) -> 'bsp_node_base': return self\n",
    "\n",
    "class bsp_node_nd(bsp_node_base):\n",
    "    def __init__(self, parent, dimension, index=-1):\n",
    "        super(bsp_node_nd, self).__init__(parent, dimension, index)\n",
    "        self._f: bsp_node_base = bsp_leaf(self, dimension, 0)\n",
    "        self._b: bsp_node_base = bsp_leaf(self, dimension, 0)\n",
    "\n",
    "    @abstractmethod\n",
    "    def instance(self, parent) -> 'bsp_node_nd': pass\n",
    "    def split(self, _splitter, _is_front) -> 'bsp_node_nd': raise NotImplemented()\n",
    "    def is_root(self): return self.parent is None or self.parent.dimension == self.dimension + 1\n",
    "\n",
    "    def with_front(self, front):\n",
    "        self.set_f(front)\n",
    "        return self\n",
    "    def with_back(self, back):\n",
    "        self.set_b(back)\n",
    "        return self\n",
    "\n",
    "    def copy(self, parent):\n",
    "        r = self.instance(parent)\n",
    "        r.set_f(self._f.copy(None))\n",
    "        r.set_b(self._b.copy(None))\n",
    "        return r\n",
    "\n",
    "    def csg(self, tree: 'bsp_node_base', operation=union):\n",
    "        res = tree.add(self)\n",
    "        self.set_b(self._b.csg(res._b, operation))\n",
    "        self.set_f(self._f.csg(res._f, operation))\n",
    "        return self\n",
    "        # if isinstance(tree, bsp_node_nd):\n",
    "        # else:\n",
    "        #     self.set_f(self._f.csg(tree, operation))\n",
    "        #     self.set_b(self._b.csg(tree, operation))\n",
    "        #     return self\n",
    "\n",
    "    def set_f(self, node):\n",
    "        self._f = node\n",
    "        node.parent = self\n",
    "    def set_b(self, node):\n",
    "        self._b = node\n",
    "        node.parent = self\n",
    "\n",
    "    def inverse(self):\n",
    "        res = self.instance(self.parent)\n",
    "        res.set_f(self._f.inverse())\n",
    "        res.set_b(self._b.inverse())\n",
    "        return res\n",
    "\n",
    "    def divide(self, splitter: 'bsp_node_nd'):\n",
    "        pass\n",
    "\n",
    "    def merge(self, tree: 'bsp_node_nd'):\n",
    "        order = set()\n",
    "        ind = 0\n",
    "        stack = [tree]\n",
    "        while len(stack) > 0:\n",
    "            n = stack.pop()\n",
    "            n.index = ind\n",
    "            ind += 1\n",
    "            if isinstance(n, bsp_node_nd):\n",
    "                t = n.parent\n",
    "                while t is not None:\n",
    "                    order.add((n.index, t.index))\n",
    "                    t = t.parent\n",
    "                stack.append(n._b)\n",
    "                stack.append(n._f)\n",
    "\n",
    "        \n",
    "        \n",
    "\n",
    "\n",
    "\n",
    "    def add(self, node: 'bsp_node_nd', cut_front=None):\n",
    "        res = node.instance(self.parent)\n",
    "        if cut_front is None:\n",
    "            # place entire tree into both child nodes (with copy)\n",
    "            cp = self.copy(self.parent).split(node, False)\n",
    "            res.set_f(self.split(node, True))\n",
    "            res.set_b(cp)\n",
    "        elif cut_front == True:\n",
    "            res.set_b(self.split(node, False))\n",
    "        elif cut_front == False:\n",
    "            res.set_f(self.split(node, True))\n",
    "        return res\n",
    "        \n",
    "    def optimize(self) -> 'bsp_node_base':\n",
    "        self.set_f(self._f.optimize())\n",
    "        self.set_b(self._b.optimize())\n",
    "\n",
    "        if isinstance(self._f, bsp_leaf) and isinstance(self._b, bsp_leaf) and self._f.flags == self._b.flags:\n",
    "            return self._f\n",
    "        return self\n",
    "\n",
    "class bsp_node_1d(bsp_node_nd):\n",
    "    def __init__(self, side, displacement, parent):\n",
    "        super(bsp_node_1d, self).__init__(parent, 1)\n",
    "        self.side = side\n",
    "        self.displacement = displacement\n",
    "\n",
    "    def classify(self, node: 'bsp_node_1d'):\n",
    "        nn = self.side * node.side\n",
    "        dd = nn * self.displacement - node.displacement\n",
    "        res = 0x0 # incident\n",
    "        if dd > 1e-3: res = 0x1 # front\n",
    "        elif dd < -1e-3: res = 0x2 # back\n",
    "        if nn > 0.0: return res\n",
    "        return res | 0x4 # opposite\n",
    "    # def classify(self, node):\n",
    "    #     nn = self.side * node.side\n",
    "    #     dd = self.displacement - nn * node.displacement\n",
    "    #     if dd < -1e-3: return 0x1 # front\n",
    "    #     if dd >  1e-3: return 0x2 # back\n",
    "    #     if nn > 0.0: return 0x0 # incident\n",
    "    #     return 0x4 # opposite\n",
    "            \n",
    "    def instance(self, parent):\n",
    "        return bsp_node_1d(self.side, self.displacement, parent)\n",
    "\n",
    "    def split(self, node: 'bsp_node_1d', is_front):\n",
    "        clsf = self.classify(node)\n",
    "\n",
    "        if not is_front and clsf & 0x1: return self._f if clsf & 0x4 else self._b\n",
    "        if is_front and clsf & 0x2: return self._b if clsf & 0x4 else self._f\n",
    "        if (clsf & 0x3) == 0: return self._f if is_front ^ bool(clsf & 0x4) else self._b\n",
    "        # if clsf == 0x4: return self._b if is_front else self._f\n",
    "        self.set_f(self._f.split(node, is_front))\n",
    "        self.set_b(self._b.split(node, is_front))\n",
    "        return self\n",
    "\n",
    "        if   clsf == 0x1: self.set_f(self._f._add(node, is_front))\n",
    "        elif clsf == 0x2: self.set_b(self._b._add(node, is_front))\n",
    "        else: # incident (flip side if it's opposite)\n",
    "            return self._f if is_front ^ (clsf == 0x0) else self._b\n",
    "        # if isinstance(self._f, bsp_leaf) and isinstance(self._b, bsp_leaf) and self._f.flags == self._b.flags:\n",
    "        #     return bsp_leaf(None, self.dimension, self._f.flags)\n",
    "        return self._f if is_front else self._b\n",
    "    def print(self):\n",
    "        print(f\"node<1> {self.index}: {self.side} {self.displacement}\\n  {self._b.index} {self._f.index}\")\n",
    "        self._b.print()\n",
    "        self._f.print()\n",
    "\n",
    "class bsp_node(bsp_node_nd):\n",
    "    def __init__(self, projection, displacement, parent, bounds=None):\n",
    "        super(bsp_node, self).__init__(parent, len(projection))\n",
    "        self.projection = projection\n",
    "        self.displacement = displacement\n",
    "        self.bounds = bsp_leaf(None, self.dimension-1, 0) if bounds is None else bounds  # d-1 bsp_tree\n",
    "        self.bounds.parent = self\n",
    "\n",
    "    @staticmethod\n",
    "    def create(vol: volume) -> 'bsp_node':\n",
    "        raise NotImplemented()\n",
    "\n",
    "    def instance(self, parent):\n",
    "        return bsp_node(self.projection, self.displacement, parent, self.bounds.copy(None))\n",
    "\n",
    "    def project(self, node):\n",
    "        ndim = self.dimension - 1\n",
    "        n = self.projection @ node.projection[ndim]\n",
    "        d = node.displacement * (n @ n) - n[ndim] * self.displacement\n",
    "        if ndim > 1:\n",
    "            return bsp_node(build_projection(n.resized(ndim)), d, None)\n",
    "        return bsp_node_1d(n[0], d, None)\n",
    "\n",
    "    def classify(self, node):\n",
    "        dim = self.dimension - 1\n",
    "\n",
    "        nn = node.projection[dim] @ self.projection[dim]\n",
    "        if abs(1.0 - abs(nn)) < 1e-4: # parallel (almost)\n",
    "            dd = nn * self.displacement - node.displacement\n",
    "            if dd > 1e-3: return 0x1 # front\n",
    "            if dd < -1e-3: return 0x2 # back\n",
    "            if nn > 0:\n",
    "                return 0x0 # incident\n",
    "            return 0x4 # opposite\n",
    "        return 0x3 # crossing\n",
    "\n",
    "    def split(self, splitter: 'bsp_node', is_front):\n",
    "        assert(splitter.dimension == self.dimension)\n",
    "        \n",
    "        clsf = self.classify(splitter)\n",
    "        if (clsf & 0x3) == 0: # incident\n",
    "            # 'node' is already the root, so depending on which side 'self' is coherent modify boundary\n",
    "            splitter.bounds = splitter.bounds.csg(self.bounds, union if clsf == 0x0 else symdiff)\n",
    "            res = self._f if is_front ^ (clsf == 0x0) else self._b\n",
    "            splitter.bounds = splitter.bounds.optimize()\n",
    "            # skip node\n",
    "            return res.split(splitter, is_front)\n",
    "\n",
    "        bnd_splitter = self.project(splitter)\n",
    "        bounds = self.bounds.add(bnd_splitter)\n",
    "        if self.bounds.is_empty():\n",
    "            return bsp_leaf(None, self.dimension, 0)\n",
    "        self.set_f(self._f.split(splitter, is_front))\n",
    "        self.set_b(self._b.split(splitter, is_front))\n",
    "        # if isinstance(self._f, bsp_leaf) and isinstance(self._b, bsp_leaf) and self._f.flags == self._b.flags:\n",
    "        #     return bsp_leaf(None, self.dimension, self._f.flags)\n",
    "        return self\n",
    "    def print(self):\n",
    "        print(f\"node<{self.dimension}> {self.index}: {self.projection} {self.displacement}\\n  {self._f.index} {self._b.index}\")\n",
    "        self._f.print()\n",
    "        self._b.print()\n",
    "\n",
    "class bsp_graph:\n",
    "    def __init__(self, nodes, edges):\n",
    "        self.nodes = nodes # {i: bsp_graph_node}\n",
    "        self.edges = edges # {(i, j): portal}\n",
    "    def __getitem__(self, idx):\n",
    "        return self.nodes[idx]\n",
    "    @staticmethod\n",
    "    def build(tree: bsp_node_nd | bsp_leaf):\n",
    "        # numerate\n",
    "        nodes, _, leafs = tree.numerate()\n",
    "        # use dynamic programming to build boundaries\n",
    "        num_nodes = len(nodes)\n",
    "        lcas = [[None for _ in range(0,num_nodes)] for _ in range(0,num_nodes)]\n",
    "        bounds = [[None for _ in range(0,num_nodes)] for _ in range(0,num_nodes)]\n",
    "\n",
    "        def lca(node: bsp_node_base, table):\n",
    "            if isinstance(node, bsp_node_nd):\n",
    "                ff = list(lca(node._f, table)) + [node._f]\n",
    "                bb = list(lca(node._b, table)) + [node._b]\n",
    "                for i in ff:\n",
    "                    for j in bb:\n",
    "                        table[i.index][j.index] = node\n",
    "                        table[j.index][i.index] = node\n",
    "                for i in ff:\n",
    "                    table[node.index][i.index] = node\n",
    "                    table[i.index][node.index] = node\n",
    "                    yield i\n",
    "                for i in bb:\n",
    "                    table[node.index][i.index] = node\n",
    "                    table[i.index][node.index] = node\n",
    "                    yield i\n",
    "\n",
    "        _ = list(lca(tree, lcas))\n",
    "\n",
    "        def bound(n0: bsp_node_base, n1: bsp_node_base, lcas, bounds):\n",
    "            if bounds[n0.index][n1.index] is not None:\n",
    "                return bounds[n0.index][n1.index]\n",
    "            \n",
    "            lca = lcas[n0][n1]\n",
    "            n0p = n0.parent if n0 != lca else None\n",
    "            n1p = n1.parent if n1 != lca else None\n",
    "\n",
    "            # if n0p\n",
    "\n",
    "        num_leafs = len(leafs)\n",
    "        for i in range(0, num_leafs):\n",
    "            for j in range(i+1, num_leafs):\n",
    "                pass\n",
    "\n",
    "\n"
   ]
  },
  {
   "cell_type": "code",
   "execution_count": null,
   "metadata": {},
   "outputs": [],
   "source": []
  },
  {
   "cell_type": "code",
   "execution_count": 53,
   "metadata": {},
   "outputs": [],
   "source": [
    "import operator\n",
    "r0 = bsp_node_1d(1.0, 1.0, None)\n",
    "r0._b.flags = 1\n",
    "r1 = bsp_node_1d(-1.0, 0.0, None)\n",
    "r1._b.flags = 1\n",
    "s0 = r0.csg(r1, operator.__and__)\n",
    "\n",
    "r0 = bsp_node_1d(1.0, 3.0, None)\n",
    "r0._b.flags = 2\n",
    "r1 = bsp_node_1d(-1.0, 4.0, None)\n",
    "r1._b.flags = 2\n",
    "s1 = r0.csg(r1, operator.__and__)"
   ]
  },
  {
   "cell_type": "code",
   "execution_count": 48,
   "metadata": {},
   "outputs": [
    {
     "name": "stdout",
     "output_type": "stream",
     "text": [
      "node<1> 0: 1.0 1.0\n",
      "  1 2\n",
      "leaf<1> 1: 1\n",
      "node<1> 2: -1.0 -2.0\n",
      "  3 4\n",
      "leaf<1> 3: 2\n",
      "leaf<1> 4: 0\n"
     ]
    }
   ],
   "source": [
    "r0 = bsp_node_1d(1.0, 1.0, None)\n",
    "r0._b.flags = 1\n",
    "r1 = bsp_node_1d(-1.0, -2.0, None)\n",
    "r1._b.flags = 2\n",
    "s0 = r0.csg(r1, operator.__or__)\n",
    "s0.numerate()\n",
    "s0.print()"
   ]
  },
  {
   "cell_type": "code",
   "execution_count": 36,
   "metadata": {},
   "outputs": [
    {
     "name": "stdout",
     "output_type": "stream",
     "text": [
      "node<1> 0: 1.0 1.0\n",
      "  1 4\n",
      "node<1> 1: -1.0 -1.0\n",
      "  2 3\n",
      "leaf<1> 2: 3\n",
      "leaf<1> 3: 1\n",
      "node<1> 4: -1.0 -1.0\n",
      "  5 6\n",
      "leaf<1> 5: 2\n",
      "leaf<1> 6: 0\n"
     ]
    }
   ],
   "source": []
  },
  {
   "cell_type": "code",
   "execution_count": 54,
   "metadata": {},
   "outputs": [
    {
     "data": {
      "text/plain": [
       "([<__main__.bsp_node_1d at 0x7f5dfa9b7130>,\n",
       "  <__main__.bsp_node_1d at 0x7f5dfa9b6c80>,\n",
       "  <__main__.bsp_leaf at 0x7f5dfa9b6cb0>,\n",
       "  <__main__.bsp_node_1d at 0x7f5dfa9b5570>,\n",
       "  <__main__.bsp_leaf at 0x7f5dfa9b5540>,\n",
       "  <__main__.bsp_leaf at 0x7f5dfa9b7f10>,\n",
       "  <__main__.bsp_node_1d at 0x7f5dfa9b55a0>,\n",
       "  <__main__.bsp_leaf at 0x7f5dfa9b7040>,\n",
       "  <__main__.bsp_leaf at 0x7f5dfa9b6d40>],\n",
       " [0, 1, 3, 6],\n",
       " [2, 4, 5, 7, 8])"
      ]
     },
     "execution_count": 54,
     "metadata": {},
     "output_type": "execute_result"
    }
   ],
   "source": [
    "s = s0.csg(r0, operator.__or__)\n",
    "s.numerate()"
   ]
  },
  {
   "cell_type": "code",
   "execution_count": 55,
   "metadata": {},
   "outputs": [
    {
     "name": "stdout",
     "output_type": "stream",
     "text": [
      "node<1> 0: 1.0 1.0\n",
      "  1 6\n",
      "node<1> 1: -1.0 0.0\n",
      "  2 3\n",
      "leaf<1> 2: 3\n",
      "node<1> 3: -1.0 4.0\n",
      "  4 5\n",
      "leaf<1> 4: 2\n",
      "leaf<1> 5: 0\n",
      "node<1> 6: 1.0 3.0\n",
      "  7 8\n",
      "leaf<1> 7: 2\n",
      "leaf<1> 8: 0\n"
     ]
    }
   ],
   "source": [
    "s.print()"
   ]
  },
  {
   "cell_type": "code",
   "execution_count": 169,
   "metadata": {},
   "outputs": [
    {
     "data": {
      "text/plain": [
       "<__main__.bsp_leaf at 0x7f55e0180fd0>"
      ]
     },
     "execution_count": 169,
     "metadata": {},
     "output_type": "execute_result"
    }
   ],
   "source": [
    "s0._f"
   ]
  },
  {
   "cell_type": "code",
   "execution_count": 168,
   "metadata": {},
   "outputs": [
    {
     "data": {
      "text/plain": [
       "<__main__.bsp_leaf at 0x7f55e0180fd0>"
      ]
     },
     "execution_count": 168,
     "metadata": {},
     "output_type": "execute_result"
    }
   ],
   "source": [
    "s0._b"
   ]
  },
  {
   "cell_type": "code",
   "execution_count": 61,
   "metadata": {},
   "outputs": [
    {
     "name": "stdout",
     "output_type": "stream",
     "text": [
      "node<3> -1: <Matrix 3x3 ( 0.0000, 0.0000,  1.0000)\n",
      "            ( 0.0000, 1.0000, -0.0000)\n",
      "            (-1.0000, 0.0000,  0.0000)> 0\n",
      "  -1 -1\n",
      "leaf<3> -1: 0\n",
      "leaf<3> -1: 1\n",
      "node<3> -1: <Matrix 3x3 ( 0.0000, 0.0000, -1.0000)\n",
      "            (-0.0000, 1.0000,  0.0000)\n",
      "            ( 1.0000, 0.0000,  0.0000)> 1\n",
      "  -1 -1\n",
      "leaf<3> -1: 0\n",
      "leaf<3> -1: 1\n",
      "node<3> -1: <Matrix 3x3 ( 0.0000,  0.0000, 1.0000)\n",
      "            (-1.0000,  0.0000, 0.0000)\n",
      "            ( 0.0000, -1.0000, 0.0000)> 0\n",
      "  -1 -1\n",
      "leaf<3> -1: 0\n",
      "leaf<3> -1: 1\n",
      "node<3> -1: <Matrix 3x3 ( 0.0000, 0.0000, -1.0000)\n",
      "            (-1.0000, 0.0000,  0.0000)\n",
      "            ( 0.0000, 1.0000,  0.0000)> 1\n",
      "  -1 -1\n",
      "leaf<3> -1: 0\n",
      "leaf<3> -1: 1\n",
      "node<3> -1: <Matrix 3x3 ( 0.0000, -1.0000, -0.0000)\n",
      "            (-1.0000,  0.0000, -0.0000)\n",
      "            ( 0.0000,  0.0000, -1.0000)> 0\n",
      "  -1 -1\n",
      "leaf<3> -1: 0\n",
      "leaf<3> -1: 1\n",
      "node<3> -1: <Matrix 3x3 ( 0.0000, 1.0000, -0.0000)\n",
      "            (-1.0000, 0.0000,  0.0000)\n",
      "            ( 0.0000, 0.0000,  1.0000)> 1\n",
      "  -1 -1\n",
      "leaf<3> -1: 0\n",
      "leaf<3> -1: 1\n"
     ]
    }
   ],
   "source": [
    "planes = [(build_projection(bm.Vector((-1,  0,  0))), 0),\n",
    "          (build_projection(bm.Vector(( 1,  0,  0))), 1),\n",
    "          (build_projection(bm.Vector(( 0, -1,  0))), 0),\n",
    "          (build_projection(bm.Vector(( 0,  1,  0))), 1),\n",
    "          (build_projection(bm.Vector(( 0,  0, -1))), 0),\n",
    "          (build_projection(bm.Vector(( 0,  0,  1))), 1)]\n",
    "\n",
    "nodes = [bsp_node(x[0], x[1], None, bsp_leaf(None, 2, 1)) for x in planes]\n",
    "for i in nodes:\n",
    "    i._b.flags = 1\n",
    "    i.print()"
   ]
  },
  {
   "cell_type": "code",
   "execution_count": 64,
   "metadata": {},
   "outputs": [
    {
     "data": {
      "text/plain": [
       "([<__main__.bsp_node at 0x7f55e432eb90>,\n",
       "  <__main__.bsp_leaf at 0x7f55e432c4c0>,\n",
       "  <__main__.bsp_leaf at 0x7f55e432c4c0>],\n",
       " [0],\n",
       " [1, 2])"
      ]
     },
     "execution_count": 64,
     "metadata": {},
     "output_type": "execute_result"
    }
   ],
   "source": [
    "root = nodes[0]\n",
    "for i in nodes[1:]:\n",
    "    root = root.csg(i, intersect)\n",
    "\n",
    "root.numerate()"
   ]
  },
  {
   "cell_type": "code",
   "execution_count": 46,
   "metadata": {},
   "outputs": [
    {
     "name": "stdout",
     "output_type": "stream",
     "text": [
      "node<3> 0: <Matrix 3x3 ( 0.0000, 1.0000, -0.0000)\n",
      "            (-1.0000, 0.0000,  0.0000)\n",
      "            ( 0.0000, 0.0000,  1.0000)> 1\n",
      "  2 1\n",
      "node<3> 2: <Matrix 3x3 ( 0.0000, -1.0000, -0.0000)\n",
      "            (-1.0000,  0.0000, -0.0000)\n",
      "            ( 0.0000,  0.0000, -1.0000)> 0\n",
      "  4 4\n",
      "leaf<3> 4: 0\n",
      "leaf<3> 4: 0\n",
      "leaf<3> 1: 0\n"
     ]
    }
   ],
   "source": [
    "root.print()"
   ]
  },
  {
   "cell_type": "code",
   "execution_count": 8,
   "metadata": {},
   "outputs": [
    {
     "name": "stdout",
     "output_type": "stream",
     "text": [
      "14 4 13\n",
      "4 2 3\n",
      "13 11 12\n",
      "2 0 1\n",
      "11 7 10\n",
      "7 5 6\n",
      "10 8 9\n"
     ]
    }
   ],
   "source": [
    "i = [0]\n",
    "r = bt(bt(bt(bt.leaf(i), bt.leaf(i), i), bt.leaf(i), i), bt(bt(bt(bt.leaf(i), bt.leaf(i), i), bt(bt.leaf(i), bt.leaf(i), i), i), bt.leaf(i), i), i)\n",
    "md = r.depth()\n",
    "r.print(md)"
   ]
  },
  {
   "cell_type": "code",
   "execution_count": 10,
   "metadata": {},
   "outputs": [
    {
     "name": "stdout",
     "output_type": "stream",
     "text": [
      "[0, 1, 2, 3, 4, 5, 6, 7, 8, 9, 10, 11, 12, 13]\n",
      "-1  2  2  4  4 14 14 14 14 14 14 14 14 14 14\n",
      " 2 -1  2  4  4 14 14 14 14 14 14 14 14 14 14\n",
      " 2  2 -1  4  4 14 14 14 14 14 14 14 14 14 14\n",
      " 4  4  4 -1  4 14 14 14 14 14 14 14 14 14 14\n",
      " 4  4  4  4 -1 14 14 14 14 14 14 14 14 14 14\n",
      "14 14 14 14 14 -1  7  7 11 11 11 11 13 13 14\n",
      "14 14 14 14 14  7 -1  7 11 11 11 11 13 13 14\n",
      "14 14 14 14 14  7  7 -1 11 11 11 11 13 13 14\n",
      "14 14 14 14 14 11 11 11 -1 10 10 11 13 13 14\n",
      "14 14 14 14 14 11 11 11 10 -1 10 11 13 13 14\n",
      "14 14 14 14 14 11 11 11 10 10 -1 11 13 13 14\n",
      "14 14 14 14 14 11 11 11 11 11 11 -1 13 13 14\n",
      "14 14 14 14 14 13 13 13 13 13 13 13 -1 13 14\n",
      "14 14 14 14 14 13 13 13 13 13 13 13 13 -1 14\n",
      "14 14 14 14 14 14 14 14 14 14 14 14 14 14 -1\n",
      "105\n"
     ]
    }
   ],
   "source": [
    "table = [[-1 for _ in range(i[0])] for _ in range(i[0])]\n",
    "def print_table(t):\n",
    "    for i in t:\n",
    "        print(' '.join([f\"{x:2}\" for x in i]))\n",
    "ops = [0]\n",
    "print([x.i for x in list(r.lca(table, ops))])\n",
    "print_table(table)\n",
    "print(ops[0])"
   ]
  },
  {
   "cell_type": "code",
   "execution_count": 65,
   "metadata": {},
   "outputs": [
    {
     "data": {
      "text/plain": [
       "105.0"
      ]
     },
     "execution_count": 65,
     "metadata": {},
     "output_type": "execute_result"
    }
   ],
   "source": [
    "i[0] * (i[0] - 1) / 2"
   ]
  },
  {
   "cell_type": "code",
   "execution_count": 14,
   "metadata": {},
   "outputs": [],
   "source": [
    "import math\n",
    "class meshutils:\n",
    "    eps = 1e-5\n",
    "    @staticmethod\n",
    "    def get_tangents(plane):\n",
    "        if plane.x * plane.x < 0.5: # close enough to x=0 plane\n",
    "            t = bm.Vector((0, plane.z, -plane.y))\n",
    "        else:\n",
    "            t = bm.Vector((plane.z, 0, -plane.x))\n",
    "        t.normalize()\n",
    "        \n",
    "        return t, t.cross(plane.xyz)\n",
    "\n",
    "    @staticmethod\n",
    "    def cut_segment(segment, plane):\n",
    "        pass\n",
    "\n",
    "    @staticmethod\n",
    "    def classify_point(plane, point):\n",
    "        d = (plane.xyz @ point) - plane.w\n",
    "        if d > meshutils.eps:\n",
    "            return 0x1 # front\n",
    "        if d < -meshutils.eps:\n",
    "            return 0x2 # back\n",
    "        return 0x0 # in plane\n",
    "\n",
    "    @staticmethod\n",
    "    def point_positive(plane, point):\n",
    "        return ((plane.xyz @ point) - plane.w) > 0\n",
    "        \n",
    "    @staticmethod\n",
    "    def classify_face(plane, face):\n",
    "        res = 0\n",
    "        for v in face.verts[:]:\n",
    "            c = meshutils.classify_point(plane, v.co)\n",
    "            res |= c\n",
    "            if res == 0x3: # crossing\n",
    "                break\n",
    "        return res\n",
    "\n",
    "    @staticmethod\n",
    "    def get_plane(face):\n",
    "        return bm.Vector((*face.normal, face.normal @ face.verts[0].co))\n",
    "\n",
    "    @staticmethod\n",
    "    def slice_mesh(mesh, plane, clean_outer=True):\n",
    "        bmesh.ops.bisect_plane(mesh, geom=mesh.faces[:] + mesh.edges[:] + mesh.verts[:], \n",
    "            plane_co=plane.xyz * plane.w, plane_no=plane.xyz, clear_inner=not clean_outer, clean_outer=clean_outer)\n",
    "        bmesh.ops.holes_fill(mesh, edges=mesh.edges, sides=len(mesh.edges))\n",
    "        bmesh.ops.delete(mesh, geom=[x for x in mesh.faces if x.calc_area() < meshutils.eps], context='FACES')\n",
    "        for face in mesh.faces:\n",
    "            bmesh.ops.remove_doubles(mesh, verts=face.verts[:], dist=meshutils.eps)\n",
    "    @staticmethod\n",
    "    def split(mesh, plane):\n",
    "        # suboptimal (probably need to split before clean)\n",
    "        front = mesh.copy()\n",
    "        return (meshutils.slice_mesh(front, plane, False), meshutils.slice_mesh(mesh, plane, True))\n"
   ]
  },
  {
   "cell_type": "code",
   "execution_count": 7,
   "metadata": {},
   "outputs": [
    {
     "data": {
      "text/plain": [
       "([Vector((-1.0, -1.0, -1.0))], [0, 1, 2])"
      ]
     },
     "execution_count": 7,
     "metadata": {},
     "output_type": "execute_result"
    }
   ],
   "source": [
    "bm.geometry.points_in_planes([\n",
    "    bm.Vector(( 1, 0, 0, 1)),\n",
    "    bm.Vector(( 0, 1, 0, 1)),\n",
    "    bm.Vector(( 0, 0, 1, 1)),\n",
    "])"
   ]
  },
  {
   "cell_type": "code",
   "execution_count": null,
   "metadata": {},
   "outputs": [],
   "source": [
    "from enum import IntFlag\n",
    "import qsl\n",
    "\n",
    "class bsp_face_build_flags(IntFlag):\n",
    "    hint = qsl.Q_SURF_HINT # preferable splitter\n",
    "    areaportal = qsl.Q_CONT_AREAPORTAL # separates areas\n",
    "    translucent = qsl.Q_CONT_TRANSLUCENT # has geometry below (doesn't split areas)\n",
    "    nodraw = qsl.Q_SURF_NODRAW # doesn't present as face\n",
    "class bsp_face_flags(IntFlag):\n",
    "    slick = qsl.Q_SURF_SLICK\n",
    "    noimpact = qsl.Q_SURF_NOIMPACT\n",
    "    nomarks = qsl.Q_SURF_NOMARKS\n",
    "    nodamage = qsl.Q_SURF_NODAMAGE\n",
    "    noob = qsl.Q_SURF_NOOB\n",
    "    metalsteps = qsl.Q_SURF_METALSTEPS\n",
    "    flesh = qsl.Q_SURF_FLESH\n",
    "    nosteps = qsl.Q_SURF_NOSTEPS\n",
    "    dust = qsl.Q_SURF_DUST\n",
    "class bsp_content_flags(IntFlag): # affect brushes only\n",
    "    trigger = qsl.Q_CONT_TRIGGER\n",
    "    playerclip = qsl.Q_CONT_PLAYERCLIP\n",
    "    water = qsl.Q_CONT_WATER\n",
    "    slime = qsl.Q_CONT_SLIME\n",
    "    lava = qsl.Q_CONT_LAVA\n",
    "    nodrop = qsl.Q_CONT_NODROP\n",
    "    fog = qsl.Q_CONT_FOG\n",
    "\n",
    "class _bsp_sub:\n",
    "    @classmethod\n",
    "    def positive(cls, plane, point) -> bool:\n",
    "        raise\n",
    "    @classmethod\n",
    "    def classify(cls, plane, face) -> int:\n",
    "        raise\n",
    "    @classmethod\n",
    "    def split_volume(cls, vol, plane):\n",
    "        return ([], [])\n",
    "    @classmethod\n",
    "    def is_adjacent(cls, vol, plane) -> bool:\n",
    "        return False\n",
    "    def __init__(self, faces): #, volume):\n",
    "        self.plane = None\n",
    "        self.faces = faces\n",
    "        # self.volume = volume\n",
    "        self.child_f = None\n",
    "        self.child_b = None\n",
    "\n",
    "        self.sides = []\n",
    "\n",
    "    def split(self, plane):\n",
    "        if len(self.faces) == 0:\n",
    "            return\n",
    "        self.plane = plane\n",
    "        f = []\n",
    "        b = []\n",
    "        inc = []\n",
    "        for i in self.faces:\n",
    "            r = self.__class__.classify(plane, i)\n",
    "            if r == 0:\n",
    "                inc.append(i)\n",
    "            else:\n",
    "                if r & 0x1:\n",
    "                    f.append(i)\n",
    "                if r & 0x2:\n",
    "                    b.append(i)\n",
    "        \n",
    "        fv, bv = self.__class__.split_volume(self.volume, plane)\n",
    "        self.child_f = _bsp_sub(f, fv)\n",
    "        self.child_b = _bsp_sub(b, bv)\n",
    "        self.volume = None\n",
    "        self.faces = inc\n",
    "        yield self.child_f\n",
    "        yield self.child_b\n",
    "\n",
    "    def find(self, point):\n",
    "        c = self.__class__.positive(self.plane, point)\n",
    "        if c:\n",
    "            if self.child_f is not None:\n",
    "                return self.child_f.find(point)\n",
    "            return self\n",
    "        if self.child_b is not None:\n",
    "            return self.child_b.find(point)\n",
    "        return self\n",
    "\n",
    "    \n",
    "\n",
    "class bsp_sub_3d(_bsp_sub):\n",
    "    @classmethod\n",
    "    def positive(cls, plane, point) -> bool:\n",
    "        return meshutils.point_positive(plane, point)\n",
    "    @classmethod\n",
    "    def classify(cls, plane, face) -> int:\n",
    "        return meshutils.classify_face(plane, face)\n",
    "    @classmethod\n",
    "    def split_volume(cls, vol, plane):\n",
    "        return meshutils.split(vol, plane)\n",
    "\n",
    "class bsp_tree:\n",
    "    def __init__(self, mesh, flags: bsp_content_flags, mode='SUBTRACTIVE'):\n",
    "        self.mode = mode\n",
    "        self.mesh = bmesh.new()\n",
    "        self.mesh.from_mesh(mesh)\n",
    "        self.flags = flags\n",
    "        self._build_flags_layer = self.mesh.faces.layers.int(\"face_build_flags\")\n",
    "        self._flags_layer = self.mesh.faces.layers.int(\"face_flags\")\n",
    "\n",
    "\n",
    "    def _build_tree(self):\n",
    "        if len(self.faces) == 0:\n",
    "            return None\n",
    "        self.volume = box.bbox(self.mesh).create_box(m, 16)\n",
    "        self.faces = list(self.mesh.faces[:])\n",
    "        self.plane = None\n",
    "        # find best splitter\n",
    "\n",
    "    \n",
    "    def _pick_splitter(self, faces):\n",
    "        hint = None\n",
    "        areaportal = None\n",
    "        for i in self.faces:\n",
    "            if self._get_build_flag(i, bsp_face_build_flags.hint):\n",
    "                hint = i\n",
    "                break\n",
    "            if not areaportal and self._get_build_flag(i, bsp_face_build_flags.hint):\n",
    "                areaportal = i\n",
    "        if not hint:\n",
    "            hint = areaportal if areaportal else self.faces[0]\n",
    "        p = meshutils.get_plane(hint)\n",
    "\n",
    "\n",
    "\n",
    "    def _get_build_flag(self, face, flag):\n",
    "        pass"
   ]
  },
  {
   "cell_type": "code",
   "execution_count": 114,
   "metadata": {},
   "outputs": [
    {
     "data": {
      "text/plain": [
       "Vector((1.0, 0.0, 0.0, 1.0))"
      ]
     },
     "execution_count": 114,
     "metadata": {},
     "output_type": "execute_result"
    }
   ],
   "source": [
    "q = bm.Vector(( 1, 0, 0, 1))\n",
    "q.to_4d()"
   ]
  },
  {
   "cell_type": "code",
   "execution_count": 3,
   "metadata": {},
   "outputs": [],
   "source": [
    "m = bmesh.new()"
   ]
  },
  {
   "cell_type": "code",
   "execution_count": 4,
   "metadata": {},
   "outputs": [
    {
     "data": {
      "text/plain": [
       "[Vector((-4.0, -5.0, -5.0)),\n",
       " Vector((-4.0, -5.0, 5.0)),\n",
       " Vector((-4.0, 5.0, -5.0)),\n",
       " Vector((-4.0, 5.0, 5.0)),\n",
       " Vector((6.0, -5.0, -5.0)),\n",
       " Vector((6.0, -5.0, 5.0)),\n",
       " Vector((6.0, 5.0, -5.0)),\n",
       " Vector((6.0, 5.0, 5.0))]"
      ]
     },
     "execution_count": 4,
     "metadata": {},
     "output_type": "execute_result"
    }
   ],
   "source": [
    "bmesh.ops.create_cube(m, size=10, matrix=bm.Matrix.LocRotScale(bm.Vector((1, 0, 0)), None, None))\n",
    "[x.co for x in m.verts]"
   ]
  },
  {
   "cell_type": "code",
   "execution_count": 6,
   "metadata": {},
   "outputs": [],
   "source": [
    "m.faces.ensure_lookup_table()"
   ]
  },
  {
   "cell_type": "code",
   "execution_count": 81,
   "metadata": {},
   "outputs": [],
   "source": [
    "bb = box.bbox(m)"
   ]
  },
  {
   "cell_type": "code",
   "execution_count": 82,
   "metadata": {},
   "outputs": [
    {
     "data": {
      "text/plain": [
       "17.320508075688775"
      ]
     },
     "execution_count": 82,
     "metadata": {},
     "output_type": "execute_result"
    }
   ],
   "source": [
    "bb.radius()"
   ]
  },
  {
   "cell_type": "code",
   "execution_count": 42,
   "metadata": {},
   "outputs": [
    {
     "name": "stdout",
     "output_type": "stream",
     "text": [
      "<Matrix 4x4 (20.0000,  0.0000,  0.0000, 1.0000)\n",
      "            ( 0.0000, 20.0000,  0.0000, 0.0000)\n",
      "            ( 0.0000,  0.0000, 20.0000, 0.0000)\n",
      "            ( 0.0000,  0.0000,  0.0000, 1.0000)>\n"
     ]
    },
    {
     "data": {
      "text/plain": [
       "[Vector((-9.0, -10.0, -10.0)),\n",
       " Vector((-9.0, -10.0, 10.0)),\n",
       " Vector((-9.0, 10.0, -10.0)),\n",
       " Vector((-9.0, 10.0, 10.0)),\n",
       " Vector((11.0, -10.0, -10.0)),\n",
       " Vector((11.0, -10.0, 10.0)),\n",
       " Vector((11.0, 10.0, -10.0)),\n",
       " Vector((11.0, 10.0, 10.0))]"
      ]
     },
     "execution_count": 42,
     "metadata": {},
     "output_type": "execute_result"
    }
   ],
   "source": [
    "u = bmesh.new()\n",
    "bb.create_box(u, 5)\n",
    "u.verts.ensure_lookup_table()\n",
    "[x.co for x in u.verts[:]]"
   ]
  },
  {
   "cell_type": "code",
   "execution_count": 152,
   "metadata": {},
   "outputs": [],
   "source": [
    "flags_layer = m.faces.layers.int.new(\"flags\")"
   ]
  },
  {
   "cell_type": "code",
   "execution_count": 153,
   "metadata": {},
   "outputs": [],
   "source": [
    "f = m.faces[0]"
   ]
  },
  {
   "cell_type": "code",
   "execution_count": 154,
   "metadata": {},
   "outputs": [],
   "source": [
    "f[flags_layer] = 123"
   ]
  },
  {
   "cell_type": "code",
   "execution_count": 158,
   "metadata": {},
   "outputs": [
    {
     "data": {
      "text/plain": [
       "123"
      ]
     },
     "execution_count": 158,
     "metadata": {},
     "output_type": "execute_result"
    }
   ],
   "source": [
    "f[m.faces.layers.int[\"flags\"]]"
   ]
  },
  {
   "cell_type": "code",
   "execution_count": 162,
   "metadata": {},
   "outputs": [
    {
     "ename": "AttributeError",
     "evalue": "'BMElemSeq' object has no attribute 'layers'",
     "output_type": "error",
     "traceback": [
      "\u001b[0;31m---------------------------------------------------------------------------\u001b[0m",
      "\u001b[0;31mAttributeError\u001b[0m                            Traceback (most recent call last)",
      "\u001b[1;32m/home/rantrave/projects/py-bsp/bsp-refactor.ipynb Cell 27\u001b[0m in \u001b[0;36m<cell line: 1>\u001b[0;34m()\u001b[0m\n\u001b[0;32m----> <a href='vscode-notebook-cell:/home/rantrave/projects/py-bsp/bsp-refactor.ipynb#Y101sZmlsZQ%3D%3D?line=0'>1</a>\u001b[0m f\u001b[39m.\u001b[39;49medges\u001b[39m.\u001b[39;49mlayers\n",
      "\u001b[0;31mAttributeError\u001b[0m: 'BMElemSeq' object has no attribute 'layers'"
     ]
    }
   ],
   "source": [
    "f.edges.layers"
   ]
  },
  {
   "cell_type": "code",
   "execution_count": 13,
   "metadata": {},
   "outputs": [
    {
     "data": {
      "text/plain": [
       "Vector((-1.0, -0.0, 0.0, 4.0))"
      ]
     },
     "execution_count": 13,
     "metadata": {},
     "output_type": "execute_result"
    }
   ],
   "source": [
    "bm.Vector((*f.normal, f.verts[0].co @ f.normal))"
   ]
  },
  {
   "cell_type": "code",
   "execution_count": 33,
   "metadata": {},
   "outputs": [],
   "source": [
    "m0 = bpy.data.meshes.new(\"m0\")"
   ]
  },
  {
   "cell_type": "code",
   "execution_count": 38,
   "metadata": {},
   "outputs": [],
   "source": [
    "o0 = bpy.data.objects.new(\"o0\", object_data=m0)"
   ]
  },
  {
   "cell_type": "code",
   "execution_count": 40,
   "metadata": {},
   "outputs": [],
   "source": [
    "m.to_mesh(m0)"
   ]
  },
  {
   "cell_type": "code",
   "execution_count": 44,
   "metadata": {},
   "outputs": [],
   "source": [
    "p0 = o0.data.polygons[0]"
   ]
  },
  {
   "cell_type": "code",
   "execution_count": 49,
   "metadata": {},
   "outputs": [],
   "source": [
    "mm = bmesh.new()\n",
    "mm.from_mesh(m0)"
   ]
  },
  {
   "cell_type": "code",
   "execution_count": 60,
   "metadata": {},
   "outputs": [
    {
     "data": {
      "text/plain": [
       "123"
      ]
     },
     "execution_count": 60,
     "metadata": {},
     "output_type": "execute_result"
    }
   ],
   "source": [
    "mm.faces[0][mm.faces.layers.int[\"flags\"]]"
   ]
  },
  {
   "cell_type": "code",
   "execution_count": 67,
   "metadata": {},
   "outputs": [],
   "source": [
    "v = m.verts[0].co"
   ]
  },
  {
   "cell_type": "code",
   "execution_count": 72,
   "metadata": {},
   "outputs": [
    {
     "data": {
      "text/plain": [
       "[Vector((-4.0, -5.0, -5.0)),\n",
       " Vector((-4.0, -5.0, 5.0)),\n",
       " Vector((-4.0, 5.0, -5.0)),\n",
       " Vector((-4.0, 5.0, 5.0)),\n",
       " Vector((6.0, -5.0, -5.0)),\n",
       " Vector((6.0, -5.0, 5.0)),\n",
       " Vector((6.0, 5.0, -5.0)),\n",
       " Vector((6.0, 5.0, 5.0)),\n",
       " Vector((-4.0, -1.0, 5.0)),\n",
       " Vector((-4.0, 5.0, -1.0)),\n",
       " Vector((0.0, 5.0, -5.0)),\n",
       " Vector((6.0, -1.0, -5.0)),\n",
       " Vector((6.0, -5.0, -1.0)),\n",
       " Vector((0.0, -5.0, 5.0))]"
      ]
     },
     "execution_count": 72,
     "metadata": {},
     "output_type": "execute_result"
    }
   ],
   "source": [
    "[x.co for x in m.verts[:]]"
   ]
  },
  {
   "cell_type": "code",
   "execution_count": 71,
   "metadata": {},
   "outputs": [
    {
     "data": {
      "text/plain": [
       "{'geom_cut': [<BMVert(0x5646f6fab6f0), index=8>,\n",
       "  <BMVert(0x5646f6fab728), index=9>,\n",
       "  <BMVert(0x5646f6fab760), index=10>,\n",
       "  <BMVert(0x5646f6fab798), index=11>,\n",
       "  <BMVert(0x5646f6fab7d0), index=12>,\n",
       "  <BMVert(0x5646f6fab808), index=13>,\n",
       "  <BMEdge(0x5646f6fb3ab0), index=18, verts=(0x5646f6fab7d0/12, 0x5646f6fab808/13)>,\n",
       "  <BMEdge(0x5646f6fb3b00), index=19, verts=(0x5646f6fab7d0/12, 0x5646f6fab798/11)>,\n",
       "  <BMEdge(0x5646f6fb3b50), index=20, verts=(0x5646f6fab760/10, 0x5646f6fab798/11)>,\n",
       "  <BMEdge(0x5646f6fb3ba0), index=21, verts=(0x5646f6fab728/9, 0x5646f6fab760/10)>,\n",
       "  <BMEdge(0x5646f6fb3bf0), index=22, verts=(0x5646f6fab6f0/8, 0x5646f6fab728/9)>,\n",
       "  <BMEdge(0x5646f6fb3c40), index=23, verts=(0x5646f6fab6f0/8, 0x5646f6fab808/13)>],\n",
       " 'geom': [<BMVert(0x5646f6fab530), index=0>,\n",
       "  <BMVert(0x5646f6fab568), index=1>,\n",
       "  <BMVert(0x5646f6fab5a0), index=2>,\n",
       "  <BMVert(0x5646f6fab5d8), index=3>,\n",
       "  <BMVert(0x5646f6fab610), index=4>,\n",
       "  <BMVert(0x5646f6fab648), index=5>,\n",
       "  <BMVert(0x5646f6fab680), index=6>,\n",
       "  <BMVert(0x5646f6fab6b8), index=7>,\n",
       "  <BMVert(0x5646f6fab6f0), index=8>,\n",
       "  <BMVert(0x5646f6fab728), index=9>,\n",
       "  <BMVert(0x5646f6fab760), index=10>,\n",
       "  <BMVert(0x5646f6fab798), index=11>,\n",
       "  <BMVert(0x5646f6fab7d0), index=12>,\n",
       "  <BMVert(0x5646f6fab808), index=13>,\n",
       "  <BMEdge(0x5646f6fb3510), index=0, verts=(0x5646f6fab5a0/2, 0x5646f6fab530/0)>,\n",
       "  <BMEdge(0x5646f6fb3560), index=1, verts=(0x5646f6fab530/0, 0x5646f6fab568/1)>,\n",
       "  <BMEdge(0x5646f6fb35b0), index=2, verts=(0x5646f6fab6f0/8, 0x5646f6fab5d8/3)>,\n",
       "  <BMEdge(0x5646f6fb3600), index=3, verts=(0x5646f6fab728/9, 0x5646f6fab5a0/2)>,\n",
       "  <BMEdge(0x5646f6fb3650), index=4, verts=(0x5646f6fab760/10, 0x5646f6fab5a0/2)>,\n",
       "  <BMEdge(0x5646f6fb36a0), index=5, verts=(0x5646f6fab5d8/3, 0x5646f6fab6b8/7)>,\n",
       "  <BMEdge(0x5646f6fb36f0), index=6, verts=(0x5646f6fab6b8/7, 0x5646f6fab680/6)>,\n",
       "  <BMEdge(0x5646f6fb3740), index=7, verts=(0x5646f6fab798/11, 0x5646f6fab680/6)>,\n",
       "  <BMEdge(0x5646f6fb3790), index=8, verts=(0x5646f6fab6b8/7, 0x5646f6fab648/5)>,\n",
       "  <BMEdge(0x5646f6fb37e0), index=9, verts=(0x5646f6fab7d0/12, 0x5646f6fab610/4)>,\n",
       "  <BMEdge(0x5646f6fb3830), index=10, verts=(0x5646f6fab530/0, 0x5646f6fab610/4)>,\n",
       "  <BMEdge(0x5646f6fb3880), index=11, verts=(0x5646f6fab808/13, 0x5646f6fab568/1)>,\n",
       "  <BMEdge(0x5646f6fb38d0), index=12, verts=(0x5646f6fab568/1, 0x5646f6fab6f0/8)>,\n",
       "  <BMEdge(0x5646f6fb3920), index=13, verts=(0x5646f6fab5d8/3, 0x5646f6fab728/9)>,\n",
       "  <BMEdge(0x5646f6fb3970), index=14, verts=(0x5646f6fab680/6, 0x5646f6fab760/10)>,\n",
       "  <BMEdge(0x5646f6fb39c0), index=15, verts=(0x5646f6fab610/4, 0x5646f6fab798/11)>,\n",
       "  <BMEdge(0x5646f6fb3a10), index=16, verts=(0x5646f6fab648/5, 0x5646f6fab7d0/12)>,\n",
       "  <BMEdge(0x5646f6fb3a60), index=17, verts=(0x5646f6fab648/5, 0x5646f6fab808/13)>,\n",
       "  <BMEdge(0x5646f6fb3ab0), index=18, verts=(0x5646f6fab7d0/12, 0x5646f6fab808/13)>,\n",
       "  <BMEdge(0x5646f6fb3b00), index=19, verts=(0x5646f6fab7d0/12, 0x5646f6fab798/11)>,\n",
       "  <BMEdge(0x5646f6fb3b50), index=20, verts=(0x5646f6fab760/10, 0x5646f6fab798/11)>,\n",
       "  <BMEdge(0x5646f6fb3ba0), index=21, verts=(0x5646f6fab728/9, 0x5646f6fab760/10)>,\n",
       "  <BMEdge(0x5646f6fb3bf0), index=22, verts=(0x5646f6fab6f0/8, 0x5646f6fab728/9)>,\n",
       "  <BMEdge(0x5646f6fb3c40), index=23, verts=(0x5646f6fab6f0/8, 0x5646f6fab808/13)>,\n",
       "  <BMFace(0x5646f70134f0), index=0, totverts=3>,\n",
       "  <BMFace(0x5646f7013528), index=1, totverts=5>,\n",
       "  <BMFace(0x5646f7013560), index=2, totverts=3>,\n",
       "  <BMFace(0x5646f7013598), index=3, totverts=3>,\n",
       "  <BMFace(0x5646f70135d0), index=4, totverts=3>,\n",
       "  <BMFace(0x5646f7013608), index=5, totverts=3>,\n",
       "  <BMFace(0x5646f7013640), index=6, totverts=5>,\n",
       "  <BMFace(0x5646f7013678), index=7, totverts=5>,\n",
       "  <BMFace(0x5646f70136b0), index=8, totverts=5>,\n",
       "  <BMFace(0x5646f70136e8), index=9, totverts=3>,\n",
       "  <BMFace(0x5646f7013720), index=10, totverts=5>,\n",
       "  <BMFace(0x5646f7013758), index=11, totverts=5>]}"
      ]
     },
     "execution_count": 71,
     "metadata": {},
     "output_type": "execute_result"
    }
   ],
   "source": [
    "plane = bm.Vector((1.0, 1.0, 1.0, 0.0))\n",
    "bmesh.ops.bisect_plane(m, geom=m.faces[:] + m.edges[:] + m.verts[:], \n",
    "            plane_co=plane.xyz * plane.w, plane_no=plane.xyz)"
   ]
  },
  {
   "cell_type": "code",
   "execution_count": 7,
   "metadata": {},
   "outputs": [
    {
     "data": {
      "text/plain": [
       "(Vector((1.5, 0.0, 1.5)),\n",
       " Vector((-0.7071067690849304, 0.0, 0.7071067690849304)))"
      ]
     },
     "execution_count": 7,
     "metadata": {},
     "output_type": "execute_result"
    }
   ],
   "source": [
    "p0 = bm.Vector((1, 1, 1, 1))\n",
    "p1 = bm.Vector((0, 1, 0, 0))\n",
    "def pp(p):\n",
    "    return p.xyz * p.w, p.xyz\n",
    "bm.geometry.intersect_plane_plane(*pp(p0), *pp(p1))"
   ]
  },
  {
   "cell_type": "code",
   "execution_count": 21,
   "metadata": {},
   "outputs": [
    {
     "data": {
      "text/plain": [
       "Vector((1.1920928955078125e-07, 1.1920928955078125e-07, 1.1920928955078125e-07))"
      ]
     },
     "execution_count": 21,
     "metadata": {},
     "output_type": "execute_result"
    }
   ],
   "source": [
    "bm.Matrix.OrthoProjection(p0.xyz, 3) @ bm.Vector((2, 2, 2))"
   ]
  },
  {
   "cell_type": "code",
   "execution_count": 3,
   "metadata": {},
   "outputs": [
    {
     "data": {
      "text/plain": [
       "Matrix(((7.549790126404332e-08, -1.0, 0.0),\n",
       "        (1.0, 7.549790126404332e-08, 0.0),\n",
       "        (0.0, 0.0, 1.0)))"
      ]
     },
     "execution_count": 3,
     "metadata": {},
     "output_type": "execute_result"
    }
   ],
   "source": [
    "bm.Matrix.Rotation(3.14159256 / 2, 3, 'Z')"
   ]
  },
  {
   "cell_type": "code",
   "execution_count": 16,
   "metadata": {},
   "outputs": [],
   "source": [
    "def p(pp):\n",
    "    ppp = bm.Vector(pp)\n",
    "    return bm.Vector((*ppp.xy.normalized(), ppp.z / ppp.xy.length))"
   ]
  },
  {
   "cell_type": "code",
   "execution_count": 42,
   "metadata": {},
   "outputs": [],
   "source": [
    "r = bm.Matrix(((0, -1), (1, 0)))\n",
    "sgn = bm.Vector((1, -1))\n",
    "def solve(p0, p1):\n",
    "    D = (r @ p0.xy) @ p1.xy\n",
    "    if D < -1e-5:\n",
    "        pass\n",
    "    elif D > 1e-5:\n",
    "        pass\n",
    "    else:\n",
    "        return None\n",
    "    m = bm.Matrix((p0.xy, p1.xy)).transposed()\n",
    "    d = r @ bm.Vector((p0.z, p1.z))\n",
    "    Dxy = m @ d\n",
    "    return Dxy / D * sgn"
   ]
  },
  {
   "cell_type": "code",
   "execution_count": 43,
   "metadata": {},
   "outputs": [],
   "source": [
    "p0 = p((2, 1, -3))\n",
    "p1 = p((4, 2, -4))"
   ]
  },
  {
   "cell_type": "code",
   "execution_count": 44,
   "metadata": {},
   "outputs": [],
   "source": [
    "solve(p0, p1)"
   ]
  },
  {
   "cell_type": "code",
   "execution_count": 28,
   "metadata": {},
   "outputs": [
    {
     "data": {
      "text/plain": [
       "Matrix(((0.8944271802902222, 0.3162277638912201),\n",
       "        (0.4472135901451111, 0.9486832618713379)))"
      ]
     },
     "execution_count": 28,
     "metadata": {},
     "output_type": "execute_result"
    }
   ],
   "source": [
    "m.to_2x2().transposed()"
   ]
  },
  {
   "cell_type": "code",
   "execution_count": 31,
   "metadata": {},
   "outputs": [
    {
     "ename": "TypeError",
     "evalue": "'MatrixAccess' object is not callable",
     "output_type": "error",
     "traceback": [
      "\u001b[0;31m---------------------------------------------------------------------------\u001b[0m",
      "\u001b[0;31mTypeError\u001b[0m                                 Traceback (most recent call last)",
      "\u001b[1;32m/home/rantrave/projects/py-bsp/bsp-refactor.ipynb Cell 34\u001b[0m in \u001b[0;36m<cell line: 1>\u001b[0;34m()\u001b[0m\n\u001b[0;32m----> <a href='vscode-notebook-cell:/home/rantrave/projects/py-bsp/bsp-refactor.ipynb#X46sZmlsZQ%3D%3D?line=0'>1</a>\u001b[0m m\u001b[39m.\u001b[39;49mcol(\u001b[39m2\u001b[39;49m)\n",
      "\u001b[0;31mTypeError\u001b[0m: 'MatrixAccess' object is not callable"
     ]
    }
   ],
   "source": [
    "m.col(2)"
   ]
  },
  {
   "cell_type": "code",
   "execution_count": 24,
   "metadata": {},
   "outputs": [],
   "source": [
    "\n",
    "def unique_intersection(left, right):\n",
    "    if len(left) == 0 or len(right) == 0:\n",
    "        return []\n",
    "    result = []\n",
    "    i0 = 0\n",
    "    i1 = 0\n",
    "    if left[0] < right[0]:\n",
    "        rt = right\n",
    "        right = left\n",
    "        left = rt\n",
    "\n",
    "    while i0 < len(left) and i1 < len(right):\n",
    "        if left[i0] == right[i1]:\n",
    "            if len(result) == 0 or left[i0] != result[-1]:\n",
    "                result.append(left[i0])\n",
    "            i0+=1\n",
    "        i1+=1\n",
    "        \n",
    "    return result"
   ]
  },
  {
   "cell_type": "code",
   "execution_count": 26,
   "metadata": {},
   "outputs": [
    {
     "data": {
      "text/plain": [
       "[1, 2, 7]"
      ]
     },
     "execution_count": 26,
     "metadata": {},
     "output_type": "execute_result"
    }
   ],
   "source": [
    "a = [1, 2, 2, 3, 4, 5, 7, 12]\n",
    "b= [1, 2, 7, 9]\n",
    "unique_intersection(b, a)"
   ]
  },
  {
   "cell_type": "code",
   "execution_count": 149,
   "metadata": {},
   "outputs": [],
   "source": [
    "class leaf:\n",
    "    def __init__(self, flag):\n",
    "        self.flag = flag\n",
    "        \n",
    "    def add(self, n):\n",
    "        n.f = leaf(self.flag)\n",
    "        n.b = leaf(self.flag)\n",
    "        return n    \n",
    "\n",
    "    def csg(self, t, op):\n",
    "        if isinstance(t, leaf):\n",
    "            self.flag = op(self.flag, t.flag)\n",
    "            return self\n",
    "        else:\n",
    "            res = self.add(t)\n",
    "            res._f = res._f.csg(t._f, op)\n",
    "            res._b = res._b.csg(t._b, op)\n",
    "            return res\n",
    "    def print(self, d=0):\n",
    "        return f\"{' '*d}leaf: {self.flag}\"\n",
    "        \n",
    "class node1d:\n",
    "    def __init__(self, n, d, f, b):\n",
    "        self.n = n\n",
    "        self.d = d\n",
    "    \n",
    "        self._f = f\n",
    "        self._b = b\n",
    "        \n",
    "    def classify(self, n):\n",
    "        nn = self.n * n.n\n",
    "        # dd = n.n * self.d - n.d * self.n\n",
    "        dd = self.d - nn * n.d\n",
    "        if dd < -1e-3: return 0x1 # front\n",
    "        if dd >  1e-3: return 0x2 # back\n",
    "        if nn > 0.0: return 0x0 # incident\n",
    "        return 0x4 # opposite\n",
    "    \n",
    "    def instance(self):\n",
    "        return node1d(self.n, self.d, None, None)\n",
    "    \n",
    "    def add(self, n):\n",
    "        c = self.classify(n)\n",
    "        if c == 0x1:\n",
    "            self._f = self._f.add(n)\n",
    "        elif c == 0x2:\n",
    "            self._b = self._b.add(n)\n",
    "        return self\n",
    "        \n",
    "    def csg(self, t, op):\n",
    "        if isinstance(t, leaf):\n",
    "            self._f = self._f.csg(t, op)\n",
    "            self._b = self._b.csg(t, op)\n",
    "            return self\n",
    "        else:\n",
    "            res = self.add(t)\n",
    "            res._f = res._f.csg(t._f, op)\n",
    "            res._b = res._b.csg(t._b, op)\n",
    "            return res\n",
    "    def print(self, d=0):\n",
    "        return f\"{' ' * d}{self.n} {self.d}:\\n{self._b.print(d + 2)}\\n{self._f.print(d + 2)}\""
   ]
  },
  {
   "cell_type": "code",
   "execution_count": 143,
   "metadata": {},
   "outputs": [
    {
     "name": "stdout",
     "output_type": "stream",
     "text": [
      "1\n",
      "1\n"
     ]
    }
   ],
   "source": [
    "a = node1d(1.0, 1.0, None, None)\n",
    "b0 = node1d(1.0, 3.0, None, None)\n",
    "b1 = node1d(-b0.n, -b0.d, None, None)\n",
    "print(a.classify(b0))\n",
    "print(a.classify(b1))"
   ]
  },
  {
   "cell_type": "code",
   "execution_count": 150,
   "metadata": {},
   "outputs": [],
   "source": [
    "import operator\n",
    "\n",
    "\n",
    "r0 = node1d(1.0, 1.0, leaf(0), leaf(1))\n",
    "r1 = node1d(-1.0, 0.0, leaf(0), leaf(1))\n",
    "s0 = r0.csg(r1, operator.__and__)\n",
    "\n",
    "r2 = node1d(1.0, 5.0, leaf(0), leaf(1))\n",
    "r3 = node1d(-1.0, 4.0, leaf(0), leaf(1))\n",
    "s1 = r2.csg(r3, operator.__and__)\n",
    "\n",
    "s = s0.csg(s1, operator.__or__)"
   ]
  },
  {
   "cell_type": "code",
   "execution_count": 151,
   "metadata": {},
   "outputs": [
    {
     "name": "stdout",
     "output_type": "stream",
     "text": [
      "1.0 1.0:\n",
      "  -1.0 0.0:\n",
      "    leaf: 1\n",
      "    -1.0 4.0:\n",
      "      leaf: 1\n",
      "      leaf: 0\n",
      "  1.0 5.0:\n",
      "    -1.0 4.0:\n",
      "      leaf: 1\n",
      "      leaf: 0\n",
      "    leaf: 0\n"
     ]
    }
   ],
   "source": [
    "print(s.print())"
   ]
  },
  {
   "cell_type": "code",
   "execution_count": null,
   "metadata": {},
   "outputs": [],
   "source": []
  }
 ],
 "metadata": {
  "kernelspec": {
   "display_name": "Python 3.10.4 ('bpy')",
   "language": "python",
   "name": "python3"
  },
  "language_info": {
   "codemirror_mode": {
    "name": "ipython",
    "version": 3
   },
   "file_extension": ".py",
   "mimetype": "text/x-python",
   "name": "python",
   "nbconvert_exporter": "python",
   "pygments_lexer": "ipython3",
   "version": "3.10.4"
  },
  "orig_nbformat": 4,
  "vscode": {
   "interpreter": {
    "hash": "d54fb17bf6b4383f1a7688ab18e7f2d0828352b60a90516ac18b5bd1f0cacbaf"
   }
  }
 },
 "nbformat": 4,
 "nbformat_minor": 2
}
